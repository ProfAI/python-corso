{
 "cells": [
  {
   "cell_type": "markdown",
   "metadata": {
    "colab_type": "text",
    "id": "view-in-github"
   },
   "source": [
    "<a href=\"https://colab.research.google.com/github/ProfAI/py4ai/blob/master/5%20-%20Programmazione%20Procedurale%20e%20Funzioni/functions.ipynb\" target=\"_parent\"><img src=\"https://colab.research.google.com/assets/colab-badge.svg\" alt=\"Open In Colab\"/></a>"
   ]
  },
  {
   "cell_type": "markdown",
   "metadata": {
    "colab_type": "text",
    "id": "GfV3QBKMNWPu"
   },
   "source": [
    "# La Programmazione Procedurale\n",
    "La programmazione procedurale è un paradigma di programmazione che si basa sull'organizzare il codice in funzioni (chiamate anche procedure) che vengono invocate quando necessario."
   ]
  },
  {
   "cell_type": "markdown",
   "metadata": {
    "colab_type": "text",
    "id": "UdvmWm8dZOnQ"
   },
   "source": [
    "## Le Funzioni\n",
    "Possiamo definire una nuova funzione utilizzando lo statement *def*, seguito dal nome della funzione e parentesi tonde."
   ]
  },
  {
   "cell_type": "code",
   "execution_count": 1,
   "metadata": {
    "colab": {
     "base_uri": "https://localhost:8080/",
     "height": 35
    },
    "colab_type": "code",
    "id": "nVdzUew7ZXGN",
    "outputId": "bf401a8e-e9e5-4bae-b31e-f91e579e7df6"
   },
   "outputs": [],
   "source": [
    "def say_hello():\n",
    "  print(\"Say hello\")"
   ]
  },
  {
   "cell_type": "markdown",
   "metadata": {},
   "source": [
    "Una volta definita una funzione possiamo invocarla utilizzando il suo nome."
   ]
  },
  {
   "cell_type": "code",
   "execution_count": 2,
   "metadata": {
    "scrolled": true
   },
   "outputs": [
    {
     "name": "stdout",
     "output_type": "stream",
     "text": [
      "Say hello\n"
     ]
    }
   ],
   "source": [
    "say_hello()"
   ]
  },
  {
   "cell_type": "markdown",
   "metadata": {},
   "source": [
    "### Parametri della funzione"
   ]
  },
  {
   "cell_type": "markdown",
   "metadata": {},
   "source": [
    "Una funzione può anche ricevere dei dati in ingresso, chimati argomenti o parametri, che verranno utilizzati al suo interno."
   ]
  },
  {
   "cell_type": "code",
   "execution_count": 4,
   "metadata": {
    "colab": {
     "base_uri": "https://localhost:8080/",
     "height": 35
    },
    "colab_type": "code",
    "id": "JNdMWUMxZfFZ",
    "outputId": "fcdb3f13-f4de-4ecb-f7dd-dcbbcdc23dfa"
   },
   "outputs": [
    {
     "name": "stdout",
     "output_type": "stream",
     "text": [
      "Say bye bye\n"
     ]
    }
   ],
   "source": [
    "def say_something(something):\n",
    "  print(\"Say \"+something)\n",
    "\n",
    "say_something(\"bye bye\") # passiamo la stringa 'bye bye' come valore del parametro something."
   ]
  },
  {
   "cell_type": "markdown",
   "metadata": {},
   "source": [
    "Se una funzione che richiede degli argomenti viene invocata senza, allora viene generata un'eccezione di tipo *TypeError*."
   ]
  },
  {
   "cell_type": "code",
   "execution_count": 8,
   "metadata": {
    "colab": {
     "base_uri": "https://localhost:8080/",
     "height": 166
    },
    "colab_type": "code",
    "id": "TmQUnJC0aOaR",
    "outputId": "f1a36e8b-f63d-40fc-8bad-24fb047f62f4"
   },
   "outputs": [
    {
     "ename": "TypeError",
     "evalue": "ignored",
     "output_type": "error",
     "traceback": [
      "\u001b[0;31m---------------------------------------------------------------------------\u001b[0m",
      "\u001b[0;31mTypeError\u001b[0m                                 Traceback (most recent call last)",
      "\u001b[0;32m<ipython-input-8-3ac846c20982>\u001b[0m in \u001b[0;36m<module>\u001b[0;34m()\u001b[0m\n\u001b[0;32m----> 1\u001b[0;31m \u001b[0msay_something\u001b[0m\u001b[0;34m(\u001b[0m\u001b[0;34m)\u001b[0m\u001b[0;34m\u001b[0m\u001b[0;34m\u001b[0m\u001b[0m\n\u001b[0m",
      "\u001b[0;31mTypeError\u001b[0m: say_something() missing 1 required positional argument: 'something'"
     ]
    }
   ],
   "source": [
    "say_something()"
   ]
  },
  {
   "cell_type": "markdown",
   "metadata": {},
   "source": [
    "Fortunatamente è possibile utilizzare dei valore di default che verranno utilizzati nel caso in cui non passassimo l'argomento."
   ]
  },
  {
   "cell_type": "code",
   "execution_count": 5,
   "metadata": {
    "colab": {
     "base_uri": "https://localhost:8080/",
     "height": 35
    },
    "colab_type": "code",
    "id": "OjAkPKqgaKUS",
    "outputId": "b0934e41-aea5-45b8-c1d8-d8f774819060"
   },
   "outputs": [
    {
     "name": "stdout",
     "output_type": "stream",
     "text": [
      "Say I love you\n",
      "Say something\n"
     ]
    }
   ],
   "source": [
    "def say_something(something=\"something\"):\n",
    "  print(\"Say \"+something)\n",
    "\n",
    "\n",
    "say_something(something=\"I love you\")\n",
    "say_something()"
   ]
  },
  {
   "cell_type": "markdown",
   "metadata": {},
   "source": [
    "### Valore di ritorno\n",
    "Una funzione può anche ritornare un valore che ha elaborato, utilizzando lo statement return."
   ]
  },
  {
   "cell_type": "code",
   "execution_count": 6,
   "metadata": {
    "colab": {
     "base_uri": "https://localhost:8080/",
     "height": 35
    },
    "colab_type": "code",
    "id": "kkgWbopRaUeB",
    "outputId": "e2e76074-aa8a-42ec-c7fe-5c08a612493e"
   },
   "outputs": [
    {
     "name": "stdout",
     "output_type": "stream",
     "text": [
      "Say arrivederci\n"
     ]
    }
   ],
   "source": [
    "def say_something(something=\"something\"):\n",
    "  say = \"Say \"+something\n",
    "  return say\n",
    "\n",
    "say = say_something(\"arrivederci\")\n",
    "print(say)"
   ]
  },
  {
   "cell_type": "markdown",
   "metadata": {},
   "source": [
    "## Qualche altro esempio"
   ]
  },
  {
   "cell_type": "markdown",
   "metadata": {},
   "source": [
    "**ES. 1: Area del Triangolo**"
   ]
  },
  {
   "cell_type": "code",
   "execution_count": 9,
   "metadata": {},
   "outputs": [
    {
     "name": "stdout",
     "output_type": "stream",
     "text": [
      "L'area del triangolo con base 5.00 e altezza 3.00 è 7.50\n"
     ]
    }
   ],
   "source": [
    "def compute_area(b,h):\n",
    "    return b*h/2\n",
    "\n",
    "\n",
    "b = float(input(\"Inserisci la base del triangolo: \"))\n",
    "h = float(input(\"Inserisci l'altezza del triangolo: \"))\n",
    "\n",
    "area = compute_area(b, h)\n",
    "\n",
    "print(\"L'area del triangolo con base %.2f e altezza %.2f è %.2f\" %(b,h,area))"
   ]
  },
  {
   "cell_type": "markdown",
   "metadata": {},
   "source": [
    "**ES. 2: Stampa lista della spesa**"
   ]
  },
  {
   "cell_type": "code",
   "execution_count": 7,
   "metadata": {
    "colab": {
     "base_uri": "https://localhost:8080/",
     "height": 104
    },
    "colab_type": "code",
    "id": "iokVslrXbMaX",
    "outputId": "b933bd11-605a-4154-aeb4-a66f7e61ad59"
   },
   "outputs": [
    {
     "name": "stdout",
     "output_type": "stream",
     "text": [
      "La lista della spesa di Giuseppe:\n",
      "1) tofu\n",
      "2) latte di soia\n",
      "3) riso basmati\n",
      "4) yogurt greco\n",
      "\n",
      "\n",
      "La lista della spesa di Elon:\n",
      "1) croccantini \n",
      "2) latte\n",
      "3) scatolette di tonno\n",
      "4) plutonio\n"
     ]
    }
   ],
   "source": [
    "def print_shopping_list(shopping_list, owner=\"Giuseppe\"):\n",
    "  \n",
    "  print(\"La lista della spesa di %s:\" % owner)\n",
    "  \n",
    "  for i, entry in enumerate(shopping_list):\n",
    "    print(\"%d) %s\" % (i+1, entry))\n",
    "    \n",
    "   \n",
    "shopping_list = [\"tofu\", \"latte di soia\", \"riso basmati\",\"yogurt greco\"]\n",
    "print_shopping_list(shopping_list)\n",
    "\n",
    "print(\"\\n\") # Stampiamo una linea vuota per separare le due stringhe\n",
    "\n",
    "shopping_list = [\"croccantini \", \"latte\", \"scatolette di tonno\",\"plutonio\"]\n",
    "print_shopping_list(shopping_list, owner=\"Elon\") # Elon è il nome del mio gatto :)"
   ]
  }
 ],
 "metadata": {
  "colab": {
   "include_colab_link": true,
   "name": "functions.ipynb",
   "provenance": []
  },
  "kernelspec": {
   "display_name": "Python 3",
   "language": "python",
   "name": "python3"
  },
  "language_info": {
   "codemirror_mode": {
    "name": "ipython",
    "version": 3
   },
   "file_extension": ".py",
   "mimetype": "text/x-python",
   "name": "python",
   "nbconvert_exporter": "python",
   "pygments_lexer": "ipython3",
   "version": "3.7.4"
  }
 },
 "nbformat": 4,
 "nbformat_minor": 1
}
