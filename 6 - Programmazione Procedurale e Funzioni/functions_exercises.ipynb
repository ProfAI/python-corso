{
 "cells": [
  {
   "cell_type": "markdown",
   "metadata": {
    "colab_type": "text",
    "id": "view-in-github"
   },
   "source": [
    "<a href=\"https://colab.research.google.com/github/ProfAI/py4ai/blob/master/5%20-%20Programmazione%20Procedurale%20e%20Funzioni/functions_exercises.ipynb\" target=\"_parent\"><img src=\"https://colab.research.google.com/assets/colab-badge.svg\" alt=\"Open In Colab\"/></a>"
   ]
  },
  {
   "cell_type": "markdown",
   "metadata": {
    "colab_type": "text",
    "id": "wuwwsOX_xlqX"
   },
   "source": [
    "# Esercizi con le Funzioni\n",
    "\n",
    "## 1. Area della Circonferenza\n",
    "Definisci una funzione che, prendendo in input il raggio, restituisce l'area della circonferenza.\n",
    "<br><br>\n",
    "**SUGGERIMENTI**<br>\n",
    "Puoi calcolare l'area della circonferenza come $ A = \\pi r^2 $ dove $ \\pi $ è il pi greco e può essere approssimato a 3,14."
   ]
  },
  {
   "cell_type": "code",
   "execution_count": 0,
   "metadata": {
    "colab": {},
    "colab_type": "code",
    "id": "_krdRtGfxZor"
   },
   "outputs": [],
   "source": [
    "def circle_area(r):\n",
    "  return 3.14*(r**2)"
   ]
  },
  {
   "cell_type": "markdown",
   "metadata": {
    "colab_type": "text",
    "id": "xHYKsZ16ysdM"
   },
   "source": [
    "## 2. Anni bisestili [[Esercizio su HackerRank](https://www.hackerrank.com/challenges/write-a-function/problem)]\n",
    "Ogni 4 anni aggiungiamo un giorno al mese più breve dell'anno, cioè Febbraio, quest'anno è chiamato bisestile. I criteri utilizzati per definire se un anno è bisestile sono i seguenti:\n",
    "* L'anno è divisibile per 4, allora è bisestile a meno che:\n",
    "* * L'anno è divisibile per 100, allora non è bisestile a meno che:\n",
    "* * * L'anno è divisile per 400.\n",
    "\n",
    "Scrivi una funzione per verificare se un anno è bisestile.**bold text**"
   ]
  },
  {
   "cell_type": "code",
   "execution_count": 2,
   "metadata": {
    "colab": {
     "base_uri": "https://localhost:8080/",
     "height": 35
    },
    "colab_type": "code",
    "id": "mWD6DgvMyocj",
    "outputId": "fffcda71-21e9-41d4-feae-b53e8041f547"
   },
   "outputs": [
    {
     "data": {
      "text/plain": [
       "0"
      ]
     },
     "execution_count": 2,
     "metadata": {
      "tags": []
     },
     "output_type": "execute_result"
    }
   ],
   "source": [
    "def is_leap(year):\n",
    "\n",
    "    leap = False\n",
    "    \n",
    "    if(year%4==0):\n",
    "        if(year%100==0):\n",
    "            if(year%400==0):\n",
    "                leap = True\n",
    "        else:\n",
    "            leap = True\n",
    "    \n",
    "    return leap\n",
    "\n",
    "year = int(input())\n",
    "print(is_leap(year))"
   ]
  },
  {
   "cell_type": "markdown",
   "metadata": {
    "colab_type": "text",
    "id": "4Pkq9DZg2nsW"
   },
   "source": [
    "## 3. Anagrammi [[Esercizio su HackerRank](https://www.hackerrank.com/challenges/validate-list-of-email-address-with-filter/problem)]\n",
    "Definisci una funzione che, prendendo in input due parole, verifica se le due parole sono anagrammi.\n",
    "<br><br>\n",
    "**SUGGERIMENTO**\n",
    "<br>\n",
    "Due parole sono anagrammi se sono composte esattamente dalle stesse lettere (es. strani/nastri, carino/canori, senatori/estranio)"
   ]
  },
  {
   "cell_type": "code",
   "execution_count": 12,
   "metadata": {
    "colab": {
     "base_uri": "https://localhost:8080/",
     "height": 35
    },
    "colab_type": "code",
    "id": "1UAlb6XM2mag",
    "outputId": "bbd21039-305a-4938-f479-05bb79251e16"
   },
   "outputs": [
    {
     "name": "stdout",
     "output_type": "stream",
     "text": [
      "True\n"
     ]
    }
   ],
   "source": [
    "def are_anagrams(word1, word2):\n",
    "\n",
    "  if(len(word1) != len(word2)):\n",
    "    return False\n",
    "\n",
    "  word1_list = list(word1)\n",
    "  word2_list = list(word2)\n",
    "\n",
    "  for c in word1_list:\n",
    "    if(c in word2_list):\n",
    "      word2_list.remove(c)\n",
    "\n",
    "  if(len(word2_list)==0):\n",
    "    return True\n",
    "\n",
    "  return False\n",
    "\n",
    "print(are_anagrams(\"cronista\",\"incastro\"))"
   ]
  },
  {
   "cell_type": "markdown",
   "metadata": {
    "colab_type": "text",
    "id": "-iHvnSjR4_A3"
   },
   "source": [
    "## 4. Validazione di indirizzi email\n",
    "Realizziamo una funzione che, prendendo in input una lista di indirizzi email, ritorni una nuova lista degli indirizzi email validi ordinati alfabeticamente. Un'indirizzo email è valido se:\n",
    "* Ha il formato nomeutente@dominio.estensione.\n",
    "* Il nome utente contiene soltanto lettere, numeri, lineette (-) e trattini bassi (_).\n",
    "* Il dominio contiene soltanto lettere e numeri.\n",
    "* La lunghezza massima dell'estensione è 3 caratteri."
   ]
  },
  {
   "cell_type": "code",
   "execution_count": 24,
   "metadata": {
    "colab": {
     "base_uri": "https://localhost:8080/",
     "height": 35
    },
    "colab_type": "code",
    "id": "j38eRxWv3CPL",
    "outputId": "ac367bc3-c345-4d7a-f341-d3c82db99d67"
   },
   "outputs": [
    {
     "data": {
      "text/plain": [
       "['gatto_top@boss.it', 'giuseppe@profession.ai', 'nicki88@gmail.com']"
      ]
     },
     "execution_count": 24,
     "metadata": {
      "tags": []
     },
     "output_type": "execute_result"
    }
   ],
   "source": [
    "def validate_email(email):\n",
    "  \n",
    "  parts = email.split(\"@\")\n",
    "  if(len(parts)!=2):\n",
    "    return False\n",
    "  \n",
    "  name, parts = parts\n",
    "\n",
    "  parts = parts.split(\".\")\n",
    "  if(len(parts)!=2):\n",
    "    return False\n",
    "\n",
    "  domain, ext = parts\n",
    "\n",
    "  if(not name.replace(\"_\",\"\").replace(\"-\",\"\").isalnum()):\n",
    "    return False\n",
    "\n",
    "  if(not domain.isalnum()):\n",
    "    return False\n",
    "\n",
    "  if(len(ext)>3):\n",
    "    return False\n",
    "\n",
    "  return True\n",
    "\n",
    "\n",
    "def filter_emails(emails):\n",
    "  valid_emails = list(filter(validate_email, emails))\n",
    "  valid_emails.sort()\n",
    "  return valid_emails\n",
    "\n",
    "\n",
    "filter_emails([\"giuseppe@profession.ai\", \"nicki88@gmail.com\", \"gatto_top@boss.it\"])"
   ]
  }
 ],
 "metadata": {
  "colab": {
   "include_colab_link": true,
   "name": "functions_exercises.ipynb",
   "provenance": []
  },
  "kernelspec": {
   "display_name": "Python 3",
   "language": "python",
   "name": "python3"
  },
  "language_info": {
   "codemirror_mode": {
    "name": "ipython",
    "version": 3
   },
   "file_extension": ".py",
   "mimetype": "text/x-python",
   "name": "python",
   "nbconvert_exporter": "python",
   "pygments_lexer": "ipython3",
   "version": "3.7.4"
  }
 },
 "nbformat": 4,
 "nbformat_minor": 1
}
