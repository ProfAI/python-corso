{
 "cells": [
  {
   "cell_type": "markdown",
   "metadata": {
    "colab_type": "text",
    "id": "view-in-github"
   },
   "source": [
    "<a href=\"https://colab.research.google.com/github/ProfAI/py4ai/blob/master/6%20-%20Programmazione%20ad%20Oggetti%20e%20Classi/classes_exercises.ipynb\" target=\"_parent\"><img src=\"https://colab.research.google.com/assets/colab-badge.svg\" alt=\"Open In Colab\"/></a>"
   ]
  },
  {
   "cell_type": "markdown",
   "metadata": {
    "colab_type": "text",
    "id": "wflZvedQCLBJ"
   },
   "source": [
    "# Esercizi con le Classi"
   ]
  },
  {
   "cell_type": "markdown",
   "metadata": {
    "colab_type": "text",
    "id": "cSxUoawZD8Oh"
   },
   "source": [
    "## 1. La Circonferenza\n",
    "Definisci una classe per rappresentare una circonferenza che, prendendo in input il raggio, definisca dei metodi per il calcolo di diametro, circonferenza e area. Documenta i metodi utilizzando le Docstring."
   ]
  },
  {
   "cell_type": "code",
   "execution_count": 0,
   "metadata": {
    "colab": {
     "base_uri": "https://localhost:8080/",
     "height": 53
    },
    "colab_type": "code",
    "id": "lozSE4FqCIFP",
    "outputId": "05775806-88ae-4c04-e4e9-9fc3012e18ce"
   },
   "outputs": [
    {
     "name": "stdout",
     "output_type": "stream",
     "text": [
      "6.28\n",
      "3.14\n"
     ]
    }
   ],
   "source": [
    "class Circle:\n",
    "\n",
    "  def __init__(self, r):\n",
    "    self.r = r\n",
    "\n",
    "  def diameter(self):\n",
    "\n",
    "    \"\"\"\n",
    "    Calcola il diametro come 2*r\n",
    "    \"\"\"\n",
    "\n",
    "    return 2*self.r\n",
    "\n",
    "  def circumference(self):\n",
    "\n",
    "    \"\"\"\n",
    "    Calcola la circonferenza come 2*pi*r\n",
    "    \"\"\"\n",
    "\n",
    "    return 2*3.14*self.r\n",
    "\n",
    "  def area(self):\n",
    "\n",
    "    \"\"\"\n",
    "    Calcola l'area come pi*r^2\n",
    "    \"\"\"\n",
    "\n",
    "    return 3.14*(self.r**2)\n",
    "\n",
    "\n",
    "circle = Circle(1)\n",
    "print(circle.circumference())\n",
    "print(circle.area())"
   ]
  },
  {
   "cell_type": "markdown",
   "metadata": {
    "colab_type": "text",
    "id": "4ZaqzSbrVpI5"
   },
   "source": [
    "## 2. Vettori\n",
    "Crea una classe che rappresenti un vettore numerico. La classe accetta in input una lista di numeri che saranno i valori del vettore. La classe deve avere queste funzionalità:\n",
    "1. Stampando un'oggetto Vector il risultato sarà la lista dei suoi valori.\n",
    "2. Sommando due oggetti Vector il risultato sarà un nuovo oggetto Vector composto dalla somma dei valori dei due vettori alle posizioni corrispondenti (es. Vector([1,2,3]) + Vector([2,4,6]) = Vector([3,6,9]). \n",
    "3. Sottraendo un'oggetto Vector ad un'altro oggetto Vector il risultato sarà un nuovo oggetto Vector composto dalla differenza dei valori dei due vettori alle posizioni corrispondenti Vector([2,4,6]) + Vector([1,2,3]) = Vector([1,2,3]).\n",
    "4. Moltiplicando due oggetti Vector il risultato dovrà essere il prodotto scalare dei due vettori, il prodotto scalare è definito come la somma del prodotto dei singoli elementi corrispondenti dei due vettori (es. Vector([1,2,3]) + Vector([2,4,6]) = 28.\n",
    "\n",
    "Per i punti 2,3 e 4 i vettori devono avere uguale dimensione, in caso di dimensioni differenti stampa \"I vettori hanno dimensione differente\" e ritorna None.\n",
    "\n",
    "Inoltre la classe deve avere i seguenti metodi:\n",
    "1. **.sum()**: ritorna la somma di tutti gli elementi del vettore.\n",
    "2. **.norm()**: ritorna la norma del vettore, cioè la radice quadrata del prodotto scalare tra il vettore e se stesso (es. Vector([10, 20, 30, 40]).norm() = 54.77)\n",
    "\n",
    "\n",
    "Inoltre la classe deve supportare l'indexing <br><br>\n",
    "es. <br>\n",
    "v = Vector([2, 4, 6])<br>\n",
    "print(v[1]) # stampa 4"
   ]
  },
  {
   "cell_type": "code",
   "execution_count": 23,
   "metadata": {
    "colab": {
     "base_uri": "https://localhost:8080/",
     "height": 215
    },
    "colab_type": "code",
    "id": "CNL-nXdfVr3w",
    "outputId": "114b78ca-85e9-47db-d25d-cbf67ca484d7"
   },
   "outputs": [
    {
     "name": "stdout",
     "output_type": "stream",
     "text": [
      "[1, 2, 3]\n",
      "1\n",
      "6\n",
      "[3, 6, 9]\n",
      "[1, 2, 3]\n",
      "True\n",
      "False\n",
      "28\n",
      "I vettori hanno dimensioni diverse\n",
      "None\n",
      "54.772255750516614\n"
     ]
    }
   ],
   "source": [
    "class Vector():\n",
    "\n",
    "    def __init__(self, values):\n",
    "        self.values = values\n",
    "\n",
    "        \n",
    "    def __getitem__(self, i):\n",
    "      return self.values[i]\n",
    "\n",
    "\n",
    "    def __repr__(self) :\n",
    "       return str(self.values)\n",
    "\n",
    "\n",
    "    def __add__(self, vector):\n",
    "\n",
    "      if(len(self.values)!=len(vector.values)):\n",
    "        print(\"I vettori hanno dimensioni diverse\")\n",
    "        return None\n",
    "\n",
    "      list_sum = []\n",
    "\n",
    "      for val1, val2 in zip(self.values, vector.values):\n",
    "        list_sum.append(val1+val2)\n",
    "\n",
    "      return Vector(list_sum)\n",
    "\n",
    "\n",
    "    def __sub__(self, vector):\n",
    "\n",
    "      if(len(self.values)!=len(vector.values)):\n",
    "        print(\"I vettori hanno dimensioni diverse\")\n",
    "        return None\n",
    "\n",
    "      list_sum = []\n",
    "\n",
    "      for val1, val2 in zip(self.values, vector.values):\n",
    "        list_sum.append(val1-val2)\n",
    "\n",
    "      return Vector(list_sum)\n",
    "\n",
    "\n",
    "    def __eq__(self, vector):\n",
    "\n",
    "      if(len(self.values)!=len(vector.values)):\n",
    "        print(\"I vettori hanno dimensioni diverse\")\n",
    "        return None\n",
    "\n",
    "      for val1, val2 in zip(self.values, vector.values):\n",
    "        if(val1 != val2):\n",
    "          return False\n",
    "      return True\n",
    "\n",
    "\n",
    "    def __mul__(self, vector):\n",
    "      return self.dot(vector)\n",
    "\n",
    "\n",
    "    def sum(self):\n",
    "      \n",
    "      v_sum = 0\n",
    "\n",
    "      for v in self.values:\n",
    "        v_sum+=v\n",
    "\n",
    "      return v_sum\n",
    "\n",
    "\n",
    "    def dot(self, vector):\n",
    "\n",
    "      if(len(self.values)!=len(vector.values)):\n",
    "        print(\"I vettori hanno dimensioni diverse\")\n",
    "        return None\n",
    "\n",
    "      prod = 0\n",
    "\n",
    "      for val1, val2 in zip(self.values, vector.values):\n",
    "        prod+=val1*val2\n",
    "      \n",
    "      return prod\n",
    "\n",
    "\n",
    "    def norm(self):\n",
    "      return self.dot(self)**(1/2)\n",
    "\n",
    "\n",
    "\n",
    "v1 = Vector([1, 2, 3])\n",
    "print(v1)\n",
    "print(v1[0])\n",
    "print(v1.sum())\n",
    "\n",
    "v2 = Vector([2, 4, 6])\n",
    "print(v1 + v2)\n",
    "print(v2 - v1)\n",
    "\n",
    "print(v1==v1)\n",
    "print(v1==v2)\n",
    "\n",
    "print(v1*v2)\n",
    "\n",
    "v3 = Vector([10, 20, 30, 40])\n",
    "print(v1*v3)\n",
    "\n",
    "print(v3.norm())"
   ]
  }
 ],
 "metadata": {
  "colab": {
   "include_colab_link": true,
   "name": "classes_exercises.ipynb",
   "provenance": []
  },
  "kernelspec": {
   "display_name": "Python 3",
   "language": "python",
   "name": "python3"
  },
  "language_info": {
   "codemirror_mode": {
    "name": "ipython",
    "version": 3
   },
   "file_extension": ".py",
   "mimetype": "text/x-python",
   "name": "python",
   "nbconvert_exporter": "python",
   "pygments_lexer": "ipython3",
   "version": "3.7.4"
  }
 },
 "nbformat": 4,
 "nbformat_minor": 1
}
