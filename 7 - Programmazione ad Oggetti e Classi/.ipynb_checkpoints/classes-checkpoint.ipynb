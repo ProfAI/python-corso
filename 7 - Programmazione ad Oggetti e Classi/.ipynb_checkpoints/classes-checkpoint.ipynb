{
 "cells": [
  {
   "cell_type": "markdown",
   "metadata": {
    "colab_type": "text",
    "id": "view-in-github"
   },
   "source": [
    "<a href=\"https://colab.research.google.com/github/ProfAI/py4ai/blob/master/6%20-%20Programmazione%20ad%20Oggetti%20e%20Classi/classes.ipynb\" target=\"_parent\"><img src=\"https://colab.research.google.com/assets/colab-badge.svg\" alt=\"Open In Colab\"/></a>"
   ]
  },
  {
   "cell_type": "markdown",
   "metadata": {
    "colab_type": "text",
    "id": "Y2YGOiGmdnkX"
   },
   "source": [
    "# La Programmazione ad Oggetti\n",
    "La programamzione ad oggetti (OOP - Object Oriented Programming) è un paradigma di programmazione che si basa sull'organizzare i dati in oggetti e manipolarli unicamente tramite i metodi esposti da essi."
   ]
  },
  {
   "cell_type": "markdown",
   "metadata": {
    "colab_type": "text",
    "id": "biUZWAHNdrwY"
   },
   "source": [
    "## Le Classi\n",
    "\n",
    "Per creare un oggetto dobbiamo definire una classe che lo rappresenterà, le funzioni definite all'interno della classe sono chiamati metodi della classe.\n",
    "Ad esempio, creiamo una classe che rappresentà un triangolo, i cui metodi ci permettono di calcolarne area e perimetro."
   ]
  },
  {
   "cell_type": "code",
   "execution_count": 0,
   "metadata": {
    "colab": {},
    "colab_type": "code",
    "id": "3GEJI_y8diQn"
   },
   "outputs": [],
   "source": [
    "class Triangle:\n",
    "  \n",
    "    def area(self, b, h):\n",
    "        return b*h/2.\n",
    "  \n",
    "    def perimeter(self, a, b, c):\n",
    "        return a+b+c"
   ]
  },
  {
   "cell_type": "markdown",
   "metadata": {},
   "source": [
    "Come puoi vedere ogni metodo della classe ha come primo parametro self, questo ci permette di identificare attributi e metodi all'interno della classe stessa. Concettualmente un'oggetto è un'instanza di una classe. Instanziamo la classe Triangle per creare l'oggetto e usiamo i suoi metodi."
   ]
  },
  {
   "cell_type": "code",
   "execution_count": 2,
   "metadata": {
    "colab": {
     "base_uri": "https://localhost:8080/",
     "height": 52
    },
    "colab_type": "code",
    "id": "P4AoVGXFdvR-",
    "outputId": "9a3517dc-1632-4f87-d13f-f4d273db28a4"
   },
   "outputs": [
    {
     "name": "stdout",
     "output_type": "stream",
     "text": [
      "Area del triangolo:  6\n",
      "Perimetro del triangolo: 13\n"
     ]
    }
   ],
   "source": [
    "triangle = Triangle() # istanziamo la classe (creiamo l'oggetto)\n",
    "\n",
    "print(\"Area del triangolo: %2.f\" % triangle.area(3.,4.))\n",
    "print(\"Perimetro del triangolo: %2.f\" % triangle.perimeter(5.,3.,5.))"
   ]
  },
  {
   "cell_type": "markdown",
   "metadata": {},
   "source": [
    " Per calcolare area e perimetro dobbiamo passare di volta in volta le informazioni sulle misure di base, altezze e lati del triangolo, che funziona ma è concettualmente sbagliato, un'oggetto deve contenere le proprie informazioni al suo interno, in apposite variabili chiamate attributi. \n",
    "Possiamo definire gli attributi della classe all'interno di un metodo costruttore che in Python è l'init"
   ]
  },
  {
   "cell_type": "code",
   "execution_count": 3,
   "metadata": {
    "colab": {
     "base_uri": "https://localhost:8080/",
     "height": 52
    },
    "colab_type": "code",
    "id": "gshHCGPrdx4f",
    "outputId": "3ed0d742-b556-4bea-e51b-f24a36f4c202"
   },
   "outputs": [
    {
     "name": "stdout",
     "output_type": "stream",
     "text": [
      "Area del triangolo:  6\n",
      "Perimetro del triangolo: 13\n"
     ]
    }
   ],
   "source": [
    "class Triangle:\n",
    "  \n",
    "    def __init__(self, a, b, c, h):\n",
    "    \n",
    "        # Questa istruzione è equivalente a quella sotto\n",
    "        #self.a, self.b, self.c, self.h = a, b, c ,h\n",
    "\n",
    "        self.a = a\n",
    "        self.b = b\n",
    "        self.c = c\n",
    "        self.h = h\n",
    "\n",
    "    \n",
    "    def area(self):\n",
    "            return self.b*self.h/2\n",
    "    \n",
    "    \n",
    "    def perimeter(self):\n",
    "        return self.a+self.b+self.c\n",
    "  \n",
    "  \n",
    "triangle = Triangle(5.,3.,5.,4.)\n",
    "print(\"Area del triangolo: %2.f\" % triangle.area())\n",
    "print(\"Perimetro del triangolo: %2.f\" % triangle.perimeter())"
   ]
  },
  {
   "cell_type": "markdown",
   "metadata": {},
   "source": [
    "Con Python possiamo anche sovrascrivere le funzioni built-in per un'oggetto utilizzando appositi metodi. Ad esempio per ridefinire la funzione print possiamo utilizzare il metodo *__repr__*."
   ]
  },
  {
   "cell_type": "code",
   "execution_count": 3,
   "metadata": {
    "colab": {
     "base_uri": "https://localhost:8080/",
     "height": 52
    },
    "colab_type": "code",
    "id": "BbPrqkyPh78c",
    "outputId": "c7b1071b-d749-4e41-edcb-3b616f59400c"
   },
   "outputs": [
    {
     "name": "stdout",
     "output_type": "stream",
     "text": [
      "Area del triangolo:  6\n",
      "Perimetro del triangolo: 13\n"
     ]
    }
   ],
   "source": [
    "class Triangle:\n",
    "  \n",
    "  \n",
    "    def __init__(self, a, b, c, h):\n",
    "        self.a, self.b, self.c, self.h = a, b, c ,h\n",
    "\n",
    "    \n",
    "    def area(self):\n",
    "        return float(self.b)*float(self.h)/2.\n",
    "  \n",
    "  \n",
    "    def perimeter(self):\n",
    "        return self.a+self.b+self.c\n",
    "  \n",
    "  \n",
    "    def __repr__(self):\n",
    "        info = \"Area del triangolo: %2.f\" % self.area()\n",
    "        info+=\"\\nPerimetro del triangolo: %2.f\" % self.perimeter()\n",
    "        return info\n",
    "\n",
    "\n",
    "triangle = Triangle(5.,3.,5.,4.)\n",
    "print(triangle)"
   ]
  },
  {
   "cell_type": "markdown",
   "metadata": {},
   "source": [
    "## Le Docstring"
   ]
  },
  {
   "cell_type": "markdown",
   "metadata": {},
   "source": [
    "Utilizzando il metodo *help* possiamo ottenere informazioni su una classe e sui suoi metodi."
   ]
  },
  {
   "cell_type": "code",
   "execution_count": 5,
   "metadata": {
    "colab": {
     "base_uri": "https://localhost:8080/",
     "height": 416
    },
    "colab_type": "code",
    "id": "vobfyPXqiCaj",
    "outputId": "851088a2-c50c-4bb2-e21c-8c55c0082964"
   },
   "outputs": [
    {
     "name": "stdout",
     "output_type": "stream",
     "text": [
      "Help on Triangle in module __main__ object:\n",
      "\n",
      "class Triangle(builtins.object)\n",
      " |  Methods defined here:\n",
      " |  \n",
      " |  __init__(self, a, b, c, h)\n",
      " |      Initialize self.  See help(type(self)) for accurate signature.\n",
      " |  \n",
      " |  area(self)\n",
      " |  \n",
      " |  perimeter(self)\n",
      " |  \n",
      " |  print_info(self)\n",
      " |  \n",
      " |  ----------------------------------------------------------------------\n",
      " |  Data descriptors defined here:\n",
      " |  \n",
      " |  __dict__\n",
      " |      dictionary for instance variables (if defined)\n",
      " |  \n",
      " |  __weakref__\n",
      " |      list of weak references to the object (if defined)\n",
      "\n"
     ]
    }
   ],
   "source": [
    "help(triangle)"
   ]
  },
  {
   "cell_type": "markdown",
   "metadata": {},
   "source": [
    "Una classe può contenere molti metodi differenti, possiamo utilizzare le Docstrings per documentare a cosa serve una classe e cosa fanno ognuno dei suoi metod"
   ]
  },
  {
   "cell_type": "code",
   "execution_count": 6,
   "metadata": {
    "colab": {
     "base_uri": "https://localhost:8080/",
     "height": 503
    },
    "colab_type": "code",
    "id": "6X34PMmniJ4l",
    "outputId": "2cce904d-b533-4d3d-9d50-c2a7cfab5194"
   },
   "outputs": [
    {
     "name": "stdout",
     "output_type": "stream",
     "text": [
      "Help on Triangle in module __main__ object:\n",
      "\n",
      "class Triangle(builtins.object)\n",
      " |  Questa classe rappresenta un triangolo\n",
      " |  \n",
      " |  Methods defined here:\n",
      " |  \n",
      " |  __init__(self, a, b, c, h)\n",
      " |      Initialize self.  See help(type(self)) for accurate signature.\n",
      " |  \n",
      " |  area(self)\n",
      " |      Calcolo dell'area del triangolo\n",
      " |  \n",
      " |  perimeter(self)\n",
      " |      Calcolo del perimetro del triangolo\n",
      " |  \n",
      " |  print_info(self)\n",
      " |      Stampiamo area e perimetro del triangolo\n",
      " |  \n",
      " |  ----------------------------------------------------------------------\n",
      " |  Data descriptors defined here:\n",
      " |  \n",
      " |  __dict__\n",
      " |      dictionary for instance variables (if defined)\n",
      " |  \n",
      " |  __weakref__\n",
      " |      list of weak references to the object (if defined)\n",
      "\n"
     ]
    }
   ],
   "source": [
    "class Triangle:\n",
    "  \n",
    "  \n",
    "    \"\"\"\n",
    "    Questa classe rappresenta un triangolo\n",
    "    \"\"\"\n",
    "    \n",
    "    def __init__(self, a, b, c, h):\n",
    "        self.a, self.b, self.c, self.h = a, b, c ,h\n",
    "\n",
    "    \n",
    "    def area(self):\n",
    "        \n",
    "        \"\"\"\n",
    "        Calcolo dell'area del triangolo\n",
    "        \"\"\"\n",
    "        \n",
    "        return float(self.b)*float(self.h)/2.\n",
    "  \n",
    "  \n",
    "    def perimeter(self):\n",
    "        \n",
    "        \"\"\"\n",
    "        Calcolo del perimetro del triangolo\n",
    "        \"\"\"\n",
    "        \n",
    "        return self.a+self.b+self.c\n",
    "  \n",
    "  \n",
    "    def __repr__(self):\n",
    "        \n",
    "        \"\"\"\n",
    "        Stampiamo area e perimetro del triangolo\n",
    "        \"\"\"\n",
    "        \n",
    "        print(\"Area del triangolo: %2.f\" % self.area())\n",
    "        print(\"Perimetro del triangolo: %2.f\" % self.perimeter())\n",
    "\n",
    "\n",
    "triangle = Triangle(5.,3.,5.,4.)\n",
    "help(triangle)"
   ]
  }
 ],
 "metadata": {
  "colab": {
   "include_colab_link": true,
   "name": "classes.ipynb",
   "provenance": []
  },
  "kernelspec": {
   "display_name": "Python 3",
   "language": "python",
   "name": "python3"
  },
  "language_info": {
   "codemirror_mode": {
    "name": "ipython",
    "version": 3
   },
   "file_extension": ".py",
   "mimetype": "text/x-python",
   "name": "python",
   "nbconvert_exporter": "python",
   "pygments_lexer": "ipython3",
   "version": "3.7.4"
  }
 },
 "nbformat": 4,
 "nbformat_minor": 1
}
