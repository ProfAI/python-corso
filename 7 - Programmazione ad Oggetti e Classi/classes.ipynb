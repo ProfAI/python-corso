{
  "nbformat": 4,
  "nbformat_minor": 0,
  "metadata": {
    "colab": {
      "name": "classes.ipynb",
      "provenance": [],
      "include_colab_link": true
    },
    "kernelspec": {
      "display_name": "Python 3",
      "language": "python",
      "name": "python3"
    },
    "language_info": {
      "codemirror_mode": {
        "name": "ipython",
        "version": 3
      },
      "file_extension": ".py",
      "mimetype": "text/x-python",
      "name": "python",
      "nbconvert_exporter": "python",
      "pygments_lexer": "ipython3",
      "version": "3.7.4"
    }
  },
  "cells": [
    {
      "cell_type": "markdown",
      "metadata": {
        "id": "view-in-github",
        "colab_type": "text"
      },
      "source": [
        "<a href=\"https://colab.research.google.com/github/ProfAI/py4ai/blob/master/7%20-%20Programmazione%20ad%20Oggetti%20e%20Classi/classes.ipynb\" target=\"_parent\"><img src=\"https://colab.research.google.com/assets/colab-badge.svg\" alt=\"Open In Colab\"/></a>"
      ]
    },
    {
      "cell_type": "markdown",
      "metadata": {
        "colab_type": "text",
        "id": "Y2YGOiGmdnkX"
      },
      "source": [
        "# La Programmazione ad Oggetti\n",
        "La programamzione ad oggetti (OOP - Object Oriented Programming) è un paradigma di programmazione che si basa sull'organizzare i dati in oggetti e manipolarli unicamente tramite i metodi esposti da essi."
      ]
    },
    {
      "cell_type": "markdown",
      "metadata": {
        "colab_type": "text",
        "id": "biUZWAHNdrwY"
      },
      "source": [
        "## Le Classi\n",
        "\n",
        "Per creare un oggetto dobbiamo definire una classe che lo rappresenterà, le funzioni definite all'interno della classe sono chiamati metodi della classe.\n",
        "Ad esempio, creiamo una classe che rappresentà un triangolo, i cui metodi ci permettono di calcolarne area e perimetro."
      ]
    },
    {
      "cell_type": "code",
      "metadata": {
        "colab_type": "code",
        "id": "3GEJI_y8diQn",
        "colab": {}
      },
      "source": [
        "class Triangle:\n",
        "  \n",
        "    def area(self, b, h):\n",
        "        return b*h/2.\n",
        "  \n",
        "    def perimeter(self, a, b, c):\n",
        "        return a+b+c"
      ],
      "execution_count": 0,
      "outputs": []
    },
    {
      "cell_type": "markdown",
      "metadata": {
        "id": "V0UJR6Do9HzK",
        "colab_type": "text"
      },
      "source": [
        "Come puoi vedere ogni metodo della classe ha come primo parametro self, questo ci permette di identificare attributi e metodi all'interno della classe stessa. Concettualmente un'oggetto è un'instanza di una classe. Instanziamo la classe Triangle per creare l'oggetto e usiamo i suoi metodi."
      ]
    },
    {
      "cell_type": "code",
      "metadata": {
        "colab_type": "code",
        "id": "P4AoVGXFdvR-",
        "outputId": "9a3517dc-1632-4f87-d13f-f4d273db28a4",
        "colab": {
          "base_uri": "https://localhost:8080/",
          "height": 52
        }
      },
      "source": [
        "triangle = Triangle() # istanziamo la classe (creiamo l'oggetto)\n",
        "\n",
        "print(\"Area del triangolo: %2.f\" % triangle.area(3.,4.))\n",
        "print(\"Perimetro del triangolo: %2.f\" % triangle.perimeter(5.,3.,5.))"
      ],
      "execution_count": 0,
      "outputs": [
        {
          "output_type": "stream",
          "text": [
            "Area del triangolo:  6\n",
            "Perimetro del triangolo: 13\n"
          ],
          "name": "stdout"
        }
      ]
    },
    {
      "cell_type": "markdown",
      "metadata": {
        "id": "koy-GszN9HzN",
        "colab_type": "text"
      },
      "source": [
        " Per calcolare area e perimetro dobbiamo passare di volta in volta le informazioni sulle misure di base, altezze e lati del triangolo, che funziona ma è concettualmente sbagliato, un'oggetto deve contenere le proprie informazioni al suo interno, in apposite variabili chiamate attributi. \n",
        "Possiamo definire gli attributi della classe all'interno di un metodo costruttore che in Python è l'init"
      ]
    },
    {
      "cell_type": "code",
      "metadata": {
        "colab_type": "code",
        "id": "gshHCGPrdx4f",
        "outputId": "3ed0d742-b556-4bea-e51b-f24a36f4c202",
        "colab": {
          "base_uri": "https://localhost:8080/",
          "height": 52
        }
      },
      "source": [
        "class Triangle:\n",
        "  \n",
        "    def __init__(self, a, b, c, h):\n",
        "    \n",
        "        # Questa istruzione è equivalente a quella sotto\n",
        "        #self.a, self.b, self.c, self.h = a, b, c ,h\n",
        "\n",
        "        self.a = a\n",
        "        self.b = b\n",
        "        self.c = c\n",
        "        self.h = h\n",
        "\n",
        "    \n",
        "    def area(self):\n",
        "            return self.b*self.h/2\n",
        "    \n",
        "    \n",
        "    def perimeter(self):\n",
        "        return self.a+self.b+self.c\n",
        "  \n",
        "  \n",
        "triangle = Triangle(5.,3.,5.,4.)\n",
        "print(\"Area del triangolo: %2.f\" % triangle.area())\n",
        "print(\"Perimetro del triangolo: %2.f\" % triangle.perimeter())"
      ],
      "execution_count": 0,
      "outputs": [
        {
          "output_type": "stream",
          "text": [
            "Area del triangolo:  6\n",
            "Perimetro del triangolo: 13\n"
          ],
          "name": "stdout"
        }
      ]
    },
    {
      "cell_type": "markdown",
      "metadata": {
        "id": "hjawOHIb9HzP",
        "colab_type": "text"
      },
      "source": [
        "Con Python possiamo anche sovrascrivere le funzioni built-in per un'oggetto utilizzando appositi metodi. Ad esempio per ridefinire la funzione print possiamo utilizzare il metodo *__repr__*."
      ]
    },
    {
      "cell_type": "code",
      "metadata": {
        "colab_type": "code",
        "id": "BbPrqkyPh78c",
        "outputId": "c7b1071b-d749-4e41-edcb-3b616f59400c",
        "colab": {
          "base_uri": "https://localhost:8080/",
          "height": 52
        }
      },
      "source": [
        "class Triangle:\n",
        "  \n",
        "  \n",
        "    def __init__(self, a, b, c, h):\n",
        "        self.a, self.b, self.c, self.h = a, b, c ,h\n",
        "\n",
        "    \n",
        "    def area(self):\n",
        "        return float(self.b)*float(self.h)/2.\n",
        "  \n",
        "  \n",
        "    def perimeter(self):\n",
        "        return self.a+self.b+self.c\n",
        "  \n",
        "  \n",
        "    def __repr__(self):\n",
        "        info = \"Area del triangolo: %2.f\" % self.area()\n",
        "        info+=\"\\nPerimetro del triangolo: %2.f\" % self.perimeter()\n",
        "        return info\n",
        "\n",
        "\n",
        "triangle = Triangle(5.,3.,5.,4.)\n",
        "print(triangle)"
      ],
      "execution_count": 0,
      "outputs": [
        {
          "output_type": "stream",
          "text": [
            "Area del triangolo:  6\n",
            "Perimetro del triangolo: 13\n"
          ],
          "name": "stdout"
        }
      ]
    },
    {
      "cell_type": "markdown",
      "metadata": {
        "id": "MyW2M26i9HzS",
        "colab_type": "text"
      },
      "source": [
        "## Le Docstring"
      ]
    },
    {
      "cell_type": "markdown",
      "metadata": {
        "id": "Pdi2h03j9HzS",
        "colab_type": "text"
      },
      "source": [
        "Utilizzando il metodo *help* possiamo ottenere informazioni su una classe e sui suoi metodi."
      ]
    },
    {
      "cell_type": "code",
      "metadata": {
        "colab_type": "code",
        "id": "vobfyPXqiCaj",
        "outputId": "851088a2-c50c-4bb2-e21c-8c55c0082964",
        "colab": {
          "base_uri": "https://localhost:8080/",
          "height": 416
        }
      },
      "source": [
        "help(triangle)"
      ],
      "execution_count": 0,
      "outputs": [
        {
          "output_type": "stream",
          "text": [
            "Help on Triangle in module __main__ object:\n",
            "\n",
            "class Triangle(builtins.object)\n",
            " |  Methods defined here:\n",
            " |  \n",
            " |  __init__(self, a, b, c, h)\n",
            " |      Initialize self.  See help(type(self)) for accurate signature.\n",
            " |  \n",
            " |  area(self)\n",
            " |  \n",
            " |  perimeter(self)\n",
            " |  \n",
            " |  print_info(self)\n",
            " |  \n",
            " |  ----------------------------------------------------------------------\n",
            " |  Data descriptors defined here:\n",
            " |  \n",
            " |  __dict__\n",
            " |      dictionary for instance variables (if defined)\n",
            " |  \n",
            " |  __weakref__\n",
            " |      list of weak references to the object (if defined)\n",
            "\n"
          ],
          "name": "stdout"
        }
      ]
    },
    {
      "cell_type": "markdown",
      "metadata": {
        "id": "eUJvmgCT9HzU",
        "colab_type": "text"
      },
      "source": [
        "Una classe può contenere molti metodi differenti, possiamo utilizzare le Docstrings per documentare a cosa serve una classe e cosa fanno ognuno dei suoi metod"
      ]
    },
    {
      "cell_type": "code",
      "metadata": {
        "colab_type": "code",
        "id": "6X34PMmniJ4l",
        "outputId": "2cce904d-b533-4d3d-9d50-c2a7cfab5194",
        "colab": {
          "base_uri": "https://localhost:8080/",
          "height": 503
        }
      },
      "source": [
        "class Triangle:\n",
        "  \n",
        "  \n",
        "    \"\"\"\n",
        "    Questa classe rappresenta un triangolo\n",
        "    \"\"\"\n",
        "    \n",
        "    def __init__(self, a, b, c, h):\n",
        "        self.a, self.b, self.c, self.h = a, b, c ,h\n",
        "\n",
        "    \n",
        "    def area(self):\n",
        "        \n",
        "        \"\"\"\n",
        "        Calcolo dell'area del triangolo\n",
        "        \"\"\"\n",
        "        \n",
        "        return float(self.b)*float(self.h)/2.\n",
        "  \n",
        "  \n",
        "    def perimeter(self):\n",
        "        \n",
        "        \"\"\"\n",
        "        Calcolo del perimetro del triangolo\n",
        "        \"\"\"\n",
        "        \n",
        "        return self.a+self.b+self.c\n",
        "  \n",
        "  \n",
        "    def __repr__(self):\n",
        "        \n",
        "        \"\"\"\n",
        "        Stampiamo area e perimetro del triangolo\n",
        "        \"\"\"\n",
        "        \n",
        "        info = \"Area del triangolo: %2.f\" % self.area()\n",
        "        info+=\"\\nPerimetro del triangolo: %2.f\" % self.perimeter()\n",
        "        return info\n",
        "\n",
        "\n",
        "triangle = Triangle(5.,3.,5.,4.)\n",
        "help(triangle)"
      ],
      "execution_count": 0,
      "outputs": [
        {
          "output_type": "stream",
          "text": [
            "Help on Triangle in module __main__ object:\n",
            "\n",
            "class Triangle(builtins.object)\n",
            " |  Questa classe rappresenta un triangolo\n",
            " |  \n",
            " |  Methods defined here:\n",
            " |  \n",
            " |  __init__(self, a, b, c, h)\n",
            " |      Initialize self.  See help(type(self)) for accurate signature.\n",
            " |  \n",
            " |  area(self)\n",
            " |      Calcolo dell'area del triangolo\n",
            " |  \n",
            " |  perimeter(self)\n",
            " |      Calcolo del perimetro del triangolo\n",
            " |  \n",
            " |  print_info(self)\n",
            " |      Stampiamo area e perimetro del triangolo\n",
            " |  \n",
            " |  ----------------------------------------------------------------------\n",
            " |  Data descriptors defined here:\n",
            " |  \n",
            " |  __dict__\n",
            " |      dictionary for instance variables (if defined)\n",
            " |  \n",
            " |  __weakref__\n",
            " |      list of weak references to the object (if defined)\n",
            "\n"
          ],
          "name": "stdout"
        }
      ]
    },
    {
      "cell_type": "markdown",
      "metadata": {
        "id": "pX5RoNjI9NNR",
        "colab_type": "text"
      },
      "source": [
        "## Ereditarietà e Polimorfismo\n",
        "Nella OOP è possibile derivare classi da altre classi. La classe di base viene chiamata **classe padre (parent class)**, mentre la classe derivata viene chiamata **classe figlia (child class)**. Definiamo una classe padre per rappresentare una figura geometrica."
      ]
    },
    {
      "cell_type": "code",
      "metadata": {
        "id": "yGSmXTVx9QmK",
        "colab_type": "code",
        "colab": {}
      },
      "source": [
        "class Shape:\n",
        "  \n",
        "  \n",
        "    \"\"\"\n",
        "    Questa classe rappresenta una figura geometrica\n",
        "    \"\"\"\n",
        "    \n",
        "    def __init__(self, l):\n",
        "        self.l = l\n",
        "\n",
        "    \n",
        "    def area(self):\n",
        "        \n",
        "        \"\"\"\n",
        "        Calcolo dell'area della figura\n",
        "        \"\"\"\n",
        "        \n",
        "        return\n",
        "  \n",
        "  \n",
        "    def perimeter(self):\n",
        "        \n",
        "        \"\"\"\n",
        "        Calcolo del perimetro della figura\n",
        "        \"\"\"\n",
        "        \n",
        "        return\n",
        "  \n",
        "  \n",
        "    def __repr__(self):\n",
        "        \n",
        "        \"\"\"\n",
        "        Stampiamo area e perimetro della figura\n",
        "        \"\"\"\n",
        "        \n",
        "        info = \"Area del triangolo: %2.f\" % self.area()\n",
        "        info+=\"\\nPerimetro del triangolo: %2.f\" % self.perimeter()\n",
        "        return info\n"
      ],
      "execution_count": 0,
      "outputs": []
    },
    {
      "cell_type": "markdown",
      "metadata": {
        "id": "j1hD6CVb_yst",
        "colab_type": "text"
      },
      "source": [
        "Ora dalla classe padre deriviamo la classe per rappresentare un triangolo. All'interno di una classe figlia e' possibile, se necessario, sovrascrivere la logica di metodi della classe padre, questo meccanismo è chiamato **polimorfismo**."
      ]
    },
    {
      "cell_type": "code",
      "metadata": {
        "id": "IiBJxrve9pCu",
        "colab_type": "code",
        "colab": {}
      },
      "source": [
        "class Triangle(Shape):\n",
        "    \n",
        "    \"\"\"\n",
        "    Questa classe rappresenta un triangolo\n",
        "    \"\"\"\n",
        "\n",
        "    def area(self):\n",
        "        \n",
        "        \"\"\"\n",
        "        Calcolo dell'area del triangolo\n",
        "        \"\"\"\n",
        "        \n",
        "        return float(self.l[0])*float(self.l[3])/2.\n",
        "  \n",
        "  \n",
        "    def perimeter(self):\n",
        "        \n",
        "        \"\"\"\n",
        "        Calcolo del perimetro del triangolo\n",
        "        \"\"\"\n",
        "        \n",
        "        return self.l[0]+self.l[1]+self.l[2]"
      ],
      "execution_count": 0,
      "outputs": []
    },
    {
      "cell_type": "markdown",
      "metadata": {
        "id": "wn-Tn0doAHaD",
        "colab_type": "text"
      },
      "source": [
        "Ora possiamo utilizzare la classe figlia con i metodi definiti al suo interno."
      ]
    },
    {
      "cell_type": "code",
      "metadata": {
        "id": "p-Goa1bM917c",
        "colab_type": "code",
        "colab": {
          "base_uri": "https://localhost:8080/",
          "height": 53
        },
        "outputId": "2e98cfbb-1384-4fde-e1b7-267da86846f5"
      },
      "source": [
        "triangle = Triangle((5.,3.,5.,4.))\n",
        "print(\"Area del triangolo: %2.f\" % triangle.area())\n",
        "print(\"Perimetro del triangolo: %2.f\" % triangle.perimeter())"
      ],
      "execution_count": 12,
      "outputs": [
        {
          "output_type": "stream",
          "text": [
            "Area del triangolo: 10\n",
            "Perimetro del triangolo: 13\n"
          ],
          "name": "stdout"
        }
      ]
    },
    {
      "cell_type": "markdown",
      "metadata": {
        "id": "cbp4sTSAALtz",
        "colab_type": "text"
      },
      "source": [
        "E anche i metodi definiti all'interno della classe padre."
      ]
    },
    {
      "cell_type": "code",
      "metadata": {
        "id": "4LaHOpAW-ZJ1",
        "colab_type": "code",
        "colab": {
          "base_uri": "https://localhost:8080/",
          "height": 53
        },
        "outputId": "e91fe291-7fd2-4e6a-a686-e8d5664d32a8"
      },
      "source": [
        "print(triangle)"
      ],
      "execution_count": 13,
      "outputs": [
        {
          "output_type": "stream",
          "text": [
            "Area del triangolo: 10\n",
            "Perimetro del triangolo: 13\n"
          ],
          "name": "stdout"
        }
      ]
    },
    {
      "cell_type": "markdown",
      "metadata": {
        "id": "YKPdb9MDAPAP",
        "colab_type": "text"
      },
      "source": [
        "Il vantaggio dell'ereditarietà è la possibilità di riutilizzare le classi padri per più classi figlie, ad esempio creiamo una nuova classe figlia per rappresentare un quadrato."
      ]
    },
    {
      "cell_type": "code",
      "metadata": {
        "id": "dWzkq6q7-ix0",
        "colab_type": "code",
        "colab": {}
      },
      "source": [
        "class Square(Shape):\n",
        "    \n",
        "    \"\"\"\n",
        "    Questa classe rappresenta un quadrato\n",
        "    \"\"\"\n",
        "\n",
        "    def area(self):\n",
        "        \n",
        "        \"\"\"\n",
        "        Calcolo dell'area del quadrato\n",
        "        \"\"\"\n",
        "        \n",
        "        return float(self.l*self.l)\n",
        "  \n",
        "  \n",
        "    def perimeter(self):\n",
        "        \n",
        "        \"\"\"\n",
        "        Calcolo del perimetro del triangolo\n",
        "        \"\"\"\n",
        "        \n",
        "        return self.l*4"
      ],
      "execution_count": 0,
      "outputs": []
    },
    {
      "cell_type": "code",
      "metadata": {
        "id": "JgawgcHr-91j",
        "colab_type": "code",
        "colab": {
          "base_uri": "https://localhost:8080/",
          "height": 53
        },
        "outputId": "fe3b082a-6fae-49a9-f7b3-d9f7ff6b7402"
      },
      "source": [
        "square = Square(5)\n",
        "print(\"Area del quadrato: %2.f\" % square.area())\n",
        "print(\"Perimetro del triangolo: %2.f\" % square.perimeter())"
      ],
      "execution_count": 16,
      "outputs": [
        {
          "output_type": "stream",
          "text": [
            "Area del quadrato: 25\n",
            "Perimetro del triangolo: 20\n"
          ],
          "name": "stdout"
        }
      ]
    },
    {
      "cell_type": "code",
      "metadata": {
        "id": "yX4_oWDW_FGH",
        "colab_type": "code",
        "colab": {
          "base_uri": "https://localhost:8080/",
          "height": 53
        },
        "outputId": "df420f83-95da-4f33-d27e-3c0fc084b7db"
      },
      "source": [
        "print(square)"
      ],
      "execution_count": 17,
      "outputs": [
        {
          "output_type": "stream",
          "text": [
            "Area del triangolo: 25\n",
            "Perimetro del triangolo: 20\n"
          ],
          "name": "stdout"
        }
      ]
    }
  ]
}