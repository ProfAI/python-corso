{
 "cells": [
  {
   "cell_type": "markdown",
   "metadata": {
    "colab_type": "text",
    "id": "6zFZdNJyk-HR"
   },
   "source": [
    "# Operare sui file\n",
    "\n",
    "## SOLO PER CHI USA GOOGLE COLABORATORY !\n",
    "Se usi Google Colaboratory devi caricare i file che useremo all'interno del tuo ambiente virtuale, per farlo esegui il codice qui sotto, premi sul tasto upload che comparirà e carica il file *proverbi.txt* che puoi trovare all'interno della [cartella *data* della directory *Operare su file di testo* della repository del corso](). "
   ]
  },
  {
   "cell_type": "code",
   "execution_count": 0,
   "metadata": {
    "colab": {
     "base_uri": "https://localhost:8080/",
     "height": 71,
     "resources": {
      "http://localhost:8080/nbextensions/google.colab/files.js": {
       "data": "Ly8gQ29weXJpZ2h0IDIwMTcgR29vZ2xlIExMQwovLwovLyBMaWNlbnNlZCB1bmRlciB0aGUgQXBhY2hlIExpY2Vuc2UsIFZlcnNpb24gMi4wICh0aGUgIkxpY2Vuc2UiKTsKLy8geW91IG1heSBub3QgdXNlIHRoaXMgZmlsZSBleGNlcHQgaW4gY29tcGxpYW5jZSB3aXRoIHRoZSBMaWNlbnNlLgovLyBZb3UgbWF5IG9idGFpbiBhIGNvcHkgb2YgdGhlIExpY2Vuc2UgYXQKLy8KLy8gICAgICBodHRwOi8vd3d3LmFwYWNoZS5vcmcvbGljZW5zZXMvTElDRU5TRS0yLjAKLy8KLy8gVW5sZXNzIHJlcXVpcmVkIGJ5IGFwcGxpY2FibGUgbGF3IG9yIGFncmVlZCB0byBpbiB3cml0aW5nLCBzb2Z0d2FyZQovLyBkaXN0cmlidXRlZCB1bmRlciB0aGUgTGljZW5zZSBpcyBkaXN0cmlidXRlZCBvbiBhbiAiQVMgSVMiIEJBU0lTLAovLyBXSVRIT1VUIFdBUlJBTlRJRVMgT1IgQ09ORElUSU9OUyBPRiBBTlkgS0lORCwgZWl0aGVyIGV4cHJlc3Mgb3IgaW1wbGllZC4KLy8gU2VlIHRoZSBMaWNlbnNlIGZvciB0aGUgc3BlY2lmaWMgbGFuZ3VhZ2UgZ292ZXJuaW5nIHBlcm1pc3Npb25zIGFuZAovLyBsaW1pdGF0aW9ucyB1bmRlciB0aGUgTGljZW5zZS4KCi8qKgogKiBAZmlsZW92ZXJ2aWV3IEhlbHBlcnMgZm9yIGdvb2dsZS5jb2xhYiBQeXRob24gbW9kdWxlLgogKi8KKGZ1bmN0aW9uKHNjb3BlKSB7CmZ1bmN0aW9uIHNwYW4odGV4dCwgc3R5bGVBdHRyaWJ1dGVzID0ge30pIHsKICBjb25zdCBlbGVtZW50ID0gZG9jdW1lbnQuY3JlYXRlRWxlbWVudCgnc3BhbicpOwogIGVsZW1lbnQudGV4dENvbnRlbnQgPSB0ZXh0OwogIGZvciAoY29uc3Qga2V5IG9mIE9iamVjdC5rZXlzKHN0eWxlQXR0cmlidXRlcykpIHsKICAgIGVsZW1lbnQuc3R5bGVba2V5XSA9IHN0eWxlQXR0cmlidXRlc1trZXldOwogIH0KICByZXR1cm4gZWxlbWVudDsKfQoKLy8gTWF4IG51bWJlciBvZiBieXRlcyB3aGljaCB3aWxsIGJlIHVwbG9hZGVkIGF0IGEgdGltZS4KY29uc3QgTUFYX1BBWUxPQURfU0laRSA9IDEwMCAqIDEwMjQ7Ci8vIE1heCBhbW91bnQgb2YgdGltZSB0byBibG9jayB3YWl0aW5nIGZvciB0aGUgdXNlci4KY29uc3QgRklMRV9DSEFOR0VfVElNRU9VVF9NUyA9IDMwICogMTAwMDsKCmZ1bmN0aW9uIF91cGxvYWRGaWxlcyhpbnB1dElkLCBvdXRwdXRJZCkgewogIGNvbnN0IHN0ZXBzID0gdXBsb2FkRmlsZXNTdGVwKGlucHV0SWQsIG91dHB1dElkKTsKICBjb25zdCBvdXRwdXRFbGVtZW50ID0gZG9jdW1lbnQuZ2V0RWxlbWVudEJ5SWQob3V0cHV0SWQpOwogIC8vIENhY2hlIHN0ZXBzIG9uIHRoZSBvdXRwdXRFbGVtZW50IHRvIG1ha2UgaXQgYXZhaWxhYmxlIGZvciB0aGUgbmV4dCBjYWxsCiAgLy8gdG8gdXBsb2FkRmlsZXNDb250aW51ZSBmcm9tIFB5dGhvbi4KICBvdXRwdXRFbGVtZW50LnN0ZXBzID0gc3RlcHM7CgogIHJldHVybiBfdXBsb2FkRmlsZXNDb250aW51ZShvdXRwdXRJZCk7Cn0KCi8vIFRoaXMgaXMgcm91Z2hseSBhbiBhc3luYyBnZW5lcmF0b3IgKG5vdCBzdXBwb3J0ZWQgaW4gdGhlIGJyb3dzZXIgeWV0KSwKLy8gd2hlcmUgdGhlcmUgYXJlIG11bHRpcGxlIGFzeW5jaHJvbm91cyBzdGVwcyBhbmQgdGhlIFB5dGhvbiBzaWRlIGlzIGdvaW5nCi8vIHRvIHBvbGwgZm9yIGNvbXBsZXRpb24gb2YgZWFjaCBzdGVwLgovLyBUaGlzIHVzZXMgYSBQcm9taXNlIHRvIGJsb2NrIHRoZSBweXRob24gc2lkZSBvbiBjb21wbGV0aW9uIG9mIGVhY2ggc3RlcCwKLy8gdGhlbiBwYXNzZXMgdGhlIHJlc3VsdCBvZiB0aGUgcHJldmlvdXMgc3RlcCBhcyB0aGUgaW5wdXQgdG8gdGhlIG5leHQgc3RlcC4KZnVuY3Rpb24gX3VwbG9hZEZpbGVzQ29udGludWUob3V0cHV0SWQpIHsKICBjb25zdCBvdXRwdXRFbGVtZW50ID0gZG9jdW1lbnQuZ2V0RWxlbWVudEJ5SWQob3V0cHV0SWQpOwogIGNvbnN0IHN0ZXBzID0gb3V0cHV0RWxlbWVudC5zdGVwczsKCiAgY29uc3QgbmV4dCA9IHN0ZXBzLm5leHQob3V0cHV0RWxlbWVudC5sYXN0UHJvbWlzZVZhbHVlKTsKICByZXR1cm4gUHJvbWlzZS5yZXNvbHZlKG5leHQudmFsdWUucHJvbWlzZSkudGhlbigodmFsdWUpID0+IHsKICAgIC8vIENhY2hlIHRoZSBsYXN0IHByb21pc2UgdmFsdWUgdG8gbWFrZSBpdCBhdmFpbGFibGUgdG8gdGhlIG5leHQKICAgIC8vIHN0ZXAgb2YgdGhlIGdlbmVyYXRvci4KICAgIG91dHB1dEVsZW1lbnQubGFzdFByb21pc2VWYWx1ZSA9IHZhbHVlOwogICAgcmV0dXJuIG5leHQudmFsdWUucmVzcG9uc2U7CiAgfSk7Cn0KCi8qKgogKiBHZW5lcmF0b3IgZnVuY3Rpb24gd2hpY2ggaXMgY2FsbGVkIGJldHdlZW4gZWFjaCBhc3luYyBzdGVwIG9mIHRoZSB1cGxvYWQKICogcHJvY2Vzcy4KICogQHBhcmFtIHtzdHJpbmd9IGlucHV0SWQgRWxlbWVudCBJRCBvZiB0aGUgaW5wdXQgZmlsZSBwaWNrZXIgZWxlbWVudC4KICogQHBhcmFtIHtzdHJpbmd9IG91dHB1dElkIEVsZW1lbnQgSUQgb2YgdGhlIG91dHB1dCBkaXNwbGF5LgogKiBAcmV0dXJuIHshSXRlcmFibGU8IU9iamVjdD59IEl0ZXJhYmxlIG9mIG5leHQgc3RlcHMuCiAqLwpmdW5jdGlvbiogdXBsb2FkRmlsZXNTdGVwKGlucHV0SWQsIG91dHB1dElkKSB7CiAgY29uc3QgaW5wdXRFbGVtZW50ID0gZG9jdW1lbnQuZ2V0RWxlbWVudEJ5SWQoaW5wdXRJZCk7CiAgaW5wdXRFbGVtZW50LmRpc2FibGVkID0gZmFsc2U7CgogIGNvbnN0IG91dHB1dEVsZW1lbnQgPSBkb2N1bWVudC5nZXRFbGVtZW50QnlJZChvdXRwdXRJZCk7CiAgb3V0cHV0RWxlbWVudC5pbm5lckhUTUwgPSAnJzsKCiAgY29uc3QgcGlja2VkUHJvbWlzZSA9IG5ldyBQcm9taXNlKChyZXNvbHZlKSA9PiB7CiAgICBpbnB1dEVsZW1lbnQuYWRkRXZlbnRMaXN0ZW5lcignY2hhbmdlJywgKGUpID0+IHsKICAgICAgcmVzb2x2ZShlLnRhcmdldC5maWxlcyk7CiAgICB9KTsKICB9KTsKCiAgY29uc3QgY2FuY2VsID0gZG9jdW1lbnQuY3JlYXRlRWxlbWVudCgnYnV0dG9uJyk7CiAgaW5wdXRFbGVtZW50LnBhcmVudEVsZW1lbnQuYXBwZW5kQ2hpbGQoY2FuY2VsKTsKICBjYW5jZWwudGV4dENvbnRlbnQgPSAnQ2FuY2VsIHVwbG9hZCc7CiAgY29uc3QgY2FuY2VsUHJvbWlzZSA9IG5ldyBQcm9taXNlKChyZXNvbHZlKSA9PiB7CiAgICBjYW5jZWwub25jbGljayA9ICgpID0+IHsKICAgICAgcmVzb2x2ZShudWxsKTsKICAgIH07CiAgfSk7CgogIC8vIENhbmNlbCB1cGxvYWQgaWYgdXNlciBoYXNuJ3QgcGlja2VkIGFueXRoaW5nIGluIHRpbWVvdXQuCiAgY29uc3QgdGltZW91dFByb21pc2UgPSBuZXcgUHJvbWlzZSgocmVzb2x2ZSkgPT4gewogICAgc2V0VGltZW91dCgoKSA9PiB7CiAgICAgIHJlc29sdmUobnVsbCk7CiAgICB9LCBGSUxFX0NIQU5HRV9USU1FT1VUX01TKTsKICB9KTsKCiAgLy8gV2FpdCBmb3IgdGhlIHVzZXIgdG8gcGljayB0aGUgZmlsZXMuCiAgY29uc3QgZmlsZXMgPSB5aWVsZCB7CiAgICBwcm9taXNlOiBQcm9taXNlLnJhY2UoW3BpY2tlZFByb21pc2UsIHRpbWVvdXRQcm9taXNlLCBjYW5jZWxQcm9taXNlXSksCiAgICByZXNwb25zZTogewogICAgICBhY3Rpb246ICdzdGFydGluZycsCiAgICB9CiAgfTsKCiAgaWYgKCFmaWxlcykgewogICAgcmV0dXJuIHsKICAgICAgcmVzcG9uc2U6IHsKICAgICAgICBhY3Rpb246ICdjb21wbGV0ZScsCiAgICAgIH0KICAgIH07CiAgfQoKICBjYW5jZWwucmVtb3ZlKCk7CgogIC8vIERpc2FibGUgdGhlIGlucHV0IGVsZW1lbnQgc2luY2UgZnVydGhlciBwaWNrcyBhcmUgbm90IGFsbG93ZWQuCiAgaW5wdXRFbGVtZW50LmRpc2FibGVkID0gdHJ1ZTsKCiAgZm9yIChjb25zdCBmaWxlIG9mIGZpbGVzKSB7CiAgICBjb25zdCBsaSA9IGRvY3VtZW50LmNyZWF0ZUVsZW1lbnQoJ2xpJyk7CiAgICBsaS5hcHBlbmQoc3BhbihmaWxlLm5hbWUsIHtmb250V2VpZ2h0OiAnYm9sZCd9KSk7CiAgICBsaS5hcHBlbmQoc3BhbigKICAgICAgICBgKCR7ZmlsZS50eXBlIHx8ICduL2EnfSkgLSAke2ZpbGUuc2l6ZX0gYnl0ZXMsIGAgKwogICAgICAgIGBsYXN0IG1vZGlmaWVkOiAkewogICAgICAgICAgICBmaWxlLmxhc3RNb2RpZmllZERhdGUgPyBmaWxlLmxhc3RNb2RpZmllZERhdGUudG9Mb2NhbGVEYXRlU3RyaW5nKCkgOgogICAgICAgICAgICAgICAgICAgICAgICAgICAgICAgICAgICAnbi9hJ30gLSBgKSk7CiAgICBjb25zdCBwZXJjZW50ID0gc3BhbignMCUgZG9uZScpOwogICAgbGkuYXBwZW5kQ2hpbGQocGVyY2VudCk7CgogICAgb3V0cHV0RWxlbWVudC5hcHBlbmRDaGlsZChsaSk7CgogICAgY29uc3QgZmlsZURhdGFQcm9taXNlID0gbmV3IFByb21pc2UoKHJlc29sdmUpID0+IHsKICAgICAgY29uc3QgcmVhZGVyID0gbmV3IEZpbGVSZWFkZXIoKTsKICAgICAgcmVhZGVyLm9ubG9hZCA9IChlKSA9PiB7CiAgICAgICAgcmVzb2x2ZShlLnRhcmdldC5yZXN1bHQpOwogICAgICB9OwogICAgICByZWFkZXIucmVhZEFzQXJyYXlCdWZmZXIoZmlsZSk7CiAgICB9KTsKICAgIC8vIFdhaXQgZm9yIHRoZSBkYXRhIHRvIGJlIHJlYWR5LgogICAgbGV0IGZpbGVEYXRhID0geWllbGQgewogICAgICBwcm9taXNlOiBmaWxlRGF0YVByb21pc2UsCiAgICAgIHJlc3BvbnNlOiB7CiAgICAgICAgYWN0aW9uOiAnY29udGludWUnLAogICAgICB9CiAgICB9OwoKICAgIC8vIFVzZSBhIGNodW5rZWQgc2VuZGluZyB0byBhdm9pZCBtZXNzYWdlIHNpemUgbGltaXRzLiBTZWUgYi82MjExNTY2MC4KICAgIGxldCBwb3NpdGlvbiA9IDA7CiAgICB3aGlsZSAocG9zaXRpb24gPCBmaWxlRGF0YS5ieXRlTGVuZ3RoKSB7CiAgICAgIGNvbnN0IGxlbmd0aCA9IE1hdGgubWluKGZpbGVEYXRhLmJ5dGVMZW5ndGggLSBwb3NpdGlvbiwgTUFYX1BBWUxPQURfU0laRSk7CiAgICAgIGNvbnN0IGNodW5rID0gbmV3IFVpbnQ4QXJyYXkoZmlsZURhdGEsIHBvc2l0aW9uLCBsZW5ndGgpOwogICAgICBwb3NpdGlvbiArPSBsZW5ndGg7CgogICAgICBjb25zdCBiYXNlNjQgPSBidG9hKFN0cmluZy5mcm9tQ2hhckNvZGUuYXBwbHkobnVsbCwgY2h1bmspKTsKICAgICAgeWllbGQgewogICAgICAgIHJlc3BvbnNlOiB7CiAgICAgICAgICBhY3Rpb246ICdhcHBlbmQnLAogICAgICAgICAgZmlsZTogZmlsZS5uYW1lLAogICAgICAgICAgZGF0YTogYmFzZTY0LAogICAgICAgIH0sCiAgICAgIH07CiAgICAgIHBlcmNlbnQudGV4dENvbnRlbnQgPQogICAgICAgICAgYCR7TWF0aC5yb3VuZCgocG9zaXRpb24gLyBmaWxlRGF0YS5ieXRlTGVuZ3RoKSAqIDEwMCl9JSBkb25lYDsKICAgIH0KICB9CgogIC8vIEFsbCBkb25lLgogIHlpZWxkIHsKICAgIHJlc3BvbnNlOiB7CiAgICAgIGFjdGlvbjogJ2NvbXBsZXRlJywKICAgIH0KICB9Owp9CgpzY29wZS5nb29nbGUgPSBzY29wZS5nb29nbGUgfHwge307CnNjb3BlLmdvb2dsZS5jb2xhYiA9IHNjb3BlLmdvb2dsZS5jb2xhYiB8fCB7fTsKc2NvcGUuZ29vZ2xlLmNvbGFiLl9maWxlcyA9IHsKICBfdXBsb2FkRmlsZXMsCiAgX3VwbG9hZEZpbGVzQ29udGludWUsCn07Cn0pKHNlbGYpOwo=",
       "headers": [
        [
         "content-type",
         "application/javascript"
        ]
       ],
       "ok": true,
       "status": 200,
       "status_text": ""
      }
     }
    },
    "colab_type": "code",
    "id": "bCdgKFg2k9a-",
    "outputId": "72418e01-2301-43b5-d010-c4a279f0d813"
   },
   "outputs": [
    {
     "data": {
      "text/html": [
       "\n",
       "     <input type=\"file\" id=\"files-7bc04049-b8b7-4441-8826-e10713a404f1\" name=\"files[]\" multiple disabled />\n",
       "     <output id=\"result-7bc04049-b8b7-4441-8826-e10713a404f1\">\n",
       "      Upload widget is only available when the cell has been executed in the\n",
       "      current browser session. Please rerun this cell to enable.\n",
       "      </output>\n",
       "      <script src=\"/nbextensions/google.colab/files.js\"></script> "
      ],
      "text/plain": [
       "<IPython.core.display.HTML object>"
      ]
     },
     "metadata": {
      "tags": []
     },
     "output_type": "display_data"
    },
    {
     "name": "stdout",
     "output_type": "stream",
     "text": [
      "Saving proverbi.txt to proverbi.txt\n"
     ]
    }
   ],
   "source": [
    "from google.colab import files\n",
    "uploaded = files.upload()"
   ]
  },
  {
   "cell_type": "markdown",
   "metadata": {
    "colab_type": "text",
    "id": "fANtylmdoYze"
   },
   "source": [
    "## Leggere il contenuto di un file\n",
    "Utilizzando python possiamo aprire un file con la funzione *open* "
   ]
  },
  {
   "cell_type": "code",
   "execution_count": 0,
   "metadata": {
    "colab": {
     "base_uri": "https://localhost:8080/",
     "height": 34
    },
    "colab_type": "code",
    "id": "cQiJM-HJoXfc",
    "outputId": "45070d39-428e-45c0-bf38-17b8d8644db8"
   },
   "outputs": [
    {
     "data": {
      "text/plain": [
       "_io.TextIOWrapper"
      ]
     },
     "execution_count": 5,
     "metadata": {
      "tags": []
     },
     "output_type": "execute_result"
    }
   ],
   "source": [
    "proverbs_file = open(\"proverbi.txt\")\n",
    "type(proverbs_file)"
   ]
  },
  {
   "cell_type": "markdown",
   "metadata": {
    "colab_type": "text",
    "id": "qK6ORnjYoxV6"
   },
   "source": [
    "Possiamo leggere il contenuto di un file con il metodo **read()**."
   ]
  },
  {
   "cell_type": "code",
   "execution_count": 0,
   "metadata": {
    "colab": {
     "base_uri": "https://localhost:8080/",
     "height": 34
    },
    "colab_type": "code",
    "id": "JLAYxvteo2Pq",
    "outputId": "4ed33b63-954f-4e2e-aacd-2a41de94f771"
   },
   "outputs": [
    {
     "name": "stdout",
     "output_type": "stream",
     "text": [
      "\n"
     ]
    }
   ],
   "source": [
    "proverbs = proverbs_file.read()\n",
    "print(proverbs)"
   ]
  },
  {
   "cell_type": "markdown",
   "metadata": {
    "colab_type": "text",
    "id": "UvhNzMNVphbf"
   },
   "source": [
    "Proviamo a leggere nuovamente il contenuto del file utilizzando la stessa istruzione."
   ]
  },
  {
   "cell_type": "code",
   "execution_count": 0,
   "metadata": {
    "colab": {
     "base_uri": "https://localhost:8080/",
     "height": 34
    },
    "colab_type": "code",
    "id": "H8TyP_ueplZI",
    "outputId": "4a881191-4c4f-451f-a6b2-d70048d9be19"
   },
   "outputs": [
    {
     "name": "stdout",
     "output_type": "stream",
     "text": [
      "\n"
     ]
    }
   ],
   "source": [
    "proverbs = proverbs_file.read()\n",
    "print(proverbs)"
   ]
  },
  {
   "cell_type": "markdown",
   "metadata": {
    "colab_type": "text",
    "id": "aEPhMnh6pnxt"
   },
   "source": [
    "Adesso il file risulta essere vuoto ! Come è possibile ? Questo accade perché l'oggetto file tiene al suo interno un **cursore** che viene posizionato fino a dove abbiamo letto, in questo caso alla file del file. Per posizionare manualmente il cursore possiamo usare il metodo seek passando al suo interno la posizione in cui vogliamo posizionare il cursore."
   ]
  },
  {
   "cell_type": "code",
   "execution_count": 0,
   "metadata": {
    "colab": {
     "base_uri": "https://localhost:8080/",
     "height": 223
    },
    "colab_type": "code",
    "id": "BZf4BZfXqkvM",
    "outputId": "a3c4c723-ab03-4c59-eab0-61838bcb1dc5"
   },
   "outputs": [
    {
     "name": "stdout",
     "output_type": "stream",
     "text": [
      "A buon intenditor, poche parole. \n",
      "A caval donato non si guarda in bocca. \n",
      "Anno nuovo, vita nuova. \n",
      "Bacco, Tabacco e Venere, riducon l’uomo in cenere. \n",
      "Buon sangue non mente. \n",
      "Campa cavallo che l’erba cresce. \n",
      "Can che abbaia non morde. \n",
      "Chi ben comincia è alla metà dell’opera. \n",
      "Chi è causa del suo mal, pianga se stesso.\n",
      "Chi la dura, la vince. \n",
      "Chiodo scaccia chiodo. \n",
      "Tanto la va la gatta al lardo che ci lascia lo zampino. \n"
     ]
    }
   ],
   "source": [
    "proverbs_file.seek(0)\n",
    "proverbs = proverbs_file.read()\n",
    "print(proverbs)"
   ]
  },
  {
   "cell_type": "markdown",
   "metadata": {
    "colab_type": "text",
    "id": "Xj9jdaB3pKdb"
   },
   "source": [
    "E' anche possibile leggere il contenuto di un file riga per riga usando il metodo *read_lines()*"
   ]
  },
  {
   "cell_type": "code",
   "execution_count": 0,
   "metadata": {
    "colab": {
     "base_uri": "https://localhost:8080/",
     "height": 223
    },
    "colab_type": "code",
    "id": "G29SCclZpGdS",
    "outputId": "468651a8-01fb-49b0-bf01-23d3401862da"
   },
   "outputs": [
    {
     "data": {
      "text/plain": [
       "['A buon intenditor, poche parole. \\n',\n",
       " 'A caval donato non si guarda in bocca. \\n',\n",
       " 'Anno nuovo, vita nuova. \\n',\n",
       " 'Bacco, Tabacco e Venere, riducon l’uomo in cenere. \\n',\n",
       " 'Buon sangue non mente. \\n',\n",
       " 'Campa cavallo che l’erba cresce. \\n',\n",
       " 'Can che abbaia non morde. \\n',\n",
       " 'Chi ben comincia è alla metà dell’opera. \\n',\n",
       " 'Chi è causa del suo mal, pianga se stesso.\\n',\n",
       " 'Chi la dura, la vince. \\n',\n",
       " 'Chiodo scaccia chiodo. \\n',\n",
       " 'Tanto la va la gatta al lardo che ci lascia lo zampino. ']"
      ]
     },
     "execution_count": 18,
     "metadata": {
      "tags": []
     },
     "output_type": "execute_result"
    }
   ],
   "source": [
    "proverbs_file.seek(0)\n",
    "proverbs_file.readlines()"
   ]
  },
  {
   "cell_type": "markdown",
   "metadata": {
    "colab_type": "text",
    "id": "SmJShGMvq51h"
   },
   "source": [
    "La funzione ha ritornato una lista con ogni riga del file. Possiamo iterare sulla lista ritornata dal metodo readlines."
   ]
  },
  {
   "cell_type": "code",
   "execution_count": 0,
   "metadata": {
    "colab": {
     "base_uri": "https://localhost:8080/",
     "height": 223
    },
    "colab_type": "code",
    "id": "M3bjhwBXpJ2w",
    "outputId": "9f9ac788-cbd1-4fa6-d3cd-5a7a2ab8a1cf"
   },
   "outputs": [
    {
     "name": "stdout",
     "output_type": "stream",
     "text": [
      "Proverbio: A buon intenditor, poche parole. \n",
      "Proverbio: A caval donato non si guarda in bocca. \n",
      "Proverbio: Anno nuovo, vita nuova. \n",
      "Proverbio: Bacco, Tabacco e Venere, riducon l’uomo in cenere. \n",
      "Proverbio: Buon sangue non mente. \n",
      "Proverbio: Campa cavallo che l’erba cresce. \n",
      "Proverbio: Can che abbaia non morde. \n",
      "Proverbio: Chi ben comincia è alla metà dell’opera. \n",
      "Proverbio: Chi è causa del suo mal, pianga se stesso.\n",
      "Proverbio: Chi la dura, la vince. \n",
      "Proverbio: Chiodo scaccia chiodo. \n",
      "Proverbio: Tanto la va la gatta al lardo che ci lascia lo zampino.\n"
     ]
    }
   ],
   "source": [
    "proverbs_file.seek(0)\n",
    "\n",
    "for proverb in proverbs_file.readlines():\n",
    "  print(\"Proverbio: %s\" % proverb[:-1]) # rimuoviamo l'ultimo carattere che rappresenta una nuova linea (\\n)"
   ]
  },
  {
   "cell_type": "markdown",
   "metadata": {
    "colab_type": "text",
    "id": "KWXjHPO1sNdX"
   },
   "source": [
    "## Chiusura di un file"
   ]
  },
  {
   "cell_type": "markdown",
   "metadata": {
    "colab_type": "text",
    "id": "GT3BgeXDrmsj"
   },
   "source": [
    "Quando non abbiamo più bisogno del file, dobbiamo sempre ricordare di chiuderlo utilizzando il metodo **close()**. "
   ]
  },
  {
   "cell_type": "code",
   "execution_count": 0,
   "metadata": {
    "colab": {},
    "colab_type": "code",
    "id": "dZ2l8Q0ZrTs3"
   },
   "outputs": [],
   "source": [
    "proverbs_file.close()"
   ]
  },
  {
   "cell_type": "markdown",
   "metadata": {
    "colab_type": "text",
    "id": "W3C4NX4br3th"
   },
   "source": [
    "Adesso non possiamo più operare sul file e un tentativo di lettura del contenuto scatenerà un'eccezione di tipo **ValueError**."
   ]
  },
  {
   "cell_type": "code",
   "execution_count": 0,
   "metadata": {
    "colab": {
     "base_uri": "https://localhost:8080/",
     "height": 164
    },
    "colab_type": "code",
    "id": "sjVKGSpmr0vL",
    "outputId": "780042ee-75c8-4b20-c3af-7523166406fc"
   },
   "outputs": [
    {
     "ename": "ValueError",
     "evalue": "ignored",
     "output_type": "error",
     "traceback": [
      "\u001b[0;31m---------------------------------------------------------------------------\u001b[0m",
      "\u001b[0;31mValueError\u001b[0m                                Traceback (most recent call last)",
      "\u001b[0;32m<ipython-input-23-78da5aea3c4e>\u001b[0m in \u001b[0;36m<module>\u001b[0;34m()\u001b[0m\n\u001b[0;32m----> 1\u001b[0;31m \u001b[0mproverbs_file\u001b[0m\u001b[0;34m.\u001b[0m\u001b[0mread\u001b[0m\u001b[0;34m(\u001b[0m\u001b[0;34m)\u001b[0m\u001b[0;34m\u001b[0m\u001b[0;34m\u001b[0m\u001b[0m\n\u001b[0m",
      "\u001b[0;31mValueError\u001b[0m: I/O operation on closed file."
     ]
    }
   ],
   "source": [
    "proverbs_file.read()"
   ]
  },
  {
   "cell_type": "markdown",
   "metadata": {
    "colab_type": "text",
    "id": "EWqZ_T7UsAJV"
   },
   "source": [
    "La non chiusura del file non causa nessun errore nel programma ma potrebbe causare problemi di sistema se un'altro programma tenta di accedere a quel file. Dato che capito spessissimo (parlo per esperienza diretta) di dimenticare di chiudere un file, conviene aprire un file all'interno di un contesto utilizzando il **with**, in questa maniera il file verrà chiuso in maniera automatica quando usciamo dal contesto."
   ]
  },
  {
   "cell_type": "code",
   "execution_count": 0,
   "metadata": {
    "colab": {
     "base_uri": "https://localhost:8080/",
     "height": 68
    },
    "colab_type": "code",
    "id": "c-EKBpOxr2bc",
    "outputId": "17f756c9-2c37-47cc-9c4d-cb72982e11ca"
   },
   "outputs": [
    {
     "name": "stdout",
     "output_type": "stream",
     "text": [
      "A buon intenditor, poche parole. \n",
      "\n",
      "Tanto la va la gatta al lardo che ci lascia lo zampino. \n"
     ]
    }
   ],
   "source": [
    "with open(\"proverbi.txt\") as proverbs_file:\n",
    "  proverbs = proverbs_file.readlines()\n",
    "  \n",
    "# stampiamo il primo proverbio\n",
    "print(proverbs[0])\n",
    "\n",
    "# stampiamo l'ultimo proverbio\n",
    "print(proverbs[-1])"
   ]
  },
  {
   "cell_type": "markdown",
   "metadata": {
    "colab_type": "text",
    "id": "fF7yHgtXtMgX"
   },
   "source": [
    "## Scrivere su di un file\n",
    "\n",
    "Per poter scrivere all'interno di un file dobbiamo aprire il file con i giusti permessi specificati nella funzione open:\n",
    "\n",
    " - **r**: apre il file in sola lettura (modalità di default)\n",
    " - **r+**: apre i file in lettura e scrittura, il puntatore viene posizionato all'inzio del file.\n",
    " - **w**: apre il file in sola scrittura, se il file esiste lo sovrascrive, se non esiste lo crea.\n",
    " - **w+**: apre il file in lettura e scrittura, se il file esiste lo sovrascrive, se non esiste lo crea.\n",
    " - **a**: apre il file in scrittura senza sovrascrivere il contenuto corrente.\n",
    " - **a+**: apre il file in lettura e scrittura senza sovrascrivere il contenuto corrente. Se il file non esiste lo crea.\n",
    "\n",
    "\n",
    "Quindi come puoi capire non definendo un permesso apriamo automaticamente il file in lettura. Proviamo ad aprire il file in scrittura per l'aggiunta di contenuti (append).\n"
   ]
  },
  {
   "cell_type": "code",
   "execution_count": 0,
   "metadata": {
    "colab": {},
    "colab_type": "code",
    "id": "u6LBJtM4s2-G"
   },
   "outputs": [],
   "source": [
    "proverbs_file = open(\"proverbi.txt\", 'a')"
   ]
  },
  {
   "cell_type": "markdown",
   "metadata": {
    "colab_type": "text",
    "id": "HsdEr4Z0vBFR"
   },
   "source": [
    "Proviamo a leggere il contenuto del file"
   ]
  },
  {
   "cell_type": "code",
   "execution_count": 0,
   "metadata": {
    "colab": {
     "base_uri": "https://localhost:8080/",
     "height": 164
    },
    "colab_type": "code",
    "id": "cW3pADqau_6l",
    "outputId": "a7dad279-1173-42a3-acef-ee5dc48e307f"
   },
   "outputs": [
    {
     "ename": "UnsupportedOperation",
     "evalue": "ignored",
     "output_type": "error",
     "traceback": [
      "\u001b[0;31m---------------------------------------------------------------------------\u001b[0m",
      "\u001b[0;31mUnsupportedOperation\u001b[0m                      Traceback (most recent call last)",
      "\u001b[0;32m<ipython-input-42-78da5aea3c4e>\u001b[0m in \u001b[0;36m<module>\u001b[0;34m()\u001b[0m\n\u001b[0;32m----> 1\u001b[0;31m \u001b[0mproverbs_file\u001b[0m\u001b[0;34m.\u001b[0m\u001b[0mread\u001b[0m\u001b[0;34m(\u001b[0m\u001b[0;34m)\u001b[0m\u001b[0;34m\u001b[0m\u001b[0;34m\u001b[0m\u001b[0m\n\u001b[0m",
      "\u001b[0;31mUnsupportedOperation\u001b[0m: not readable"
     ]
    }
   ],
   "source": [
    "proverbs_file.read()"
   ]
  },
  {
   "cell_type": "markdown",
   "metadata": {
    "colab_type": "text",
    "id": "3_cDDnI1vGiz"
   },
   "source": [
    "Come vedi ci viene negato, avendo aperto il file in sola lettura. Proviamo ad aggiungere un proverbio al file, possiamo farlo usando il metodo *write*."
   ]
  },
  {
   "cell_type": "code",
   "execution_count": 0,
   "metadata": {
    "colab": {
     "base_uri": "https://localhost:8080/",
     "height": 34
    },
    "colab_type": "code",
    "id": "_H4ZgVE3vE5y",
    "outputId": "e40c0c66-1633-47b6-816c-105c6e719d7c"
   },
   "outputs": [
    {
     "data": {
      "text/plain": [
       "38"
      ]
     },
     "execution_count": 43,
     "metadata": {
      "tags": []
     },
     "output_type": "execute_result"
    }
   ],
   "source": [
    "proverb = \"\\nIl vino buono sta nelle botti piccole\"\n",
    "proverbs_file.write(proverb)"
   ]
  },
  {
   "cell_type": "markdown",
   "metadata": {
    "colab_type": "text",
    "id": "jxZ0YYNXvjAL"
   },
   "source": [
    "Il carattere '\\n' all'inizio della stringa ci serve per andare ad una nuova riga. Cosa è quel numero che ci viene restituito dal metodo write ? Sono i numeri di byte scritti nel file, infatti un carattere occupa un singolo byte e la nostra stringa e composta da 38 caratteri, verifichiamolo con la funzione len."
   ]
  },
  {
   "cell_type": "code",
   "execution_count": 0,
   "metadata": {
    "colab": {
     "base_uri": "https://localhost:8080/",
     "height": 34
    },
    "colab_type": "code",
    "id": "3iDlGyAevWhF",
    "outputId": "fe12169d-fe8f-4cc4-c3cc-14354052fa17"
   },
   "outputs": [
    {
     "data": {
      "text/plain": [
       "38"
      ]
     },
     "execution_count": 44,
     "metadata": {
      "tags": []
     },
     "output_type": "execute_result"
    }
   ],
   "source": [
    "len(proverb)"
   ]
  },
  {
   "cell_type": "markdown",
   "metadata": {
    "colab_type": "text",
    "id": "I_7oTkT7v-0q"
   },
   "source": [
    "Come volevasi dimostrare ! Adesso chiudiamo il file e riapriamolo in lettura e aggiunta."
   ]
  },
  {
   "cell_type": "code",
   "execution_count": 0,
   "metadata": {
    "colab": {},
    "colab_type": "code",
    "id": "Dn2a9VaFvbQ0"
   },
   "outputs": [],
   "source": [
    "proverbs_file.close()\n",
    "proverbs_file = open(\"proverbi.txt\",'a+')"
   ]
  },
  {
   "cell_type": "markdown",
   "metadata": {
    "colab_type": "text",
    "id": "tfp-mAJfwatj"
   },
   "source": [
    "Proviamo a leggere il contenuto del file"
   ]
  },
  {
   "cell_type": "code",
   "execution_count": 0,
   "metadata": {
    "colab": {
     "base_uri": "https://localhost:8080/",
     "height": 34
    },
    "colab_type": "code",
    "id": "xFwEGbNZwY54",
    "outputId": "b82cbaa4-8d3b-4ed1-a19c-c793b117fd2c"
   },
   "outputs": [
    {
     "data": {
      "text/plain": [
       "''"
      ]
     },
     "execution_count": 52,
     "metadata": {
      "tags": []
     },
     "output_type": "execute_result"
    }
   ],
   "source": [
    "proverbs_file.read()"
   ]
  },
  {
   "cell_type": "markdown",
   "metadata": {
    "colab_type": "text",
    "id": "owOcw_V7wmeF"
   },
   "source": [
    "Vuoto ? Come è possibile ? Perchè aprendo il file in modalità *append* il cursore viene posizionato alla fine del file ! Spostiamolo all'inzio e riproviamo."
   ]
  },
  {
   "cell_type": "code",
   "execution_count": 0,
   "metadata": {
    "colab": {
     "base_uri": "https://localhost:8080/",
     "height": 260
    },
    "colab_type": "code",
    "id": "nfboHbT2weVx",
    "outputId": "04469c9e-9884-4223-b2f8-cf17967dc179"
   },
   "outputs": [
    {
     "name": "stdout",
     "output_type": "stream",
     "text": [
      "A buon intenditor, poche parole. \n",
      "A caval donato non si guarda in bocca. \n",
      "Anno nuovo, vita nuova. \n",
      "Bacco, Tabacco e Venere, riducon l’uomo in cenere. \n",
      "Buon sangue non mente. \n",
      "Campa cavallo che l’erba cresce. \n",
      "Can che abbaia non morde. \n",
      "Chi ben comincia è alla metà dell’opera. \n",
      "Chi è causa del suo mal, pianga se stesso.\n",
      "Chi la dura, la vince. \n",
      "Chiodo scaccia chiodo. \n",
      "Tanto la va la gatta al lardo che ci lascia lo zampino. Il vino buono sta nelle botti piccoleIl vino buono sta nelle botti piccoleIl vino buono sta nelle botti piccole\n",
      "Il vino buono sta nelle botti piccoleChi va a Roma perde la poltrona\n"
     ]
    }
   ],
   "source": [
    "proverbs_file.seek(0)\n",
    "print(proverbs_file.read())"
   ]
  },
  {
   "cell_type": "markdown",
   "metadata": {
    "colab_type": "text",
    "id": "0NHjQF1zxefV"
   },
   "source": [
    "Aggiungiamo un'altro proverbio."
   ]
  },
  {
   "cell_type": "code",
   "execution_count": 0,
   "metadata": {
    "colab": {
     "base_uri": "https://localhost:8080/",
     "height": 34
    },
    "colab_type": "code",
    "id": "VBfWpNxixI3j",
    "outputId": "78640370-030e-4a8b-848c-ba73904dec54"
   },
   "outputs": [
    {
     "data": {
      "text/plain": [
       "31"
      ]
     },
     "execution_count": 50,
     "metadata": {
      "tags": []
     },
     "output_type": "execute_result"
    }
   ],
   "source": [
    "proverbs_file.write(\"\\nChi va a Roma perde la poltrona\") # non so se sia un proverbio."
   ]
  },
  {
   "cell_type": "markdown",
   "metadata": {
    "colab_type": "text",
    "id": "77uvOX84x1i1"
   },
   "source": [
    "Verifichiamo il contenuto del file"
   ]
  },
  {
   "cell_type": "code",
   "execution_count": 0,
   "metadata": {
    "colab": {
     "base_uri": "https://localhost:8080/",
     "height": 260
    },
    "colab_type": "code",
    "id": "ARv4V0-hxvd-",
    "outputId": "df2eb78e-5f8b-4794-a683-5315add3cae3"
   },
   "outputs": [
    {
     "name": "stdout",
     "output_type": "stream",
     "text": [
      "A buon intenditor, poche parole. \n",
      "A caval donato non si guarda in bocca. \n",
      "Anno nuovo, vita nuova. \n",
      "Bacco, Tabacco e Venere, riducon l’uomo in cenere. \n",
      "Buon sangue non mente. \n",
      "Campa cavallo che l’erba cresce. \n",
      "Can che abbaia non morde. \n",
      "Chi ben comincia è alla metà dell’opera. \n",
      "Chi è causa del suo mal, pianga se stesso.\n",
      "Chi la dura, la vince. \n",
      "Chiodo scaccia chiodo. \n",
      "Tanto la va la gatta al lardo che ci lascia lo zampino. Il vino buono sta nelle botti piccoleIl vino buono sta nelle botti piccoleIl vino buono sta nelle botti piccole\n",
      "Il vino buono sta nelle botti piccoleChi va a Roma perde la poltrona\n"
     ]
    }
   ],
   "source": [
    "proverbs_file.seek(0)\n",
    "print(proverbs_file.read())"
   ]
  },
  {
   "cell_type": "markdown",
   "metadata": {
    "colab_type": "text",
    "id": "w1C9mtEnyE4_"
   },
   "source": [
    "Perfetto ! Ricordiamoci di chiudere il file."
   ]
  },
  {
   "cell_type": "code",
   "execution_count": 0,
   "metadata": {
    "colab": {},
    "colab_type": "code",
    "id": "bHOkSVpxxzLS"
   },
   "outputs": [],
   "source": [
    "proverbs_file.close()"
   ]
  },
  {
   "cell_type": "markdown",
   "metadata": {
    "colab_type": "text",
    "id": "S9vZOq0RyUir"
   },
   "source": [
    "## Creazione di un nuovo file\n",
    "Possiamo creare un nuovo file con la funzione *open* utilizzando w (solo scrittura) o w+ (lettura e scrittura) come permessi."
   ]
  },
  {
   "cell_type": "code",
   "execution_count": 0,
   "metadata": {
    "colab": {},
    "colab_type": "code",
    "id": "WgVrbI3PyWmk"
   },
   "outputs": [],
   "source": [
    "proverbs_file = open('proverbi.txt')\n",
    "new_proverbs_file = open('nuovi_proverbi.txt','w+')"
   ]
  },
  {
   "cell_type": "markdown",
   "metadata": {
    "colab_type": "text",
    "id": "Z19Ck540yyDB"
   },
   "source": [
    "Se dai uno sguardo alla tua directory corrente troverai al suo interno, oltre al file proverbi.txt, un nuovo file nuovi_proverbi.txt, per adesso vuoto. Scriviamoci dentro i primi 3 proverbi del file proverbi.txt."
   ]
  },
  {
   "cell_type": "code",
   "execution_count": 0,
   "metadata": {
    "colab": {
     "base_uri": "https://localhost:8080/",
     "height": 120
    },
    "colab_type": "code",
    "id": "PhsWAXecytMB",
    "outputId": "c1cfb5f6-f629-4bc1-9614-732b8ec80688"
   },
   "outputs": [
    {
     "name": "stdout",
     "output_type": "stream",
     "text": [
      "A buon intenditor, poche parole. \n",
      "\n",
      "A caval donato non si guarda in bocca. \n",
      "\n",
      "Anno nuovo, vita nuova. \n",
      "\n"
     ]
    }
   ],
   "source": [
    "for i,proverb in enumerate(proverbs_file.readlines()):\n",
    "  if(i>=3):\n",
    "    break\n",
    "  print(proverb)\n",
    "  new_proverbs_file.write(proverb)"
   ]
  },
  {
   "cell_type": "markdown",
   "metadata": {
    "colab_type": "text",
    "id": "FBXnwZDj0rnd"
   },
   "source": [
    "Leggiamo il file per verificare che i proverbi siano stati scritti."
   ]
  },
  {
   "cell_type": "code",
   "execution_count": 0,
   "metadata": {
    "colab": {
     "base_uri": "https://localhost:8080/",
     "height": 86
    },
    "colab_type": "code",
    "id": "U8VJjwnfzJcp",
    "outputId": "3321b65e-7c0d-41e6-8a56-6077e51dc755"
   },
   "outputs": [
    {
     "name": "stdout",
     "output_type": "stream",
     "text": [
      "A buon intenditor, poche parole. \n",
      "A caval donato non si guarda in bocca. \n",
      "Anno nuovo, vita nuova. \n",
      "\n"
     ]
    }
   ],
   "source": [
    "new_proverbs_file.seek(0)\n",
    "print(new_proverbs_file.read())"
   ]
  },
  {
   "cell_type": "markdown",
   "metadata": {
    "colab_type": "text",
    "id": "dHj_AWic0xG-"
   },
   "source": [
    "Perfetto ! Chiudiamo pure i files."
   ]
  },
  {
   "cell_type": "code",
   "execution_count": 0,
   "metadata": {
    "colab": {},
    "colab_type": "code",
    "id": "IFbdF7KpzjGb"
   },
   "outputs": [],
   "source": [
    "proverbs_file.close()\n",
    "new_proverbs_file.close()"
   ]
  },
  {
   "cell_type": "markdown",
   "metadata": {},
   "source": [
    "## File binari"
   ]
  },
  {
   "cell_type": "code",
   "execution_count": null,
   "metadata": {},
   "outputs": [],
   "source": []
  }
 ],
 "metadata": {
  "colab": {
   "name": "operare_su_txt.ipynb",
   "provenance": [],
   "toc_visible": true
  },
  "kernelspec": {
   "display_name": "Python 3",
   "language": "python",
   "name": "python3"
  },
  "language_info": {
   "codemirror_mode": {
    "name": "ipython",
    "version": 3
   },
   "file_extension": ".py",
   "mimetype": "text/x-python",
   "name": "python",
   "nbconvert_exporter": "python",
   "pygments_lexer": "ipython3",
   "version": "3.7.4"
  }
 },
 "nbformat": 4,
 "nbformat_minor": 1
}
