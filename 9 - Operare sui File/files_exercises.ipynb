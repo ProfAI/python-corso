{
  "nbformat": 4,
  "nbformat_minor": 0,
  "metadata": {
    "kernelspec": {
      "display_name": "Python 3",
      "language": "python",
      "name": "python3"
    },
    "language_info": {
      "codemirror_mode": {
        "name": "ipython",
        "version": 3
      },
      "file_extension": ".py",
      "mimetype": "text/x-python",
      "name": "python",
      "nbconvert_exporter": "python",
      "pygments_lexer": "ipython3",
      "version": "3.7.4"
    },
    "colab": {
      "name": "files_exercises.ipynb",
      "provenance": []
    }
  },
  "cells": [
    {
      "cell_type": "markdown",
      "metadata": {
        "id": "06YJYmDkjDmH"
      },
      "source": [
        "# Esercizi con i file"
      ]
    },
    {
      "cell_type": "markdown",
      "metadata": {
        "id": "mQsJkG4CjDmL"
      },
      "source": [
        "## 1. Filtra i proverbi\n",
        "Leggi il contenuto del file proverbi.txt e scrivi su di un nuovo file chiamato proverbi_filtrati.txt solo i proverbi che iniziano per vocale o che solo più brevi di 25 caratteri."
      ]
    },
    {
      "cell_type": "code",
      "metadata": {
        "id": "jkBF7YZgjDmN",
        "outputId": "34e25344-1911-490e-a2e7-88b7b3ef17f1"
      },
      "source": [
        "proverbs_new = open(\"proverbi_filtrati.txt\",\"a+\")\n",
        "proverbs_file = open(\"proverbi.txt\", \"r\")\n",
        "\n",
        "for proverb in proverbs_file.readlines():\n",
        "    if(proverb[0] in [\"A\",\"E\",\"I\",\"O\",\"U\"] or len(proverb)<=25):\n",
        "        print(proverb[:-1])\n",
        "        proverbs_new.write(proverb)\n",
        "        \n",
        "proverbs_new.close()\n",
        "proverbs_file.close()"
      ],
      "execution_count": null,
      "outputs": [
        {
          "name": "stdout",
          "output_type": "stream",
          "text": [
            "A buon intenditor, poche parole. \n",
            "A caval donato non si guarda in bocca. \n",
            "Anno nuovo, vita nuova. \n",
            "Buon sangue non mente. \n",
            "Chi la dura, la vince. \n",
            "Chiodo scaccia chiodo. \n"
          ]
        }
      ]
    },
    {
      "cell_type": "markdown",
      "metadata": {
        "id": "EG4MnF6XjJzq"
      },
      "source": [
        "## 2. Analisi di magazzino\n",
        "Apri il file shirts.csv e calcola le seguenti statistiche su di esso:\n",
        "1. Numero totale di prodotti presenti.\n",
        "2. Valore totale del magazzino (la somma del prezzo di tutti i prodotti.\n",
        "3. Prezzo medio dei prodotti\n",
        "4. Numero di prodotti per ogni colore\n",
        "5. Numero di prodotti per ogni taglia\n",
        "\n",
        "Salva le statistiche all'interno di un dizionario e stampalo su schermo.\n",
        "<br><br>\n",
        "**Esempio di output**<br>\n",
        "{'prodotti': 100, 'valore_totale': 1247.5, 'taglie': {'S': 24, 'M': 24, 'XL': 23, 'L': 25}, 'colori': {'bianco': 46, 'verde': 32, 'rosso': 19}, 'costo_medio': 12.47}"
      ]
    },
    {
      "cell_type": "code",
      "metadata": {
        "id": "7s-xh342jOFw"
      },
      "source": [
        "import csv\n",
        "\n",
        "stats = {\"prodotti\":0,\"valore_totale\":0, \"taglie\":{},\"colori\":{}}\n",
        "\n",
        "with open('shirts.csv') as csv_file:\n",
        "    \n",
        "    csv_reader = csv.DictReader(csv_file)\n",
        "    \n",
        "    for row in csv_reader:\n",
        "        \n",
        "        stats[\"prodotti\"]+=1\n",
        "        stats[\"valore_totale\"]+=float(row[\"prezzo\"])\n",
        "        \n",
        "        if(row[\"taglia\"] in stats[\"taglie\"]):\n",
        "            stats[\"taglie\"][row[\"taglia\"]]+=1\n",
        "        else:\n",
        "            stats[\"taglie\"][row[\"taglia\"]]=0\n",
        "            \n",
        "        if(row[\"colore\"] in stats[\"colori\"]):\n",
        "            stats[\"colori\"][row[\"colore\"]]+=1\n",
        "        else:\n",
        "            stats[\"colori\"][row[\"colore\"]]=0\n",
        "\n",
        "stats[\"valore_totale\"]=round(stats[\"valore_totale\"], 2)\n",
        "stats[\"costo_medio\"]=round(stats[\"valore_totale\"]/stats[\"prodotti\"], 2)\n",
        "print(stats)"
      ],
      "execution_count": null,
      "outputs": []
    }
  ]
}