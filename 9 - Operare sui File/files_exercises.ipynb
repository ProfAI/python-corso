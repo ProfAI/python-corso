{
 "cells": [
  {
   "cell_type": "markdown",
   "metadata": {},
   "source": [
    "# Esercizi con i file"
   ]
  },
  {
   "cell_type": "markdown",
   "metadata": {},
   "source": [
    "## 1. Filtra i proverbi\n",
    "Leggi il contenuto del file proverbi.txt e scrivi su di un nuovo file chiamato proverbi_filtrati.txt solo i proverbi che iniziano per vocale o che solo più brevi di 25 caratteri."
   ]
  },
  {
   "cell_type": "code",
   "execution_count": 6,
   "metadata": {},
   "outputs": [
    {
     "name": "stdout",
     "output_type": "stream",
     "text": [
      "A buon intenditor, poche parole. \n",
      "A caval donato non si guarda in bocca. \n",
      "Anno nuovo, vita nuova. \n",
      "Buon sangue non mente. \n",
      "Chi la dura, la vince. \n",
      "Chiodo scaccia chiodo. \n"
     ]
    }
   ],
   "source": [
    "proverbs_new = open(\"proverbi_filtrati.txt\",\"a+\")\n",
    "proverbs_file = open(\"proverbi.txt\", \"r\")\n",
    "\n",
    "for proverb in proverbs_file.readlines():\n",
    "    if(proverb[0] in [\"A\",\"E\",\"I\",\"O\",\"U\"] or len(proverb)<=25):\n",
    "        print(proverb[:-1])\n",
    "        proverbs_new.write(proverb)\n",
    "        \n",
    "proverbs_new.close()\n",
    "proverbs_file.close()"
   ]
  }
 ],
 "metadata": {
  "kernelspec": {
   "display_name": "Python 3",
   "language": "python",
   "name": "python3"
  },
  "language_info": {
   "codemirror_mode": {
    "name": "ipython",
    "version": 3
   },
   "file_extension": ".py",
   "mimetype": "text/x-python",
   "name": "python",
   "nbconvert_exporter": "python",
   "pygments_lexer": "ipython3",
   "version": "3.7.4"
  }
 },
 "nbformat": 4,
 "nbformat_minor": 2
}
