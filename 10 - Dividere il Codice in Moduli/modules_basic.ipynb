{
 "cells": [
  {
   "cell_type": "markdown",
   "metadata": {},
   "source": [
    "# I Moduli\n",
    "I moduli ci permettono di organizzare il codice dei nostri programmi in più file, separandone le parti e garantendo una riutilizzabilità ottimale del codice.\n",
    "Nella pratica, un modulo non è altro che uno script python (.py), con dentro definite delle classi o delle funzioni, possiamo utilizzare tali classi o tali funzioni all'interno di un'altro script python utilizzando import\n",
    "<br><br>\n",
    "**NOTA BENE** i due script devono trovarsi all'interno della stessa directory\n",
    "<br><br>\n",
    "Nella stessa directory di questo notebook abbiamo un file chiamato script.py, con il seguente contenuto:\n",
    "<br><br>\n",
    "def hello_world():<br>\n",
    "    print(\"Hello world!\")<br>\n",
    "<br>\n",
    "Importiamo nel notebook e utilizziamo la sua funzione *hello_world()*."
   ]
  },
  {
   "cell_type": "code",
   "execution_count": 1,
   "metadata": {},
   "outputs": [
    {
     "name": "stdout",
     "output_type": "stream",
     "text": [
      "<class 'module'>\n",
      "Hello world!\n"
     ]
    }
   ],
   "source": [
    "import script\n",
    "\n",
    "print(type(script))\n",
    "\n",
    "script.hello_world()"
   ]
  },
  {
   "cell_type": "markdown",
   "metadata": {},
   "source": [
    "Come vedi possiamo eseguire una funzione contenuta in un modulo possiamo usare una sintassi del tipo nome_modulo.nome_funzione()\n",
    "Il discorso è uguale per le classi"
   ]
  },
  {
   "cell_type": "code",
   "execution_count": 2,
   "metadata": {},
   "outputs": [
    {
     "name": "stdout",
     "output_type": "stream",
     "text": [
      "L'area del triangolo è 15.00\n",
      "L'area del quadrato è 25.00\n",
      "L'area del rettangolo è 20.00\n"
     ]
    }
   ],
   "source": [
    "import geometry\n",
    "\n",
    "triangle = geometry.Triangle(3., 5., 4., 6.)\n",
    "print(\"L'area del triangolo è %.2f\" % triangle.area())\n",
    "\n",
    "square = geometry.Square(5.)\n",
    "print(\"L'area del quadrato è %.2f\" % square.area())\n",
    "\n",
    "rectangle = geometry.Rectangle(5.,4.)\n",
    "print(\"L'area del rettangolo è %.2f\" % rectangle.area())"
   ]
  },
  {
   "cell_type": "markdown",
   "metadata": {},
   "source": [
    "Possiamo anche decidere di importare solo le funzioni o classi che ci servono utilizziando una sintessi del tipo from modulo import function se vogliamo importare più classi o funzioni basta separarle da una virgola."
   ]
  },
  {
   "cell_type": "code",
   "execution_count": 5,
   "metadata": {},
   "outputs": [
    {
     "name": "stdout",
     "output_type": "stream",
     "text": [
      "L'area del triangolo è 15.00\n"
     ]
    }
   ],
   "source": [
    "from geometry import Triangle\n",
    "\n",
    "triangle = Triangle(3., 5., 4., 6.)\n",
    "print(\"L'area del triangolo è %.2f\" % triangle.area())"
   ]
  },
  {
   "cell_type": "code",
   "execution_count": 4,
   "metadata": {},
   "outputs": [
    {
     "name": "stdout",
     "output_type": "stream",
     "text": [
      "L'area del quadrato è 25.00\n",
      "L'area del rettangolo è 20.00\n"
     ]
    }
   ],
   "source": [
    "from geometry import Square, Rectangle\n",
    "\n",
    "square = Square(5.)\n",
    "print(\"L'area del quadrato è %.2f\" % square.area())\n",
    "\n",
    "rectangle = Rectangle(5.,4.)\n",
    "print(\"L'area del rettangolo è %.2f\" % rectangle.area())"
   ]
  },
  {
   "cell_type": "markdown",
   "metadata": {},
   "source": [
    "Certe volte è utile assegnare un **alias** ad una funzione o ad una classe importanta, questa cosa è utile specialmente nel caso in cui nel nostro codice c'è già un'altro oggetto con lo stesso nome."
   ]
  },
  {
   "cell_type": "code",
   "execution_count": 7,
   "metadata": {},
   "outputs": [
    {
     "name": "stdout",
     "output_type": "stream",
     "text": [
      "L'area del quadrato è 25.00\n",
      "Il quadrato di 5 è 25\n"
     ]
    }
   ],
   "source": [
    "def Square(n):\n",
    "    return n**2\n",
    "\n",
    "from geometry import Square as SquareShape\n",
    "\n",
    "square = SquareShape(5.)\n",
    "print(\"L'area del quadrato è %.2f\" % square.area())\n",
    "\n",
    "square = Square(5.)\n",
    "print(\"Il quadrato di 5 è %d\" % square)"
   ]
  }
 ],
 "metadata": {
  "kernelspec": {
   "display_name": "base",
   "language": "python",
   "name": "base"
  },
  "language_info": {
   "codemirror_mode": {
    "name": "ipython",
    "version": 3
   },
   "file_extension": ".py",
   "mimetype": "text/x-python",
   "name": "python",
   "nbconvert_exporter": "python",
   "pygments_lexer": "ipython3",
   "version": "3.7.3"
  }
 },
 "nbformat": 4,
 "nbformat_minor": 2
}
