{
 "cells": [
  {
   "cell_type": "markdown",
   "metadata": {
    "colab_type": "text",
    "id": "view-in-github"
   },
   "source": [
    "<a href=\"https://colab.research.google.com/github/ProfAI/py4ai/blob/master/3%20-%20Le%20Collezioni%20di%20Dati/collections.ipynb\" target=\"_parent\"><img src=\"https://colab.research.google.com/assets/colab-badge.svg\" alt=\"Open In Colab\"/></a>"
   ]
  },
  {
   "cell_type": "markdown",
   "metadata": {
    "colab_type": "text",
    "id": "lh3vODumW60M"
   },
   "source": [
    "# Le Collezioni di Dati in Python\n",
    "Le collezioni sono particolari tipi di dati che possono essere utilizzate per contenere insiemi di dati. Python ci mette a disposizione 4 principali tipi di collezioni: liste, tuple, set e dizionari."
   ]
  },
  {
   "cell_type": "markdown",
   "metadata": {
    "colab_type": "text",
    "id": "rYelZFvpW_U5"
   },
   "source": [
    "## Le Liste\n",
    "Possiamo creare una lista di dati semplicemente racchiudendoli tra parentesti quadre e separandoli con una virgola."
   ]
  },
  {
   "cell_type": "code",
   "execution_count": 0,
   "metadata": {
    "colab": {
     "base_uri": "https://localhost:8080/",
     "height": 35
    },
    "colab_type": "code",
    "id": "zmDlMZ_MViW-",
    "outputId": "2d5b3a8b-75a7-4c90-c94a-5ebeda23817c"
   },
   "outputs": [
    {
     "name": "stdout",
     "output_type": "stream",
     "text": [
      "[1, 2, 3, 5, 8, 13, 21] <class 'list'>\n"
     ]
    }
   ],
   "source": [
    "l = [1, 2 ,3 ,5 ,8 ,13 ,21]\n",
    "print(l, type(l))"
   ]
  },
  {
   "cell_type": "markdown",
   "metadata": {},
   "source": [
    "In teoria una lista può contenere anche diversi tipi di dati, ma è buona pratica non farlo."
   ]
  },
  {
   "cell_type": "code",
   "execution_count": 1,
   "metadata": {},
   "outputs": [
    {
     "name": "stdout",
     "output_type": "stream",
     "text": [
      "[0, 'patate', True, 3.14]\n"
     ]
    }
   ],
   "source": [
    "weird_list = [0, \"patate\", True, 3.14] # questo funziona, ma non si fa\n",
    "print(weird_list)"
   ]
  },
  {
   "cell_type": "markdown",
   "metadata": {},
   "source": [
    "### Indexing"
   ]
  },
  {
   "cell_type": "markdown",
   "metadata": {
    "colab_type": "text",
    "id": "H3LplS2RXQsb"
   },
   "source": [
    "Per accedere ad un elemento della lista dobbiamo inserire il suo **indice** tra parentesi quadre, questa opeazione è chiamata *indexing*.\n",
    "<br>\n",
    "**NOTA BENISSIMO** In Python e in quasi tutti i linguaggi di programmazione gli indici partono da 0."
   ]
  },
  {
   "cell_type": "code",
   "execution_count": 0,
   "metadata": {
    "colab": {
     "base_uri": "https://localhost:8080/",
     "height": 69
    },
    "colab_type": "code",
    "id": "T_dIV8iIXE4r",
    "outputId": "8c9ce0f3-6fe5-402c-f539-c27e6ba754a5"
   },
   "outputs": [
    {
     "name": "stdout",
     "output_type": "stream",
     "text": [
      "1\n",
      "2\n",
      "13\n"
     ]
    }
   ],
   "source": [
    "print(l[0]) # primo elemento della lista\n",
    "print(l[1]) # secondo elemento della lista\n",
    "print(l[5]) # sesto elemento della lista"
   ]
  },
  {
   "cell_type": "markdown",
   "metadata": {},
   "source": [
    "L'utilizzo del - davanti all'indice ci permette di accedere alla lista dall'ultimo elemento verso il primo, in questo caso l'indice parte da 1 e non da zero, quindi con -1 accederemo all'ultimo elemento della lista."
   ]
  },
  {
   "cell_type": "code",
   "execution_count": 0,
   "metadata": {
    "colab": {
     "base_uri": "https://localhost:8080/",
     "height": 52
    },
    "colab_type": "code",
    "id": "eQzq855nXiRh",
    "outputId": "4d7fbbfd-9f9b-4b22-8c54-9bc793f45ff6"
   },
   "outputs": [
    {
     "name": "stdout",
     "output_type": "stream",
     "text": [
      "21\n",
      "8\n"
     ]
    }
   ],
   "source": [
    "print(l[-1]) # ultimo elemento della lista\n",
    "print(l[-3]) # terzultimo elemento della lista"
   ]
  },
  {
   "cell_type": "markdown",
   "metadata": {
    "colab_type": "text",
    "id": "3XcOOfb5Xtsi"
   },
   "source": [
    "### Slicing\n",
    "Possiamo estrarre solo una parte della lista inserendo gli indici di inizio (incluso) e fine (escluso) separati da (:)"
   ]
  },
  {
   "cell_type": "code",
   "execution_count": 0,
   "metadata": {
    "colab": {
     "base_uri": "https://localhost:8080/",
     "height": 87
    },
    "colab_type": "code",
    "id": "sLss6ObcXrQU",
    "outputId": "6cd5f550-61fb-483e-a66e-75ff77762b4a"
   },
   "outputs": [
    {
     "name": "stdout",
     "output_type": "stream",
     "text": [
      "[8, 13]\n",
      "[1, 2, 3]\n",
      "[13, 21]\n",
      "[1, 2, 3, 5, 8]\n"
     ]
    }
   ],
   "source": [
    "print(l[4:6]) # dal quarto (incluso) al sesto (esluso)\n",
    "print(l[:3]) # fino al terzo elemento\n",
    "print(l[-2:]) # ultimi due elementi\n",
    "print(l[:-2]) # fino agli ultimi due elementi"
   ]
  },
  {
   "cell_type": "markdown",
   "metadata": {},
   "source": [
    "Possiamo anche utilizzare un terzo valore, che indicherà il verso della selezione, valore 1: da sinistra a destra (valore di default) valore -1 da destra a sinistra (per ribaltare la lista)."
   ]
  },
  {
   "cell_type": "code",
   "execution_count": 0,
   "metadata": {
    "colab": {
     "base_uri": "https://localhost:8080/",
     "height": 35
    },
    "colab_type": "code",
    "id": "OBsUofNEYMAV",
    "outputId": "b3d708a0-af68-49a8-e4e3-1c2b19deac21"
   },
   "outputs": [
    {
     "data": {
      "text/plain": [
       "[21, 13, 8, 5, 3, 2, 1]"
      ]
     },
     "execution_count": 5,
     "metadata": {
      "tags": []
     },
     "output_type": "execute_result"
    }
   ],
   "source": [
    "l[::-1] # dall'ultimo al primo"
   ]
  },
  {
   "cell_type": "markdown",
   "metadata": {
    "colab_type": "text",
    "id": "FHgTu2XtY6mX"
   },
   "source": [
    "### Modifica\n",
    "Possiamo modificare il valore di un elemento della lista semplicemente accedendo ad esso e eseguendo un'assegnazione."
   ]
  },
  {
   "cell_type": "code",
   "execution_count": 0,
   "metadata": {
    "colab": {
     "base_uri": "https://localhost:8080/",
     "height": 52
    },
    "colab_type": "code",
    "id": "IJsok7jmY8z3",
    "outputId": "104049ac-57a2-4c36-ca05-8c9c5ca9b3ea"
   },
   "outputs": [
    {
     "name": "stdout",
     "output_type": "stream",
     "text": [
      "Valora alla posizione 5: 8\n",
      "Nuovo valore alla posizione 5: 10\n"
     ]
    }
   ],
   "source": [
    "print(\"Valora alla posizione 5: %d\" % l[4])\n",
    "l[4] = 10\n",
    "print(\"Nuovo valore alla posizione 5: %d\" % l[4])"
   ]
  },
  {
   "cell_type": "markdown",
   "metadata": {},
   "source": [
    "Possiamo anche modificare più valori in una volta, assegnando una nuova lista ad una frazione della lista."
   ]
  },
  {
   "cell_type": "code",
   "execution_count": 0,
   "metadata": {
    "colab": {
     "base_uri": "https://localhost:8080/",
     "height": 52
    },
    "colab_type": "code",
    "id": "ds9XiZimZVQ6",
    "outputId": "f530d675-11c3-4531-c1b3-2561aeb68d96"
   },
   "outputs": [
    {
     "name": "stdout",
     "output_type": "stream",
     "text": [
      "[1, 2, 3, 5, 10, 13, 21]\n",
      "[90, 100, 3, 5, 10, 13, 21]\n"
     ]
    }
   ],
   "source": [
    "print(l)\n",
    "l[:2] = [90, 100]\n",
    "print(l)"
   ]
  },
  {
   "cell_type": "markdown",
   "metadata": {},
   "source": [
    "Anche la lista, come tutti i tipi di dato in Python, è un oggetto e quindi ha i suoi metodi. Per modificare il contenuto di una lista possiamo anche sfruttare i seguenti metodi:\n",
    "<br><br>**append(e)** aggiunge un elemento e in fondo alla lista"
   ]
  },
  {
   "cell_type": "code",
   "execution_count": 0,
   "metadata": {
    "colab": {},
    "colab_type": "code",
    "id": "JCJXe_X_Y1Ns"
   },
   "outputs": [],
   "source": [
    "subjects = [\"machine learning\", \"deep learning\", \"artificial intelligence\"]"
   ]
  },
  {
   "cell_type": "code",
   "execution_count": 0,
   "metadata": {
    "colab": {
     "base_uri": "https://localhost:8080/",
     "height": 35
    },
    "colab_type": "code",
    "id": "s-mRsHwTcCxu",
    "outputId": "580b0931-7e39-431d-d7ff-9a6527fc3aff"
   },
   "outputs": [
    {
     "name": "stdout",
     "output_type": "stream",
     "text": [
      "['machine learning', 'deep learning', 'artificial intelligence', 'computer vision']\n"
     ]
    }
   ],
   "source": [
    "subjects.append(\"computer vision\")\n",
    "print(subjects)"
   ]
  },
  {
   "cell_type": "markdown",
   "metadata": {},
   "source": [
    "**insert(i,e)** aggiunge l'elemento e all'indice i della lista"
   ]
  },
  {
   "cell_type": "code",
   "execution_count": 0,
   "metadata": {
    "colab": {
     "base_uri": "https://localhost:8080/",
     "height": 35
    },
    "colab_type": "code",
    "id": "NtepbV07cbFU",
    "outputId": "e0e0f64f-8bed-4ec1-fe89-540517a7ec29"
   },
   "outputs": [
    {
     "name": "stdout",
     "output_type": "stream",
     "text": [
      "['machine learning', 'deep learning', 'artificial intelligence', 'natural language processing', 'computer vision']\n"
     ]
    }
   ],
   "source": [
    "subjects.insert(3, \"natural language processing\")\n",
    "print(subjects)"
   ]
  },
  {
   "cell_type": "markdown",
   "metadata": {},
   "source": [
    "**+**: possiamo usarlo per unire due liste (questo non è un metodo ma un'operatore)."
   ]
  },
  {
   "cell_type": "code",
   "execution_count": 0,
   "metadata": {
    "colab": {
     "base_uri": "https://localhost:8080/",
     "height": 35
    },
    "colab_type": "code",
    "id": "Psej7VvyckK4",
    "outputId": "5146b8ed-7a88-4c15-ea84-8ce47a6c258e"
   },
   "outputs": [
    {
     "name": "stdout",
     "output_type": "stream",
     "text": [
      "['machine learning', 'deep learning', 'artificial intelligence', 'natural language processing', 'computer vision']\n"
     ]
    }
   ],
   "source": [
    "subjects = [\"machine learning\", \"deep learning\", \"artificial intelligence\"]\n",
    "subjects = subjects + [\"natural language processing\", \"computer vision\"]\n",
    "print(subjects)"
   ]
  },
  {
   "cell_type": "markdown",
   "metadata": {},
   "source": [
    "**remove(e)** rimuove l'elemento e dalla lista"
   ]
  },
  {
   "cell_type": "code",
   "execution_count": 0,
   "metadata": {
    "colab": {
     "base_uri": "https://localhost:8080/",
     "height": 35
    },
    "colab_type": "code",
    "id": "OscqZRYdc0_j",
    "outputId": "ca11038a-3538-499d-e908-2b9c293ab998"
   },
   "outputs": [
    {
     "name": "stdout",
     "output_type": "stream",
     "text": [
      "['machine learning', 'deep learning', 'artificial intelligence', 'computer vision']\n"
     ]
    }
   ],
   "source": [
    "subjects.remove(\"natural language processing\")\n",
    "print(subjects)"
   ]
  },
  {
   "cell_type": "markdown",
   "metadata": {},
   "source": [
    "**pop(i)** rimuove l'elemento all'indice i"
   ]
  },
  {
   "cell_type": "code",
   "execution_count": 0,
   "metadata": {
    "colab": {
     "base_uri": "https://localhost:8080/",
     "height": 35
    },
    "colab_type": "code",
    "id": "iuPfVhfOdC2L",
    "outputId": "11b70bb7-7f6a-4913-c1e7-d7dafe6b43f9"
   },
   "outputs": [
    {
     "name": "stdout",
     "output_type": "stream",
     "text": [
      "['machine learning', 'artificial intelligence', 'computer vision']\n"
     ]
    }
   ],
   "source": [
    "subjects.pop(1)\n",
    "print(subjects)"
   ]
  },
  {
   "cell_type": "markdown",
   "metadata": {
    "colab_type": "text",
    "id": "RJ9OwGi_YVbH"
   },
   "source": [
    "### Verifica\n",
    "Possiamo verificare se un elemento è contenuto nella lista con lo statement *in*, questo ritorna True se l'elemento è contenuto nella lista, altrimenti ritorna False (*in* è molto utile utilizzato per creare istruzioni condizionali, di cui parleremo più sotto)."
   ]
  },
  {
   "cell_type": "code",
   "execution_count": 0,
   "metadata": {
    "colab": {
     "base_uri": "https://localhost:8080/",
     "height": 35
    },
    "colab_type": "code",
    "id": "6Fp7XjfHYaUq",
    "outputId": "42e1a52d-c55c-4434-c9cf-7fce90ff8f8a"
   },
   "outputs": [
    {
     "name": "stdout",
     "output_type": "stream",
     "text": [
      "True\n"
     ]
    }
   ],
   "source": [
    "print(\"artificial intelligence\" in subjects)"
   ]
  },
  {
   "cell_type": "markdown",
   "metadata": {
    "colab_type": "text",
    "id": "_7HshDiuUyUT"
   },
   "source": [
    "### Funzioni utili"
   ]
  },
  {
   "cell_type": "code",
   "execution_count": 2,
   "metadata": {
    "colab": {
     "base_uri": "https://localhost:8080/",
     "height": 52
    },
    "colab_type": "code",
    "id": "fpT78B1lU1Y0",
    "outputId": "61050db3-51b6-47af-9970-e4579b58cb45"
   },
   "outputs": [
    {
     "name": "stdout",
     "output_type": "stream",
     "text": [
      "1\n",
      "2\n"
     ]
    }
   ],
   "source": [
    "subjects_list = [\"Italiano\", \"Storia\", \"Matematica\", \"Matematica\", \"Geografia\", \"Filosofia\"]\n",
    "\n",
    "print(subjects_list.index('Storia')) # indice di un elemento\n",
    "print(subjects_list.count('Matematica')) # count di un elemento"
   ]
  },
  {
   "cell_type": "markdown",
   "metadata": {
    "colab_type": "text",
    "id": "_lDnTuM-hVoa"
   },
   "source": [
    "### Liste annidate\n",
    "Un collezione può contenere anche un'altra collezione, sia dello stesso tipo che di altri tipi."
   ]
  },
  {
   "cell_type": "code",
   "execution_count": 3,
   "metadata": {
    "colab": {
     "base_uri": "https://localhost:8080/",
     "height": 55
    },
    "colab_type": "code",
    "id": "RS2cIePNhXj3",
    "outputId": "2b8b5c40-7cb6-49c0-f008-e5c66572a104"
   },
   "outputs": [
    {
     "name": "stdout",
     "output_type": "stream",
     "text": [
      "[['Italiano', 'Storia', 'Matematica', 'Matematica', 'Geografia', 'Filosofia'], ['Latino', 'Latino', 'Matematica', 'Italiano', 'Italiano', 'Educazione Fisica'], ['Italiano', 'Inglese', 'Matematica', 'Filosofia', 'Filosofia', 'Latino'], ['Filosofia', 'Italiano', 'Matematica', 'Matematica', 'Inglese', 'Chimica'], ['Educazione Fisica', 'Filosofia', 'Latino', 'Latino', 'Storia', 'Italiano']]\n"
     ]
    }
   ],
   "source": [
    "subjects_week = [\n",
    "                 [\"Italiano\", \"Storia\", \"Matematica\", \"Matematica\", \"Geografia\", \"Filosofia\"], # orario di lunedì\n",
    "                 [\"Latino\", \"Latino\", \"Matematica\", \"Italiano\", \"Italiano\", \"Educazione Fisica\"], # orario di marted'\n",
    "                 [\"Italiano\", \"Inglese\", \"Matematica\", \"Filosofia\", \"Filosofia\", \"Latino\"], # orario di mercoledì\n",
    "                 [\"Filosofia\", \"Italiano\", \"Matematica\", \"Matematica\", \"Inglese\", \"Chimica\"], # orario di giovedì\n",
    "                 [\"Educazione Fisica\", \"Filosofia\", \"Latino\", \"Latino\", \"Storia\", \"Italiano\"] # orario di venerdì\n",
    "                ] # sabato vacanza perché mi sono scocciato a scrivere materie \n",
    "\n",
    "print(subjects_week)"
   ]
  },
  {
   "cell_type": "markdown",
   "metadata": {},
   "source": [
    "Utilizzando l'indice 2 accediamo alla terza lista contenuta nella lista principale, nel nostro caso le materie di mercoledì."
   ]
  },
  {
   "cell_type": "code",
   "execution_count": 52,
   "metadata": {
    "colab": {
     "base_uri": "https://localhost:8080/",
     "height": 35
    },
    "colab_type": "code",
    "id": "G_dj84MtiUWB",
    "outputId": "2e41cdac-8d0d-4050-d550-d7825d4d2eeb"
   },
   "outputs": [
    {
     "data": {
      "text/plain": [
       "['Italiano', 'Inglese', 'Matematica', 'Filosofia', 'Filosofia', 'Latino']"
      ]
     },
     "execution_count": 52,
     "metadata": {
      "tags": []
     },
     "output_type": "execute_result"
    }
   ],
   "source": [
    "subjects_week[2]"
   ]
  },
  {
   "cell_type": "markdown",
   "metadata": {},
   "source": [
    "Aggiungendo un'altro indice 3 otterremo la quarta parola della terza lista, nel nostro caso la materia alla quarta ora di mercoledì."
   ]
  },
  {
   "cell_type": "code",
   "execution_count": 54,
   "metadata": {
    "colab": {
     "base_uri": "https://localhost:8080/",
     "height": 35
    },
    "colab_type": "code",
    "id": "89HymdNIicSO",
    "outputId": "4f1d1b15-a487-469a-9860-917579118c13"
   },
   "outputs": [
    {
     "data": {
      "text/plain": [
       "'Filosofia'"
      ]
     },
     "execution_count": 54,
     "metadata": {
      "tags": []
     },
     "output_type": "execute_result"
    }
   ],
   "source": [
    "subjects_week[2][3]"
   ]
  },
  {
   "cell_type": "markdown",
   "metadata": {
    "colab_type": "text",
    "id": "hlidK1r-dZIt"
   },
   "source": [
    "## Le Tuple\n",
    "La tupla è un tipo di dati molto simile alla lista, la differenza principale è che **una tupla una volta creata non può essere modificata**, inoltre, a differenza delle liste, la tupla è idonea a contenere diversi tipi di dati. Possiamo creare una tupla inserendo gli elementi tra parentesi tonde e separandoli con una virgola."
   ]
  },
  {
   "cell_type": "code",
   "execution_count": 5,
   "metadata": {
    "colab": {
     "base_uri": "https://localhost:8080/",
     "height": 35
    },
    "colab_type": "code",
    "id": "SVRAbKy1davn",
    "outputId": "5469fb75-3e54-498e-a49f-570e84f0a28d"
   },
   "outputs": [
    {
     "name": "stdout",
     "output_type": "stream",
     "text": [
      "(1, 2, 3, 5, 8, 13, 21) <class 'tuple'>\n"
     ]
    }
   ],
   "source": [
    "t = (1, 2 ,3 ,5 ,8 ,13 ,21)\n",
    "print(t, type(t))"
   ]
  },
  {
   "cell_type": "markdown",
   "metadata": {},
   "source": [
    "Per l'accesso agli elementi valgono sempre le stesse regole delle liste, quindi indexing e slicing"
   ]
  },
  {
   "cell_type": "code",
   "execution_count": 6,
   "metadata": {
    "colab": {
     "base_uri": "https://localhost:8080/",
     "height": 52
    },
    "colab_type": "code",
    "id": "Jx53_pXQenfo",
    "outputId": "c2a65d2f-75b4-4b66-ed45-23f26385b35a"
   },
   "outputs": [
    {
     "name": "stdout",
     "output_type": "stream",
     "text": [
      "1\n",
      "21\n"
     ]
    }
   ],
   "source": [
    "print(t[0]) # primo elemento della tupla\n",
    "print(t[-1]) # ultimo elemento della tupla"
   ]
  },
  {
   "cell_type": "code",
   "execution_count": 7,
   "metadata": {
    "colab": {
     "base_uri": "https://localhost:8080/",
     "height": 52
    },
    "colab_type": "code",
    "id": "yQDIHV0we1k_",
    "outputId": "8a770679-3904-4a70-e825-738d553e3a36"
   },
   "outputs": [
    {
     "name": "stdout",
     "output_type": "stream",
     "text": [
      "(1, 2, 3)\n",
      "(5, 8, 13)\n"
     ]
    }
   ],
   "source": [
    "print(t[:3]) # primi 3 elementi\n",
    "print(t[3:6]) # dal terzo (incluso) al sesto (escluso)"
   ]
  },
  {
   "cell_type": "markdown",
   "metadata": {},
   "source": [
    "Come abbiamo detto, non possiamo modificare il contenuto di una tupla, se ci proviamo otteniamo un'eccezione di tipo *TypeError*."
   ]
  },
  {
   "cell_type": "code",
   "execution_count": 8,
   "metadata": {
    "colab": {
     "base_uri": "https://localhost:8080/",
     "height": 166
    },
    "colab_type": "code",
    "id": "VXwtkKxDe6zA",
    "outputId": "78cbd011-0063-4fa1-e649-d6369c895318"
   },
   "outputs": [
    {
     "ename": "TypeError",
     "evalue": "'tuple' object does not support item assignment",
     "output_type": "error",
     "traceback": [
      "\u001b[1;31m---------------------------------------------------------------------------\u001b[0m",
      "\u001b[1;31mTypeError\u001b[0m                                 Traceback (most recent call last)",
      "\u001b[1;32m<ipython-input-8-0c6697a06bab>\u001b[0m in \u001b[0;36m<module>\u001b[1;34m\u001b[0m\n\u001b[1;32m----> 1\u001b[1;33m \u001b[0mt\u001b[0m\u001b[1;33m[\u001b[0m\u001b[1;36m0\u001b[0m\u001b[1;33m]\u001b[0m \u001b[1;33m=\u001b[0m \u001b[1;36m2\u001b[0m\u001b[1;33m\u001b[0m\u001b[1;33m\u001b[0m\u001b[0m\n\u001b[0m",
      "\u001b[1;31mTypeError\u001b[0m: 'tuple' object does not support item assignment"
     ]
    }
   ],
   "source": [
    "t[0] = 2"
   ]
  },
  {
   "cell_type": "markdown",
   "metadata": {},
   "source": [
    "### Tuple annidate\n",
    "Anche le tuple possono contenere altre tuple, ma anche altre liste o altre collezioni. Facciamo un'esempio con una tupla che contiene dei voti per delle materie"
   ]
  },
  {
   "cell_type": "code",
   "execution_count": 12,
   "metadata": {
    "colab": {
     "base_uri": "https://localhost:8080/",
     "height": 35
    },
    "colab_type": "code",
    "id": "SR6J7Z55io4h",
    "outputId": "0a5e6bbd-4804-432f-8081-b4630b0caeb4"
   },
   "outputs": [
    {
     "name": "stdout",
     "output_type": "stream",
     "text": [
      "(('italiano', 7), ('latino', 7), ('greco', 4), ('filosofia', 6), ('matematica', 10))\n"
     ]
    }
   ],
   "source": [
    "subjects_vote =((\"italiano\", 7), (\"latino\", 7), (\"greco\", 4), (\"filosofia\", 6), (\"matematica\", 10))\n",
    "print(subjects_vote)"
   ]
  },
  {
   "cell_type": "markdown",
   "metadata": {},
   "source": [
    "Ogni elemento della tupla è un'altra tupla con il nome della materia alla prima posizione e il voto alla seconda. Possiamo accedere ad una materia con il rispettivo indice e otterremo la tupla corrispondente."
   ]
  },
  {
   "cell_type": "code",
   "execution_count": 13,
   "metadata": {
    "colab": {
     "base_uri": "https://localhost:8080/",
     "height": 35
    },
    "colab_type": "code",
    "id": "b7BQ1bKzjS4u",
    "outputId": "225d7007-994e-4bc5-c984-6c2741ec55d2"
   },
   "outputs": [
    {
     "data": {
      "text/plain": [
       "('italiano', 7)"
      ]
     },
     "execution_count": 13,
     "metadata": {},
     "output_type": "execute_result"
    }
   ],
   "source": [
    "subjects_vote[0]"
   ]
  },
  {
   "cell_type": "markdown",
   "metadata": {},
   "source": [
    "Utilizzando un secondo indice possiamo ottenere gli elementi della sotto-tupla."
   ]
  },
  {
   "cell_type": "code",
   "execution_count": 14,
   "metadata": {
    "colab": {
     "base_uri": "https://localhost:8080/",
     "height": 35
    },
    "colab_type": "code",
    "id": "rDyFjbEmjU56",
    "outputId": "8b866cf0-2420-4667-fb5a-99a3b3a9eb0e"
   },
   "outputs": [
    {
     "name": "stdout",
     "output_type": "stream",
     "text": [
      "italiano\n",
      "7\n"
     ]
    }
   ],
   "source": [
    "print(subjects_vote[0][0])\n",
    "print(subjects_vote[0][1])"
   ]
  },
  {
   "cell_type": "markdown",
   "metadata": {},
   "source": [
    "### Altre funzioni utili per Liste e Tuple"
   ]
  },
  {
   "cell_type": "code",
   "execution_count": 9,
   "metadata": {},
   "outputs": [
    {
     "name": "stdout",
     "output_type": "stream",
     "text": [
      "1\n",
      "2\n"
     ]
    }
   ],
   "source": [
    "subjects_list = [\"Italiano\", \"Storia\", \"Matematica\", \"Matematica\", \"Geografia\", \"Filosofia\"]\n",
    "\n",
    "print(subjects_list.index('Storia')) # indice di un elemento\n",
    "print(subjects_list.count('Matematica')) # count di un elemento"
   ]
  },
  {
   "cell_type": "code",
   "execution_count": 10,
   "metadata": {},
   "outputs": [
    {
     "name": "stdout",
     "output_type": "stream",
     "text": [
      "1\n",
      "2\n"
     ]
    }
   ],
   "source": [
    "subjects_tuple = (\"Italiano\", \"Storia\", \"Matematica\", \"Matematica\", \"Geografia\", \"Filosofia\")\n",
    "\n",
    "print(subjects_tuple.index('Storia')) # indice di un elemento\n",
    "print(subjects_tuple.count('Matematica')) # count di un elemento"
   ]
  },
  {
   "cell_type": "markdown",
   "metadata": {
    "colab_type": "text",
    "id": "g3J8lFiEVm6l"
   },
   "source": [
    "## Set e Frozenset\n",
    "i set sono insiemi di elementi unici non ordinati, questo vuol dire che un set non può contenere due volte lo stesso elemento e che non tiene conto della disposizione degli elementi al suo interno. \n",
    "Possiamo creare un set inserendo gli elementi tra parentesi graffe e separandoli con una virgola."
   ]
  },
  {
   "cell_type": "code",
   "execution_count": 2,
   "metadata": {
    "colab": {
     "base_uri": "https://localhost:8080/",
     "height": 35
    },
    "colab_type": "code",
    "id": "EN3QyqxsVmX8",
    "outputId": "9c0624f2-29d9-4454-efda-26729494485f"
   },
   "outputs": [
    {
     "name": "stdout",
     "output_type": "stream",
     "text": [
      "{1, 2, 3, 4, 5} <class 'set'>\n"
     ]
    }
   ],
   "source": [
    "my_set = {1,2,2,3,4,5,5}\n",
    "print(my_set, type(my_set))"
   ]
  },
  {
   "cell_type": "markdown",
   "metadata": {},
   "source": [
    "Come vedi gli elementi duplicati sono stati rimossi. Vediamo alcune funzioni utili per lavorare con i set."
   ]
  },
  {
   "cell_type": "code",
   "execution_count": 16,
   "metadata": {
    "colab": {},
    "colab_type": "code",
    "id": "HnHJWfqlVzU7"
   },
   "outputs": [],
   "source": [
    "subjects_set = {\"Italiano\", \"Storia\", \"Matematica\", \"Matematica\", \"Geografia\", \"Filosofia\"}"
   ]
  },
  {
   "cell_type": "code",
   "execution_count": 17,
   "metadata": {
    "colab": {
     "base_uri": "https://localhost:8080/",
     "height": 35
    },
    "colab_type": "code",
    "id": "7DdnKBgAWZs3",
    "outputId": "2b83a0b1-ef22-46a6-bfcf-31d84378aa54"
   },
   "outputs": [
    {
     "name": "stdout",
     "output_type": "stream",
     "text": [
      "{'Storia', 'Filosofia', 'Chimica', 'Matematica', 'Geografia', 'Italiano'}\n"
     ]
    }
   ],
   "source": [
    "subjects_set.add(\"Chimica\") # aggiungiamo la stringa 'Chimica' al set\n",
    "print(subjects_set)"
   ]
  },
  {
   "cell_type": "code",
   "execution_count": 18,
   "metadata": {
    "colab": {
     "base_uri": "https://localhost:8080/",
     "height": 35
    },
    "colab_type": "code",
    "id": "D-v3WNNYWb8m",
    "outputId": "24127974-f3f9-4939-d4cf-571888e6c9cd"
   },
   "outputs": [
    {
     "name": "stdout",
     "output_type": "stream",
     "text": [
      "{'Storia', 'Filosofia', 'Chimica', 'Matematica', 'Geografia', 'Italiano'}\n"
     ]
    }
   ],
   "source": [
    "subjects_set.add(\"Filosofia\") # la stringa 'Filosia' non verrà aggiunta in quanto è già presente\n",
    "print(subjects_set)"
   ]
  },
  {
   "cell_type": "code",
   "execution_count": 19,
   "metadata": {
    "colab": {
     "base_uri": "https://localhost:8080/",
     "height": 35
    },
    "colab_type": "code",
    "id": "dUld6LbIWmqx",
    "outputId": "87b62e0b-8d02-465a-d60b-32fa711db434"
   },
   "outputs": [
    {
     "name": "stdout",
     "output_type": "stream",
     "text": [
      "{'Storia', 'Chimica', 'Matematica', 'Geografia', 'Italiano'}\n"
     ]
    }
   ],
   "source": [
    "subjects_set.remove(\"Filosofia\") # rimuoviamo la stringa 'Filosofia' dal set\n",
    "print(subjects_set)"
   ]
  },
  {
   "cell_type": "code",
   "execution_count": 20,
   "metadata": {
    "colab": {
     "base_uri": "https://localhost:8080/",
     "height": 183
    },
    "colab_type": "code",
    "id": "qcwJYBHLW1fB",
    "outputId": "5e9ba498-e14f-4f59-81c5-1455983c3db5"
   },
   "outputs": [
    {
     "ename": "KeyError",
     "evalue": "'Arte'",
     "output_type": "error",
     "traceback": [
      "\u001b[1;31m---------------------------------------------------------------------------\u001b[0m",
      "\u001b[1;31mKeyError\u001b[0m                                  Traceback (most recent call last)",
      "\u001b[1;32m<ipython-input-20-266d70a6b704>\u001b[0m in \u001b[0;36m<module>\u001b[1;34m\u001b[0m\n\u001b[1;32m----> 1\u001b[1;33m \u001b[0msubjects_set\u001b[0m\u001b[1;33m.\u001b[0m\u001b[0mremove\u001b[0m\u001b[1;33m(\u001b[0m\u001b[1;34m\"Arte\"\u001b[0m\u001b[1;33m)\u001b[0m \u001b[1;31m# la stringa 'Arte' non è presente nel set -> ECCEZIONE\u001b[0m\u001b[1;33m\u001b[0m\u001b[1;33m\u001b[0m\u001b[0m\n\u001b[0m\u001b[0;32m      2\u001b[0m \u001b[0mprint\u001b[0m\u001b[1;33m(\u001b[0m\u001b[0msubjects_set\u001b[0m\u001b[1;33m)\u001b[0m\u001b[1;33m\u001b[0m\u001b[1;33m\u001b[0m\u001b[0m\n",
      "\u001b[1;31mKeyError\u001b[0m: 'Arte'"
     ]
    }
   ],
   "source": [
    "subjects_set.remove(\"Arte\") # la stringa 'Arte' non è presente nel set -> ECCEZIONE\n",
    "print(subjects_set)"
   ]
  },
  {
   "cell_type": "code",
   "execution_count": 21,
   "metadata": {
    "colab": {
     "base_uri": "https://localhost:8080/",
     "height": 35
    },
    "colab_type": "code",
    "id": "T6yKfJaZW8MX",
    "outputId": "9fb08334-f08c-4abf-a6c4-2f675ef45ac7"
   },
   "outputs": [
    {
     "name": "stdout",
     "output_type": "stream",
     "text": [
      "{'Storia', 'Chimica', 'Matematica', 'Geografia', 'Italiano'}\n"
     ]
    }
   ],
   "source": [
    "subjects_set.discard(\"Arte\") # la stringa 'Arte' non è presente nel set -> Non fa nulla\n",
    "print(subjects_set)"
   ]
  },
  {
   "cell_type": "code",
   "execution_count": 22,
   "metadata": {
    "colab": {
     "base_uri": "https://localhost:8080/",
     "height": 35
    },
    "colab_type": "code",
    "id": "u3SIpWbdXKs6",
    "outputId": "37646a2c-0475-450f-cbe5-ea211bdd4776"
   },
   "outputs": [
    {
     "name": "stdout",
     "output_type": "stream",
     "text": [
      "Storia {'Chimica', 'Matematica', 'Geografia', 'Italiano'}\n"
     ]
    }
   ],
   "source": [
    "subject = subjects_set.pop() # estraiamo un elemento a caso dal set\n",
    "print(subject, subjects_set)"
   ]
  },
  {
   "cell_type": "code",
   "execution_count": 23,
   "metadata": {
    "colab": {
     "base_uri": "https://localhost:8080/",
     "height": 35
    },
    "colab_type": "code",
    "id": "cCa-uGD9XY3X",
    "outputId": "81b099d5-5cba-497f-b47e-08a4344c5dea"
   },
   "outputs": [
    {
     "name": "stdout",
     "output_type": "stream",
     "text": [
      "set()\n"
     ]
    }
   ],
   "source": [
    "subjects_set.clear() # svuotiamo il set\n",
    "print(subjects_set)"
   ]
  },
  {
   "cell_type": "markdown",
   "metadata": {},
   "source": [
    "Possiamo anche creare un set immutabile utilizzando frozenset, in questo caso una volta creato non potremo più aggiungere o rimuovere elementi dal set."
   ]
  },
  {
   "cell_type": "code",
   "execution_count": 24,
   "metadata": {
    "colab": {
     "base_uri": "https://localhost:8080/",
     "height": 35
    },
    "colab_type": "code",
    "id": "jmClxgdsXonb",
    "outputId": "ffdef119-f647-4eb7-9818-35c9fda0b5ac"
   },
   "outputs": [
    {
     "name": "stdout",
     "output_type": "stream",
     "text": [
      "frozenset({'Geografia', 'Italiano', 'Storia', 'Filosofia', 'Matematica'})\n"
     ]
    }
   ],
   "source": [
    "subjects_frozen = frozenset({\"Italiano\", \"Storia\", \"Matematica\", \"Matematica\", \"Geografia\", \"Filosofia\"})\n",
    "print(subjects_frozen)"
   ]
  },
  {
   "cell_type": "markdown",
   "metadata": {
    "colab_type": "text",
    "id": "6Wp7CJoOYb8t"
   },
   "source": [
    "## Dizionari\n",
    "Un dizionario è un tipo Python che ci permette di salvare dei dati in un formato chiave valore, in maniera tale da poter utilizzare la chiave per accedere al valore. Possiamo creare un dizionario con Python racchiudendolo tra parentesi graffe e separando chiavi e valori con (:)"
   ]
  },
  {
   "cell_type": "code",
   "execution_count": 26,
   "metadata": {
    "colab": {
     "base_uri": "https://localhost:8080/",
     "height": 35
    },
    "colab_type": "code",
    "id": "7rA5oqbUYQ6P",
    "outputId": "f5465d6a-885c-495b-9aa1-8cc89d876f1d"
   },
   "outputs": [
    {
     "name": "stdout",
     "output_type": "stream",
     "text": [
      "{'italiano': 7, 'latino': 7, 'greco': 4, 'filosofia': 6, 'matematica': 10} <class 'dict'>\n"
     ]
    }
   ],
   "source": [
    "report = {\"italiano\":7, \"latino\":7, \"greco\":4, \"filosofia\":6, \"matematica\":10}\n",
    "print(report, type(report))"
   ]
  },
  {
   "cell_type": "markdown",
   "metadata": {},
   "source": [
    "Possiamo accedere ad un elemento del dizionario inserendo la chiave tra parentesi quadre"
   ]
  },
  {
   "cell_type": "code",
   "execution_count": 26,
   "metadata": {
    "colab": {
     "base_uri": "https://localhost:8080/",
     "height": 35
    },
    "colab_type": "code",
    "id": "m3vQyHiUarsM",
    "outputId": "c89db5b8-33c3-4a15-8d0d-ba01a6e8c2e5"
   },
   "outputs": [
    {
     "data": {
      "text/plain": [
       "7"
      ]
     },
     "execution_count": 26,
     "metadata": {
      "tags": []
     },
     "output_type": "execute_result"
    }
   ],
   "source": [
    "marks[\"latino\"] # accediamo al valore per la chiave 'latino'"
   ]
  },
  {
   "cell_type": "markdown",
   "metadata": {},
   "source": [
    "Se la chiave è inesistente otterremo un'eccezione di tipo KeyError."
   ]
  },
  {
   "cell_type": "code",
   "execution_count": 27,
   "metadata": {
    "colab": {
     "base_uri": "https://localhost:8080/",
     "height": 166
    },
    "colab_type": "code",
    "id": "IFNDyvQHa5Xt",
    "outputId": "56bc8868-d89a-4f97-f659-02e32657cc2c"
   },
   "outputs": [
    {
     "ename": "KeyError",
     "evalue": "ignored",
     "output_type": "error",
     "traceback": [
      "\u001b[0;31m---------------------------------------------------------------------------\u001b[0m",
      "\u001b[0;31mKeyError\u001b[0m                                  Traceback (most recent call last)",
      "\u001b[0;32m<ipython-input-27-ce823f33626e>\u001b[0m in \u001b[0;36m<module>\u001b[0;34m()\u001b[0m\n\u001b[0;32m----> 1\u001b[0;31m \u001b[0mreport\u001b[0m\u001b[0;34m[\u001b[0m\u001b[0;34m\"fisica\"\u001b[0m\u001b[0;34m]\u001b[0m \u001b[0;31m# la chiave 'fisica' non esiste -> ECCEZIONE\u001b[0m\u001b[0;34m\u001b[0m\u001b[0;34m\u001b[0m\u001b[0m\n\u001b[0m",
      "\u001b[0;31mKeyError\u001b[0m: 'fisica'"
     ]
    }
   ],
   "source": [
    "report[\"fisica\"] # la chiave 'fisica' non esiste -> ECCEZIONE"
   ]
  },
  {
   "cell_type": "markdown",
   "metadata": {},
   "source": [
    "Allo stesso modo possiamo modificare un valore del dizionario"
   ]
  },
  {
   "cell_type": "code",
   "execution_count": 27,
   "metadata": {
    "colab": {
     "base_uri": "https://localhost:8080/",
     "height": 35
    },
    "colab_type": "code",
    "id": "f60MSMzIbH9f",
    "outputId": "75cf11bb-71c5-4f59-fcb5-6bab49ec4071"
   },
   "outputs": [
    {
     "name": "stdout",
     "output_type": "stream",
     "text": [
      "{'italiano': 7, 'latino': 7, 'greco': 4, 'filosofia': 6, 'matematica': 10, 'fisica': 10}\n"
     ]
    }
   ],
   "source": [
    "report[\"fisica\"] = 10\n",
    "print(report)"
   ]
  },
  {
   "cell_type": "markdown",
   "metadata": {},
   "source": [
    "oppure inserire un nuovo valore con una nuova chiave"
   ]
  },
  {
   "cell_type": "code",
   "execution_count": 32,
   "metadata": {
    "colab": {
     "base_uri": "https://localhost:8080/",
     "height": 35
    },
    "colab_type": "code",
    "id": "wdkCzU_SbK_A",
    "outputId": "e00f47b5-0258-4c23-c439-0751d80d837f"
   },
   "outputs": [
    {
     "name": "stdout",
     "output_type": "stream",
     "text": [
      "{'italiano': 7, 'latino': 7, 'greco': 6, 'filosofia': 6, 'matematica': 10, 'fisica': 10}\n"
     ]
    }
   ],
   "source": [
    "report[\"greco\"] = 6\n",
    "print(report)"
   ]
  },
  {
   "cell_type": "markdown",
   "metadata": {},
   "source": [
    "E' possibile inserire all'interno di un elemento del dizionario un'altro dizionario."
   ]
  },
  {
   "cell_type": "code",
   "execution_count": 33,
   "metadata": {
    "colab": {
     "base_uri": "https://localhost:8080/",
     "height": 35
    },
    "colab_type": "code",
    "id": "4aCAOWhLbQQO",
    "outputId": "a824d4d9-54a9-49cd-ad66-6196de943e64"
   },
   "outputs": [
    {
     "name": "stdout",
     "output_type": "stream",
     "text": [
      "{'italiano': 7, 'latino': 7, 'greco': 6, 'filosofia': 6, 'matematica': 10, 'fisica': 10, 'inglese': {'grammatica': 7, 'letteratura': 6}}\n"
     ]
    }
   ],
   "source": [
    "report[\"inglese\"] = {\"grammatica\":7, \"letteratura\":6}\n",
    "print(report)"
   ]
  },
  {
   "cell_type": "markdown",
   "metadata": {},
   "source": [
    "Possiamo ottenere solo i valori di un dizionario utilizzando il metodo *.values()*"
   ]
  },
  {
   "cell_type": "code",
   "execution_count": 36,
   "metadata": {
    "colab": {
     "base_uri": "https://localhost:8080/",
     "height": 35
    },
    "colab_type": "code",
    "id": "vtWKrJyycHXA",
    "outputId": "10e5736a-1c2d-4bdb-ebd5-361a3bb1ce87"
   },
   "outputs": [
    {
     "name": "stdout",
     "output_type": "stream",
     "text": [
      "dict_values([7, 7, 6, 6, 10, 10, {'grammatica': 7, 'letteratura': 6}]) <class 'dict_values'>\n"
     ]
    }
   ],
   "source": [
    "values = report.values()\n",
    "print(values, type(values))"
   ]
  },
  {
   "cell_type": "markdown",
   "metadata": {},
   "source": [
    "oppure possiamo ottenere soltanto le chiavi utilizzando il metodo *.keys()*"
   ]
  },
  {
   "cell_type": "code",
   "execution_count": 35,
   "metadata": {
    "colab": {
     "base_uri": "https://localhost:8080/",
     "height": 35
    },
    "colab_type": "code",
    "id": "ug7bQg7Cbt9u",
    "outputId": "817d68ff-2c40-4d00-d457-b3bdd39e81e4"
   },
   "outputs": [
    {
     "name": "stdout",
     "output_type": "stream",
     "text": [
      "dict_keys(['italiano', 'latino', 'greco', 'filosofia', 'matematica', 'fisica', 'inglese']) <class 'dict_keys'>\n"
     ]
    }
   ],
   "source": [
    "keys = report.keys()\n",
    "print(keys, type(keys))"
   ]
  },
  {
   "cell_type": "markdown",
   "metadata": {},
   "source": [
    "Nel primo caso il risultato sarà un'oggetto *dict_values*, nel secondo un oggetto *dict_keys*, in entrambi i casi ce ne facciamo poco a meno che non li convertiamo in liste (o qualche altro tipo di collezione)."
   ]
  },
  {
   "cell_type": "code",
   "execution_count": 40,
   "metadata": {
    "colab": {
     "base_uri": "https://localhost:8080/",
     "height": 35
    },
    "colab_type": "code",
    "id": "4GbjcmhJcSsi",
    "outputId": "dbf62c42-63ac-4e38-dafd-e5229b056558"
   },
   "outputs": [
    {
     "name": "stdout",
     "output_type": "stream",
     "text": [
      "['italiano', 'latino', 'greco', 'filosofia', 'matematica', 'fisica', 'inglese'] <class 'list'>\n"
     ]
    }
   ],
   "source": [
    "keys = list(keys)\n",
    "print(keys, type(keys))"
   ]
  },
  {
   "cell_type": "markdown",
   "metadata": {
    "colab_type": "text",
    "id": "len8L_PCclSY"
   },
   "source": [
    "## Casting tra collezioni\n",
    "Come abbiamo visto appena sopra, è possibile eseguire il casting anche tra le collezioni. Facciamo qualche esempio"
   ]
  },
  {
   "cell_type": "code",
   "execution_count": 0,
   "metadata": {
    "colab": {},
    "colab_type": "code",
    "id": "HyEszNnoeIIb"
   },
   "outputs": [],
   "source": [
    "names_list = [\"Giuseppe\", \"Carlo\", \"Nicola\", \"Giuseppe\", \"Carlo\", \"Antonio\"]"
   ]
  },
  {
   "cell_type": "markdown",
   "metadata": {},
   "source": [
    "**ES. 1: da lista a tupla**"
   ]
  },
  {
   "cell_type": "code",
   "execution_count": 43,
   "metadata": {
    "colab": {
     "base_uri": "https://localhost:8080/",
     "height": 35
    },
    "colab_type": "code",
    "id": "RT1br43lcnX7",
    "outputId": "d1cacef7-4702-4a9f-9870-389f617fe3d8"
   },
   "outputs": [
    {
     "name": "stdout",
     "output_type": "stream",
     "text": [
      "('Giuseppe', 'Carlo', 'Nicola', 'Giuseppe', 'Carlo', 'Antonio')\n"
     ]
    }
   ],
   "source": [
    "names_immutable = tuple(names_list)\n",
    "print(names_immutable)"
   ]
  },
  {
   "cell_type": "markdown",
   "metadata": {},
   "source": [
    "**ES. 2: da lista a set**<br>\n",
    "In questo caso gli elementi ripetuti saranno presi una sola volta in ordine casuale."
   ]
  },
  {
   "cell_type": "code",
   "execution_count": 44,
   "metadata": {
    "colab": {
     "base_uri": "https://localhost:8080/",
     "height": 35
    },
    "colab_type": "code",
    "id": "Wxt4aUbWdt4c",
    "outputId": "5debbea9-463c-4fb7-ac7a-d43f1a19b070"
   },
   "outputs": [
    {
     "name": "stdout",
     "output_type": "stream",
     "text": [
      "{'Antonio', 'Carlo', 'Giuseppe', 'Nicola'}\n"
     ]
    }
   ],
   "source": [
    "names_unique = set(names_list)\n",
    "print(names_unique)"
   ]
  },
  {
   "cell_type": "markdown",
   "metadata": {},
   "source": [
    "**ES. 3: da tupla a set**"
   ]
  },
  {
   "cell_type": "code",
   "execution_count": 45,
   "metadata": {
    "colab": {
     "base_uri": "https://localhost:8080/",
     "height": 35
    },
    "colab_type": "code",
    "id": "mVJdmdOFeQX0",
    "outputId": "a495b471-0df1-42d0-b81b-7763374fbe6a"
   },
   "outputs": [
    {
     "name": "stdout",
     "output_type": "stream",
     "text": [
      "{'Antonio', 'Carlo', 'Giuseppe', 'Nicola'}\n"
     ]
    }
   ],
   "source": [
    "names_unique = set(names_immutable)\n",
    "print(names_unique)"
   ]
  },
  {
   "cell_type": "markdown",
   "metadata": {
    "colab_type": "text",
    "id": "-RQ2oPwcf6AP"
   },
   "source": [
    "**ES 4: da tupla a dizionario**<br>\n",
    "Possiamo crere un dizionario partendo da una tupla, se questa tupla è composta da altre tuple di due elementi ciascuna, in questo caso il primo elemento sarà la chiave e il secondo il valore."
   ]
  },
  {
   "cell_type": "code",
   "execution_count": 28,
   "metadata": {
    "colab": {
     "base_uri": "https://localhost:8080/",
     "height": 35
    },
    "colab_type": "code",
    "id": "ysliWlYteUtg",
    "outputId": "d650ff23-2838-4d64-c676-34f17b9e26d3"
   },
   "outputs": [
    {
     "name": "stdout",
     "output_type": "stream",
     "text": [
      "{'Giuseppe': 25, 'Antonio': 23, 'Nicola': 24}\n"
     ]
    }
   ],
   "source": [
    "names_age = ((\"Giuseppe\", 25), (\"Antonio\", 23), (\"Nicola\",24))\n",
    "people_dict = dict(names_age)\n",
    "print(people_dict)"
   ]
  },
  {
   "cell_type": "markdown",
   "metadata": {
    "colab_type": "text",
    "id": "JCHH5wqEf_qx"
   },
   "source": [
    "**ES 5: da due liste a dizionario**\n",
    "Appena sopra abbiamo visto il formato necessario per ottenere un dizionario partendo da una tupla. Possiamo ottenere una tupla in tale formato anche partendo da due liste, una con le chiavi e una con i valori, sfruttando la funzione *zip*."
   ]
  },
  {
   "cell_type": "code",
   "execution_count": 29,
   "metadata": {
    "colab": {
     "base_uri": "https://localhost:8080/",
     "height": 35
    },
    "colab_type": "code",
    "id": "FJ9gIbzJfYD4",
    "outputId": "76fafd59-9755-42e5-e186-4ace64043b87"
   },
   "outputs": [
    {
     "name": "stdout",
     "output_type": "stream",
     "text": [
      "{'Giuseppe': 25, 'Antonio': 23, 'Nicola': 24}\n"
     ]
    }
   ],
   "source": [
    "names = [\"Giuseppe\", \"Antonio\", \"Nicola\"]\n",
    "age = [25, 23, 24]\n",
    "\n",
    "names_age = zip(names, age)\n",
    "people_dict = dict(names_age)\n",
    "\n",
    "print(people_dict)"
   ]
  }
 ],
 "metadata": {
  "colab": {
   "include_colab_link": true,
   "name": "collections.ipynb",
   "provenance": []
  },
  "kernelspec": {
   "display_name": "Python 3",
   "language": "python",
   "name": "python3"
  },
  "language_info": {
   "codemirror_mode": {
    "name": "ipython",
    "version": 3
   },
   "file_extension": ".py",
   "mimetype": "text/x-python",
   "name": "python",
   "nbconvert_exporter": "python",
   "pygments_lexer": "ipython3",
   "version": "3.7.4"
  }
 },
 "nbformat": 4,
 "nbformat_minor": 1
}
