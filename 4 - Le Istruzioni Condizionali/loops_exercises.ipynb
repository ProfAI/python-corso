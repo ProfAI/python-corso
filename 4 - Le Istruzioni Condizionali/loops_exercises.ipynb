{
  "nbformat": 4,
  "nbformat_minor": 0,
  "metadata": {
    "colab": {
      "name": "loops_exercises.ipynb",
      "provenance": [],
      "include_colab_link": true
    },
    "kernelspec": {
      "name": "python3",
      "display_name": "Python 3"
    }
  },
  "cells": [
    {
      "cell_type": "markdown",
      "metadata": {
        "id": "view-in-github",
        "colab_type": "text"
      },
      "source": [
        "<a href=\"https://colab.research.google.com/github/ProfAI/py4ai/blob/master/4%20-%20Le%20Istruzioni%20Condizionali/loops_exercises.ipynb\" target=\"_parent\"><img src=\"https://colab.research.google.com/assets/colab-badge.svg\" alt=\"Open In Colab\"/></a>"
      ]
    },
    {
      "cell_type": "markdown",
      "metadata": {
        "id": "87UN_ZnodhwZ",
        "colab_type": "text"
      },
      "source": [
        "# Esercizi con i Cicli"
      ]
    },
    {
      "cell_type": "markdown",
      "metadata": {
        "id": "jnX-HZnzdlaQ",
        "colab_type": "text"
      },
      "source": [
        "## 1. Potenze [[Esercizio su HackerRank](https://www.hackerrank.com/challenges/python-loops/problem)]\n",
        "\n",
        "Leggi un intero *N* compreso tra 1 e 20 in input. Per tutti gli interi non negativi *i*<N stampa i^2."
      ]
    },
    {
      "cell_type": "code",
      "metadata": {
        "id": "fLDEVZVqdg1F",
        "colab_type": "code",
        "colab": {
          "base_uri": "https://localhost:8080/",
          "height": 125
        },
        "outputId": "0ff92e7d-3450-4c1b-bf7f-647128a2f107"
      },
      "source": [
        "n = int(input())\n",
        "\n",
        "for i in range(n):\n",
        "    print(i**2)"
      ],
      "execution_count": 1,
      "outputs": [
        {
          "output_type": "stream",
          "text": [
            "5\n",
            "0\n",
            "1\n",
            "4\n",
            "9\n",
            "16\n"
          ],
          "name": "stdout"
        }
      ]
    },
    {
      "cell_type": "markdown",
      "metadata": {
        "id": "hYdC3tICopao",
        "colab_type": "text"
      },
      "source": [
        "## 2. Secondo Arrivato [[Esercizio su HackerRank](https://www.hackerrank.com/challenges/find-second-maximum-number-in-a-list/problem)]\n",
        "Ricevi in input una lista con i punteggi dei partecipanti alla Giornata dello Sport Universitaria, trova il punteggio del secondo classificato."
      ]
    },
    {
      "cell_type": "code",
      "metadata": {
        "id": "zejk__gDo9Hh",
        "colab_type": "code",
        "colab": {
          "base_uri": "https://localhost:8080/",
          "height": 53
        },
        "outputId": "1c941291-30b8-45aa-a81c-4d6c5eeab9e4"
      },
      "source": [
        "arr = map(int, input().split())\n",
        "scores = set(arr)\n",
        "\n",
        "for i in scores:\n",
        "  larger = 0\n",
        "  for j in scores:\n",
        "    if(i<j):\n",
        "      larger+=1\n",
        "  if(larger==1):\n",
        "    break\n",
        "    \n",
        "print(i)"
      ],
      "execution_count": 24,
      "outputs": [
        {
          "output_type": "stream",
          "text": [
            "2 3 6 6 5\n",
            "5\n"
          ],
          "name": "stdout"
        }
      ]
    },
    {
      "cell_type": "markdown",
      "metadata": {
        "id": "Ux9hbKPKiDq0",
        "colab_type": "text"
      },
      "source": [
        "## 3. Registro [[Esercizio su HackerRank](https://www.hackerrank.com/challenges/finding-the-percentage/problem)]\n",
        "Hai a disposizione un record di *N* studenti. Ogni record contiene il nome dello studente e il suo voto in Matematica, Fisica e Chimica. I voti possono essere numeri con la virgola. Un utente inserisci un intero *N* seguito da il nome e i voti di N studenti. Il programma deve salvare i record in un dizionario. Allla fine l'utente inserirà il nome di uno studente, il programma dovrà dare il output la media dei voti di tale studiente arrotandata a due cifre dopo la virgola.\n",
        "<br><br>\n",
        "**ESEMPIO DI INPUT**\n",
        "<br>\n",
        "3<br>\n",
        "Krishna 67 68 69<br>\n",
        "Arjun 70 98 63<br>\n",
        "Malika 52 56 60<br>\n",
        "Malika<br>\n",
        "<br><br>\n",
        "**ESEMPIO DI OUTPUT**\n",
        "<br>\n",
        "56.00\n"
      ]
    },
    {
      "cell_type": "code",
      "metadata": {
        "id": "woOSWzz-jpGF",
        "colab_type": "code",
        "colab": {
          "base_uri": "https://localhost:8080/",
          "height": 89
        },
        "outputId": "4d81fd12-f5d2-48f4-a10f-8b75b316bdc1"
      },
      "source": [
        "n = int(input())\n",
        "student_marks = {}\n",
        "\n",
        "for _ in range(n):\n",
        "  record = input()\n",
        "  record = record.split()\n",
        "  name = record[0]\n",
        "  marks = list(map(float, record[1:]))\n",
        "  student_marks[name] = marks\n",
        "\n",
        "query_name = input()\n",
        "avg_mark = sum(student_marks[query_name])/len(student_marks[query_name])\n",
        "print(\"%.2f\" % avg_mark)"
      ],
      "execution_count": 20,
      "outputs": [
        {
          "output_type": "stream",
          "text": [
            "1\n",
            "Malika 52 56 60\n",
            "Malika\n",
            "56.00\n"
          ],
          "name": "stdout"
        }
      ]
    },
    {
      "cell_type": "code",
      "metadata": {
        "id": "LTwWyZJakp3J",
        "colab_type": "code",
        "colab": {
          "base_uri": "https://localhost:8080/",
          "height": 35
        },
        "outputId": "77dd3341-117c-4f30-dd20-2ae53cf68db6"
      },
      "source": [
        "l = [1,2,3,4,5]\n",
        "map(float,l)"
      ],
      "execution_count": 11,
      "outputs": [
        {
          "output_type": "execute_result",
          "data": {
            "text/plain": [
              "<map at 0x7f6c61065b38>"
            ]
          },
          "metadata": {
            "tags": []
          },
          "execution_count": 11
        }
      ]
    },
    {
      "cell_type": "markdown",
      "metadata": {
        "id": "tfMPjZUMer-G",
        "colab_type": "text"
      },
      "source": [
        "## 4. Palindromi\n",
        "Leggi una stringa in input all'interno di un loop. Se la stringa è uguale a \"stop\" interrompi il programma, altrimenti verifica se la stringa è un palindromo, in caso positivo stampa \"PAROLA è un palidromo\" inserendo la parola inserita in input al posto di PAROLA, altrimenti stampa \" PAROLA non è un palindromo\".\n",
        "<br><br>\n",
        "**N.B** Un palindromo è una parola che può essere letta allo stesso modo in entrambi i sensi (es. radar, osso, aerea)."
      ]
    },
    {
      "cell_type": "code",
      "metadata": {
        "id": "RuMD1oGIeYDA",
        "colab_type": "code",
        "colab": {
          "base_uri": "https://localhost:8080/",
          "height": 179
        },
        "outputId": "e6342d82-95ae-4515-e58a-4c48919e6c95"
      },
      "source": [
        "word = None\n",
        "\n",
        "while(True):\n",
        "\n",
        "  word = input()\n",
        "\n",
        "  if(word==\"stop\"):\n",
        "    break\n",
        "\n",
        "  word_len = len(word)\n",
        "  is_palindrome = True\n",
        "\n",
        "  for i in range(word_len):\n",
        "    j = word_len-i-1\n",
        "    if(word[i]!=word[j]):\n",
        "      is_palindrome = False\n",
        "      break\n",
        "\n",
        "  if(is_palindrome):\n",
        "    print(\"%s è un palindromo\" % word)\n",
        "  else:\n",
        "    print(\"%s non è un palindromo\" % word)  "
      ],
      "execution_count": 9,
      "outputs": [
        {
          "output_type": "stream",
          "text": [
            "ciao\n",
            "ciao non è un palindromo\n",
            "acca\n",
            "acca è un palindromo\n",
            "asta\n",
            "asta non è un palindromo\n",
            "sos\n",
            "sos è un palindromo\n",
            "stop\n"
          ],
          "name": "stdout"
        }
      ]
    },
    {
      "cell_type": "markdown",
      "metadata": {
        "id": "x_XepwbmepMV",
        "colab_type": "text"
      },
      "source": [
        ""
      ]
    }
  ]
}