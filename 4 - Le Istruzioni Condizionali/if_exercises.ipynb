{
 "cells": [
  {
   "cell_type": "markdown",
   "metadata": {
    "colab_type": "text",
    "id": "view-in-github"
   },
   "source": [
    "<a href=\"https://colab.research.google.com/github/ProfAI/py4ai/blob/master/4%20-%20Le%20Istruzioni%20Condizionali/if_exercises.ipynb\" target=\"_parent\"><img src=\"https://colab.research.google.com/assets/colab-badge.svg\" alt=\"Open In Colab\"/></a>"
   ]
  },
  {
   "cell_type": "markdown",
   "metadata": {
    "colab_type": "text",
    "id": "dxiWAikHuO4e"
   },
   "source": [
    "# Esecizi con le Istruzioni Condizionali\n",
    "\n",
    "## 1 If-Else [[Esercizio su HackerRank]](https://www.hackerrank.com/challenges/py-if-else/problem)\n",
    "Inserisci un numero intero *n* in input:\n",
    "* Se *n* è dispari stampa *Weird*\n",
    "* Se *n* è pari e contenuto all'interno del range che va da 2 a 5 stampa *Not Weird*\n",
    "* Se *n* è pari e incluso nel range che va da 6 a 20 stampa *Weird*\n",
    "* Se *n* è pari e maggiori di 20 stampa *Not Weird*."
   ]
  },
  {
   "cell_type": "code",
   "execution_count": 3,
   "metadata": {
    "colab": {
     "base_uri": "https://localhost:8080/",
     "height": 35
    },
    "colab_type": "code",
    "id": "pZr4WOOQvK_9",
    "outputId": "a384ec5d-d7b0-413e-b0a7-b422395cdaa6"
   },
   "outputs": [
    {
     "data": {
      "text/plain": [
       "True"
      ]
     },
     "execution_count": 3,
     "metadata": {
      "tags": []
     },
     "output_type": "execute_result"
    }
   ],
   "source": [
    "n = int(input())\n",
    "\n",
    "if(n%2==1 or 6<=n<=20):\n",
    "  print(\"Weird\")\n",
    "elif(n>20 or 2<=n<=5):\n",
    "  print(\"Not Weird\")"
   ]
  }
 ],
 "metadata": {
  "colab": {
   "include_colab_link": true,
   "name": "if_exercises.ipynb",
   "provenance": []
  },
  "kernelspec": {
   "display_name": "Python 3",
   "language": "python",
   "name": "python3"
  },
  "language_info": {
   "codemirror_mode": {
    "name": "ipython",
    "version": 3
   },
   "file_extension": ".py",
   "mimetype": "text/x-python",
   "name": "python",
   "nbconvert_exporter": "python",
   "pygments_lexer": "ipython3",
   "version": "3.7.4"
  }
 },
 "nbformat": 4,
 "nbformat_minor": 1
}
