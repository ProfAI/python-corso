{
 "cells": [
  {
   "cell_type": "markdown",
   "metadata": {
    "colab_type": "text",
    "id": "view-in-github"
   },
   "source": [
    "<a href=\"https://colab.research.google.com/github/ProfAI/py4ai/blob/master/4%20-%20Le%20Istruzioni%20Condizionali/conditions.ipynb\" target=\"_parent\"><img src=\"https://colab.research.google.com/assets/colab-badge.svg\" alt=\"Open In Colab\"/></a>"
   ]
  },
  {
   "cell_type": "markdown",
   "metadata": {
    "colab_type": "text",
    "id": "84rdLky44kzU"
   },
   "source": [
    "# Istruzioni Condizionali\n",
    "Le istruzioni condizionali permettono di definire delle istruzioni che vengono eseguite solo se una o più determinate condizioni sono soddisfatte. Per poter utilizzare le istruzioni condizionali dobbiamo prima conoscere le **espressioni booleane**."
   ]
  },
  {
   "cell_type": "markdown",
   "metadata": {
    "colab_type": "text",
    "id": "lRjK2jkp457C"
   },
   "source": [
    "## Espressioni Booleane\n",
    "Un'espressione booleana, ci permette di eseguire confronti tra i dati, le principali sono:\n",
    "* **==**: ritorna True se le due espressioni sono uguali, altrimenti ritorna False\n",
    "* **!=**: ritorna True se le due espressioni sono diverse, altrimenti ritorna False\n",
    "* **>**: ritorna True se la prima espressione è maggiore della seconda (solo numeri)\n",
    "* **>**=: ritorna True se la prima espressione è maggiore o uguale alla seconda (solo numeri)\n",
    "* **<**: ritorna True se la prima espressione è minore della seconda (solo numeri)\n",
    "* **<=**: ritorna True se la prima espressione è minore o uguale alla seconda (solo numeri)\n",
    "\n",
    "In Python possiamo utilizzare queste espressioni booleane per confrontare qualsiasi tipo di dato (con alcune eccezioni per le collezioni)."
   ]
  },
  {
   "cell_type": "code",
   "execution_count": 1,
   "metadata": {
    "colab": {
     "base_uri": "https://localhost:8080/",
     "height": 243
    },
    "colab_type": "code",
    "id": "13-B_DMm4a0R",
    "outputId": "0b97abfc-ba5c-4376-ebf8-26b20f48825b"
   },
   "outputs": [
    {
     "name": "stdout",
     "output_type": "stream",
     "text": [
      "True\n",
      "True\n",
      "False\n",
      "\n",
      "\n",
      "False\n",
      "False\n",
      "True\n",
      "\n",
      "\n",
      "True\n",
      "False\n",
      "True\n"
     ]
    }
   ],
   "source": [
    "print(1==1)\n",
    "print(3+2==6-1)\n",
    "print(1!=1)\n",
    "\n",
    "print(\"\\n\")\n",
    "\n",
    "print(5>6)\n",
    "print(5<5)\n",
    "print(5<=5)\n",
    "\n",
    "print(\"\\n\")\n",
    "\n",
    "print(\"gatto\"==\"gatto\")\n",
    "print(\"gatto\"==\"cane\")\n",
    "print(\"cane\"!=\"gatto\")"
   ]
  },
  {
   "cell_type": "markdown",
   "metadata": {
    "colab_type": "text",
    "id": "yU6ryhyQ6JLL"
   },
   "source": [
    "## Lo Statement IF\n",
    "Possiamo definire un'istruzione condizionale utilizzando lo statement if. Se if riceve un valore pari a True, allora il blocco di codice indentato che segue verrà eseguito, altrimenti no."
   ]
  },
  {
   "cell_type": "code",
   "execution_count": 15,
   "metadata": {
    "colab": {
     "base_uri": "https://localhost:8080/",
     "height": 35
    },
    "colab_type": "code",
    "id": "NWoQS1bq5X3f",
    "outputId": "e2dd9f86-9bdc-4162-f3c6-9218c33a0f6a"
   },
   "outputs": [
    {
     "name": "stdout",
     "output_type": "stream",
     "text": [
      "Questo testo viene stampato\n"
     ]
    }
   ],
   "source": [
    "if(True):\n",
    "  print(\"Questo testo viene stampato\")\n",
    "if(False):\n",
    "  print(\"Questo testo non viene stampato\")"
   ]
  },
  {
   "cell_type": "markdown",
   "metadata": {},
   "source": [
    "Possiamo creare le condizioni utilizzando delle espressioni booleane all'interno dell'if."
   ]
  },
  {
   "cell_type": "code",
   "execution_count": 16,
   "metadata": {
    "colab": {
     "base_uri": "https://localhost:8080/",
     "height": 35
    },
    "colab_type": "code",
    "id": "47wTzXPU5Ztm",
    "outputId": "84a8ba12-01a6-4569-edd3-60fd4267ac8b"
   },
   "outputs": [
    {
     "name": "stdout",
     "output_type": "stream",
     "text": [
      "Questo testo viene stampato\n"
     ]
    }
   ],
   "source": [
    "PRINT = True\n",
    "\n",
    "if(PRINT == True):\n",
    "  print(\"Questo testo viene stampato\")"
   ]
  },
  {
   "cell_type": "markdown",
   "metadata": {},
   "source": [
    "Facciamo un'esempio più complesso, scriviamo del codice per autenticarci ad una fantomatica casella email.\n",
    "<br><br>\n",
    "**NOTA BENE** ovviamente quello che segue non è il modo di fare un sistema di autenticazione, si tratta solo di un'esempio per comprendere il funzionamento delle istruzionio condizionali."
   ]
  },
  {
   "cell_type": "code",
   "execution_count": 17,
   "metadata": {
    "colab": {
     "base_uri": "https://localhost:8080/",
     "height": 52
    },
    "colab_type": "code",
    "id": "OI23kVN86cHM",
    "outputId": "81c672ab-f83f-498c-af8f-8d064f64e12b"
   },
   "outputs": [
    {
     "name": "stdout",
     "output_type": "stream",
     "text": [
      "Inserisci la tua email: giuseppe@profession.ai\n",
      "Hai 5 nuove email !\n"
     ]
    }
   ],
   "source": [
    "EMAIL = \"giuseppe@profession.ai\"\n",
    "\n",
    "email = input(\"Inserisci la tua email: \")\n",
    "\n",
    "if(email == EMAIL):\n",
    "  print(\"Hai 5 nuove email !\")"
   ]
  },
  {
   "cell_type": "markdown",
   "metadata": {},
   "source": [
    "## Lo Statement ELSE"
   ]
  },
  {
   "cell_type": "markdown",
   "metadata": {},
   "source": [
    "Cosa succede se la condizione non viene soddisfatta (in questo caso, se non inseriamo la mail corretta) ? Nulla, a meno che non definiamo del codice ad hoc all'interno di uno statement **else**, che puo seguire un'if."
   ]
  },
  {
   "cell_type": "code",
   "execution_count": 19,
   "metadata": {
    "colab": {
     "base_uri": "https://localhost:8080/",
     "height": 52
    },
    "colab_type": "code",
    "id": "gClwW8xy7Cxj",
    "outputId": "de692935-71de-47b4-dede-0f18ebe8edd1"
   },
   "outputs": [
    {
     "name": "stdout",
     "output_type": "stream",
     "text": [
      "Inserisci la tua email: nonsonogiuseppe@gmail.com\n",
      "Accesso Negato !\n"
     ]
    }
   ],
   "source": [
    "EMAIL = \"giuseppe@profession.ai\"\n",
    "\n",
    "email = input(\"Inserisci la tua email: \")\n",
    "\n",
    "if(email == EMAIL):\n",
    "  print(\"Hai 5 nuove email !\")\n",
    "else:\n",
    "  print(\"Accesso Negato !\")"
   ]
  },
  {
   "cell_type": "markdown",
   "metadata": {},
   "source": [
    "Come ben saprai per autenticarsi non basta la mail ma abbiamo bisogno di utilizzare anche una password, aggiungiamo un secondo if che verifica se anche la password che abbiamo immesso è corretta."
   ]
  },
  {
   "cell_type": "code",
   "execution_count": 21,
   "metadata": {
    "colab": {
     "base_uri": "https://localhost:8080/",
     "height": 69
    },
    "colab_type": "code",
    "id": "dYM4Soa17duy",
    "outputId": "b3f67d77-dbf2-48ad-864d-987532ac21c5"
   },
   "outputs": [
    {
     "name": "stdout",
     "output_type": "stream",
     "text": [
      "Inserisci la tua email: questamailnonesiste@mail.com\n",
      "Inserisci la tua password: unapasswordacaso\n",
      "Indirizzo email inesistente.\n"
     ]
    }
   ],
   "source": [
    "EMAIL = \"giuseppe@profession.ai\"\n",
    "PASSWORD = \"professionaispacca111\"\n",
    "\n",
    "email = input(\"Inserisci la tua email: \")\n",
    "password = input(\"Inserisci la tua password: \")\n",
    "\n",
    "if(email == EMAIL):\n",
    "  if(password == PASSWORD):\n",
    "    print(\"Hai 5 nuove email !\")\n",
    "  else:\n",
    "    print(\"La password non è corretta. Accesso negato !\")\n",
    "else:\n",
    "  print(\"Indirizzo email inesistente.\")\n"
   ]
  },
  {
   "cell_type": "markdown",
   "metadata": {},
   "source": [
    "Quando dobbiamo verificare più condizioni possiamo utilizzare una soluzione migliore dell'annidare più if, cioè gli **operatori logici**."
   ]
  },
  {
   "cell_type": "markdown",
   "metadata": {},
   "source": [
    "### Operatori **logici**\n",
    "in Python abbiamo i seguenti operatori logici:\n",
    " * **and**: ritorna True se entrambe le due condizioni sono True, altrimenti ritorna False\n",
    " * **or**: ritorna True se almeno una delle due condizioni è True, altrimenti ritorna False\n",
    " * **not**: esegue una negazione, se la condizione è True ritornerà False, se è False ritornerà True"
   ]
  },
  {
   "cell_type": "code",
   "execution_count": 1,
   "metadata": {},
   "outputs": [
    {
     "name": "stdout",
     "output_type": "stream",
     "text": [
      "True\n",
      "False\n",
      "True\n",
      "False\n",
      "True\n",
      "False\n"
     ]
    }
   ],
   "source": [
    "# entrambe le condizioni sono soddisfatte\n",
    "print(1==1 and \"casa\"!=\"albergo\")\n",
    "\n",
    "# la prima condizione non è soddisfatta\n",
    "print(1==2 and \"casa\"!=\"albergo\")\n",
    "\n",
    "# la prima condizione non è soddisfatta\n",
    "print(1==2 or \"casa\"!=\"albergo\")\n",
    "\n",
    "# Nessuna condizione è soddisfatta\n",
    "print(1==2 or \"casa\"==\"albergo\")\n",
    "\n",
    "# Nessuna condizione è soddisfatta\n",
    "print(not(1==2 or \"casa\"==\"albergo\"))\n",
    "\n",
    "# Tutte le condizioni sono soddisfatte\n",
    "print(not(1==1 or \"casa\"!=\"albergo\"))"
   ]
  },
  {
   "cell_type": "markdown",
   "metadata": {},
   "source": [
    "Utilizziamo gli operatori logici per migliorare il nostro sistema di autenticazione."
   ]
  },
  {
   "cell_type": "code",
   "execution_count": 23,
   "metadata": {
    "colab": {
     "base_uri": "https://localhost:8080/",
     "height": 69
    },
    "colab_type": "code",
    "id": "js5RLU6a7MV4",
    "outputId": "24be9d3e-b926-43f4-9db8-66eebab24635"
   },
   "outputs": [
    {
     "name": "stdout",
     "output_type": "stream",
     "text": [
      "Inserisci la tua email: giuseppe@profession.ai\n",
      "Inserisci la tua password: abcd1234\n",
      "Accesso Negato !\n"
     ]
    }
   ],
   "source": [
    "EMAIL = \"giuseppe@profession.ai\"\n",
    "PASSWORD = \"professionaispacca111\"\n",
    "\n",
    "email = input(\"Inserisci la tua email: \")\n",
    "password = input(\"Inserisci la tua password: \")\n",
    "\n",
    "if(email==EMAIL and password==PASSWORD):\n",
    "  print(\"Hai 5 nuove email !\")\n",
    "else:\n",
    "  print(\"Accesso Negato !\")"
   ]
  },
  {
   "cell_type": "markdown",
   "metadata": {},
   "source": [
    "## Lo Statement ELIF\n",
    "Se vogliamo gestire condizioni multiple possiamo utilizzare lo statement elif. Facciamo un'esempio."
   ]
  },
  {
   "cell_type": "code",
   "execution_count": 25,
   "metadata": {
    "colab": {
     "base_uri": "https://localhost:8080/",
     "height": 52
    },
    "colab_type": "code",
    "id": "mcol0WsG9NHC",
    "outputId": "9518924e-2588-431c-f26f-00a3a8304d38"
   },
   "outputs": [
    {
     "name": "stdout",
     "output_type": "stream",
     "text": [
      "Inserisci un numero: -1\n",
      "-1 è un numero negativo dispari\n"
     ]
    }
   ],
   "source": [
    "n = input(\"Inserisci un numero: \")\n",
    "n = int(n)\n",
    "\n",
    "if(n%2==0 and n>=0):\n",
    "    print(\"%d è un numero positivo pari\" % n)\n",
    "elif(n%2==1 and n>=0):\n",
    "    print(\"%d è un numero positivo dispari\" % n)\n",
    "elif(n%2==0 and n<0):\n",
    "    print(\"%d è un numero negativo pari\" % n)\n",
    "elif(n%2==1 and n<0):\n",
    "    print(\"%d è un numero negativo dispari\" % n)"
   ]
  },
  {
   "cell_type": "markdown",
   "metadata": {
    "colab_type": "text",
    "id": "GOvH1jkY_UET"
   },
   "source": [
    "## L'espressione IF\n",
    "L'espressione if ci permette di creare una condizione su un'unica riga di codice, è molto utile per assegnare il valore di una variabile in base ad una condizione."
   ]
  },
  {
   "cell_type": "code",
   "execution_count": 30,
   "metadata": {
    "colab": {
     "base_uri": "https://localhost:8080/",
     "height": 52
    },
    "colab_type": "code",
    "id": "jbCITiQj-7Mm",
    "outputId": "e4d5dc3b-0d18-42f9-b42b-be2b2ae3ee15"
   },
   "outputs": [
    {
     "name": "stdout",
     "output_type": "stream",
     "text": [
      "Inserisci un numero: 5\n",
      "5 è pari ? False\n"
     ]
    }
   ],
   "source": [
    "n = input(\"Inserisci un numero: \")\n",
    "n = int(n)\n",
    "\n",
    "is_even = False if n%2 else True\n",
    "\n",
    "print(\"%d è pari ? %s\" % (n, is_even))"
   ]
  },
  {
   "cell_type": "markdown",
   "metadata": {},
   "source": [
    "Possiamo utilizzarla anche direttamente all'interno della funzione print per mostrare l'output corretto in base alla condizione verificata."
   ]
  },
  {
   "cell_type": "code",
   "execution_count": 32,
   "metadata": {
    "colab": {
     "base_uri": "https://localhost:8080/",
     "height": 52
    },
    "colab_type": "code",
    "id": "JxjYC_sqDjxc",
    "outputId": "10eb75e4-f732-4bd8-9664-9485f37e2f74"
   },
   "outputs": [
    {
     "name": "stdout",
     "output_type": "stream",
     "text": [
      "Inserisci un numero: 5\n",
      "5 è dispari\n"
     ]
    }
   ],
   "source": [
    "n = input(\"Inserisci un numero: \")\n",
    "n = int(n)\n",
    "\n",
    "print(\"%d è\" % n, \"dispari\" if n%2 else \"pari\")"
   ]
  }
 ],
 "metadata": {
  "colab": {
   "include_colab_link": true,
   "name": "conditions.ipynb",
   "provenance": []
  },
  "kernelspec": {
   "display_name": "Python 3",
   "language": "python",
   "name": "python3"
  },
  "language_info": {
   "codemirror_mode": {
    "name": "ipython",
    "version": 3
   },
   "file_extension": ".py",
   "mimetype": "text/x-python",
   "name": "python",
   "nbconvert_exporter": "python",
   "pygments_lexer": "ipython3",
   "version": "3.7.4"
  }
 },
 "nbformat": 4,
 "nbformat_minor": 1
}
