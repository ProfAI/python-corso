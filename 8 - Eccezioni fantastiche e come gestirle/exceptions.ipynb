{
 "cells": [
  {
   "cell_type": "markdown",
   "metadata": {},
   "source": [
    "# Gestire le eccezioni\n",
    "Le eccezioni sono i messaggi che Python ci mostra per comunicarci che si è verificato un'errore. Sapere come interpretarle e gestirle è essenziale per realizzare programmi funzionali.<br>\n",
    "Scriviamo del codice per eseguire una divisione inserendo due numeri da tastiera, in una sola linea divisi da uno spazio."
   ]
  },
  {
   "cell_type": "code",
   "execution_count": 22,
   "metadata": {},
   "outputs": [
    {
     "name": "stdout",
     "output_type": "stream",
     "text": [
      "2 0\n"
     ]
    },
    {
     "ename": "ZeroDivisionError",
     "evalue": "division by zero",
     "output_type": "error",
     "traceback": [
      "\u001b[1;31m---------------------------------------------------------------------------\u001b[0m",
      "\u001b[1;31mZeroDivisionError\u001b[0m                         Traceback (most recent call last)",
      "\u001b[1;32m<ipython-input-22-79488484405d>\u001b[0m in \u001b[0;36m<module>\u001b[1;34m\u001b[0m\n\u001b[0;32m      1\u001b[0m \u001b[0mnumbers\u001b[0m \u001b[1;33m=\u001b[0m \u001b[0mlist\u001b[0m\u001b[1;33m(\u001b[0m\u001b[0mmap\u001b[0m\u001b[1;33m(\u001b[0m\u001b[0mint\u001b[0m\u001b[1;33m,\u001b[0m\u001b[0minput\u001b[0m\u001b[1;33m(\u001b[0m\u001b[1;33m)\u001b[0m\u001b[1;33m.\u001b[0m\u001b[0msplit\u001b[0m\u001b[1;33m(\u001b[0m\u001b[1;33m)\u001b[0m\u001b[1;33m)\u001b[0m\u001b[1;33m)\u001b[0m\u001b[1;33m\u001b[0m\u001b[1;33m\u001b[0m\u001b[0m\n\u001b[0;32m      2\u001b[0m \u001b[0ma\u001b[0m\u001b[1;33m,\u001b[0m \u001b[0mb\u001b[0m \u001b[1;33m=\u001b[0m \u001b[0mnumbers\u001b[0m\u001b[1;33m\u001b[0m\u001b[1;33m\u001b[0m\u001b[0m\n\u001b[1;32m----> 3\u001b[1;33m \u001b[0mc\u001b[0m \u001b[1;33m=\u001b[0m \u001b[0ma\u001b[0m\u001b[1;33m/\u001b[0m\u001b[0mb\u001b[0m\u001b[1;33m\u001b[0m\u001b[1;33m\u001b[0m\u001b[0m\n\u001b[0m\u001b[0;32m      4\u001b[0m \u001b[1;33m\u001b[0m\u001b[0m\n\u001b[0;32m      5\u001b[0m \u001b[0mprint\u001b[0m\u001b[1;33m(\u001b[0m\u001b[0mc\u001b[0m\u001b[1;33m)\u001b[0m\u001b[1;33m\u001b[0m\u001b[1;33m\u001b[0m\u001b[0m\n",
      "\u001b[1;31mZeroDivisionError\u001b[0m: division by zero"
     ]
    }
   ],
   "source": [
    "numbers = list(map(int,input().split()))\n",
    "a, b = numbers\n",
    "c = a/b\n",
    "\n",
    "print(c)"
   ]
  },
  {
   "cell_type": "markdown",
   "metadata": {},
   "source": [
    "Se uno dei due numeri è uno zero si scatenerà un'eccezione di tipo *ZeroDivisionError*."
   ]
  },
  {
   "cell_type": "markdown",
   "metadata": {},
   "source": [
    "## Try e Except\n",
    "Possiamo intercettare un'eccezione utilizzando i blocchi try ed except.\n",
    "* All'interno del blocco try inseriamo il codice da eseguire, dove sospettiamo si possa verificare un'eccezione.\n",
    "* Il blocco except verrà eseguito se e solo se un'eccezione si verificherà. Utilizziamo dei blocchi try/except per evitare la divisione per 0, in tal caso assegnamo un valore di -1 come risultato."
   ]
  },
  {
   "cell_type": "code",
   "execution_count": 23,
   "metadata": {},
   "outputs": [
    {
     "name": "stdout",
     "output_type": "stream",
     "text": [
      "2 0\n",
      "-1\n"
     ]
    }
   ],
   "source": [
    "try:\n",
    "    numbers = list(map(int,input().split()))\n",
    "    a, b = numbers\n",
    "    c = a/b\n",
    "except:\n",
    "    c = -1\n",
    "    \n",
    "print(c)"
   ]
  },
  {
   "cell_type": "markdown",
   "metadata": {},
   "source": [
    "La divisione per 0 non è l'unico problema di questo codice, infatti potremmo inserire dell'input non valido, in questo caso si genererà un'eccezione di tipo ValueError. Possiamo specificare più blocchi except per più eccezioni, inserendo il tipo dell'eccezione dopo lo statement except."
   ]
  },
  {
   "cell_type": "code",
   "execution_count": 27,
   "metadata": {},
   "outputs": [
    {
     "name": "stdout",
     "output_type": "stream",
     "text": [
      "2 x\n",
      "-2\n"
     ]
    }
   ],
   "source": [
    "try:\n",
    "    numbers = list(map(int,input().split()))\n",
    "    a, b = numbers\n",
    "    c = a/b\n",
    "except ZeroDivisionError :\n",
    "    c = -1\n",
    "except ValueError:\n",
    "    c= -2\n",
    "    \n",
    "print(c)"
   ]
  },
  {
   "cell_type": "markdown",
   "metadata": {},
   "source": [
    "Possiamo anche stampare informazioni sull'eccezione che si è verificata, utilizzando un alias per l'eccezione."
   ]
  },
  {
   "cell_type": "code",
   "execution_count": 28,
   "metadata": {},
   "outputs": [
    {
     "name": "stdout",
     "output_type": "stream",
     "text": [
      "2 x\n",
      "invalid literal for int() with base 10: 'x'\n",
      "0\n"
     ]
    }
   ],
   "source": [
    "try:\n",
    "    numbers = list(map(int,input().split()))\n",
    "    a, b = numbers\n",
    "    c = a/b\n",
    "except ZeroDivisionError as e:\n",
    "    print(e)\n",
    "    c = 0\n",
    "except ValueError as e:\n",
    "    print(e)\n",
    "    c=0\n",
    "    \n",
    "print(c)"
   ]
  },
  {
   "cell_type": "markdown",
   "metadata": {},
   "source": [
    "## Raise - Generare un'eccezione\n",
    "Certe volte può essere utile forzare un'eccezione, ad esempio in questo caso vogliamo che i numeri inseriti in input siano esattamente due, se così non è generiamo un'eccezione utilizzando lo statement *raise* seguito dal tipo di eccezione che vogliamo generare. [Qui](https://www.tutorialspoint.com/python/python_exceptions.htm) puoi trovare i principali tipi di eccezione in Python."
   ]
  },
  {
   "cell_type": "code",
   "execution_count": 31,
   "metadata": {},
   "outputs": [
    {
     "name": "stdout",
     "output_type": "stream",
     "text": [
      "2 5 3\n",
      "\n",
      "0\n"
     ]
    }
   ],
   "source": [
    "try:\n",
    "    numbers = list(map(int,input().split()))\n",
    "    if(len(numbers)!=2):\n",
    "        raise ValueError\n",
    "    a, b = numbers\n",
    "    c = a/b\n",
    "except ZeroDivisionError as e:\n",
    "    print(e)\n",
    "    c = 0\n",
    "except ValueError as e:\n",
    "    print(e)\n",
    "    c=0\n",
    "    \n",
    "print(c)"
   ]
  },
  {
   "cell_type": "markdown",
   "metadata": {},
   "source": [
    "## Assert\n",
    "Esiste un modo migliore per generare un'eccezione personalizzata in maniera condizionale, cioè utilizzando lo statement assert. Assert deve contenere una condizione che deve essere verificata, altrimenti si scatenerà un'eccezione di tipo AssertionError, insieme ad un messaggio personalizzato che va inserito dopo l'assert."
   ]
  },
  {
   "cell_type": "code",
   "execution_count": 37,
   "metadata": {},
   "outputs": [
    {
     "name": "stdout",
     "output_type": "stream",
     "text": [
      "2 6 2\n"
     ]
    },
    {
     "ename": "AssertionError",
     "evalue": "i numeri inseriti non sono 2",
     "output_type": "error",
     "traceback": [
      "\u001b[1;31m---------------------------------------------------------------------------\u001b[0m",
      "\u001b[1;31mAssertionError\u001b[0m                            Traceback (most recent call last)",
      "\u001b[1;32m<ipython-input-37-011b403df33a>\u001b[0m in \u001b[0;36m<module>\u001b[1;34m\u001b[0m\n\u001b[0;32m      1\u001b[0m \u001b[1;32mtry\u001b[0m\u001b[1;33m:\u001b[0m\u001b[1;33m\u001b[0m\u001b[1;33m\u001b[0m\u001b[0m\n\u001b[0;32m      2\u001b[0m     \u001b[0mnumbers\u001b[0m \u001b[1;33m=\u001b[0m \u001b[0mlist\u001b[0m\u001b[1;33m(\u001b[0m\u001b[0mmap\u001b[0m\u001b[1;33m(\u001b[0m\u001b[0mint\u001b[0m\u001b[1;33m,\u001b[0m\u001b[0minput\u001b[0m\u001b[1;33m(\u001b[0m\u001b[1;33m)\u001b[0m\u001b[1;33m.\u001b[0m\u001b[0msplit\u001b[0m\u001b[1;33m(\u001b[0m\u001b[1;33m)\u001b[0m\u001b[1;33m)\u001b[0m\u001b[1;33m)\u001b[0m\u001b[1;33m\u001b[0m\u001b[1;33m\u001b[0m\u001b[0m\n\u001b[1;32m----> 3\u001b[1;33m     \u001b[1;32massert\u001b[0m\u001b[1;33m(\u001b[0m\u001b[0mlen\u001b[0m\u001b[1;33m(\u001b[0m\u001b[0mnumbers\u001b[0m\u001b[1;33m)\u001b[0m\u001b[1;33m==\u001b[0m\u001b[1;36m2\u001b[0m\u001b[1;33m)\u001b[0m\u001b[1;33m,\u001b[0m \u001b[1;34m\"i numeri inseriti non sono 2\"\u001b[0m\u001b[1;33m\u001b[0m\u001b[1;33m\u001b[0m\u001b[0m\n\u001b[0m\u001b[0;32m      4\u001b[0m     \u001b[0ma\u001b[0m\u001b[1;33m,\u001b[0m \u001b[0mb\u001b[0m \u001b[1;33m=\u001b[0m \u001b[0mnumbers\u001b[0m\u001b[1;33m\u001b[0m\u001b[1;33m\u001b[0m\u001b[0m\n\u001b[0;32m      5\u001b[0m     \u001b[0mc\u001b[0m \u001b[1;33m=\u001b[0m \u001b[0ma\u001b[0m\u001b[1;33m/\u001b[0m\u001b[0mb\u001b[0m\u001b[1;33m\u001b[0m\u001b[1;33m\u001b[0m\u001b[0m\n",
      "\u001b[1;31mAssertionError\u001b[0m: i numeri inseriti non sono 2"
     ]
    }
   ],
   "source": [
    "try:\n",
    "    numbers = list(map(int,input().split()))\n",
    "    assert(len(numbers)==2), \"i numeri inseriti non sono 2\"\n",
    "    a, b = numbers\n",
    "    c = a/b\n",
    "except ZeroDivisionError as e:\n",
    "    print(e)\n",
    "    c = 0\n",
    "except ValueError as e:\n",
    "    print(e)\n",
    "    c=0\n",
    "    \n",
    "print(c)"
   ]
  },
  {
   "cell_type": "markdown",
   "metadata": {},
   "source": [
    "## Finally\n",
    "Infine abbiamo il blocco finally, che viene eseguito in ogni caso, sia nel caso di eccezione che non, solitamente viene utilizzato per rilasciare risorse dalla memoria."
   ]
  },
  {
   "cell_type": "code",
   "execution_count": 10,
   "metadata": {},
   "outputs": [
    {
     "name": "stdout",
     "output_type": "stream",
     "text": [
      "4 2\n",
      "2.0\n"
     ]
    }
   ],
   "source": [
    "try:\n",
    "    numbers = list(map(int,input().split()))\n",
    "    a, b = numbers\n",
    "    c = a/b\n",
    "except ZeroDivisionError as e:\n",
    "    print(e)\n",
    "    c = 0\n",
    "except ValueError as e:\n",
    "    print(e)\n",
    "    c=0\n",
    "finally:\n",
    "    del a # rimuoviamo a\n",
    "    del b # rimuoviamo b\n",
    "    \n",
    "print(c)"
   ]
  }
 ],
 "metadata": {
  "kernelspec": {
   "display_name": "Python 3",
   "language": "python",
   "name": "python3"
  }
 },
 "nbformat": 4,
 "nbformat_minor": 2
}
