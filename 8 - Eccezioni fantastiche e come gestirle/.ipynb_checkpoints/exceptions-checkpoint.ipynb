{
 "cells": [
  {
   "cell_type": "markdown",
   "metadata": {},
   "source": [
    "# Gestire le eccezioni\n",
    "Le eccezioni sono i messaggi che Python ci mostra per comunicarci che si è verificato un'errore. Sapere come interpretarle e gestirle è essenziale per realizzare programmi funzionali.<br>\n",
    "Scriviamo del codice per eseguire una divisione inserendo due numeri da tastiera, in una sola linea divisi da uno spazio."
   ]
  },
  {
   "cell_type": "code",
   "execution_count": 22,
   "metadata": {},
   "outputs": [
    {
     "name": "stdout",
     "output_type": "stream",
     "text": [
      "2 0\n"
     ]
    },
    {
     "ename": "ZeroDivisionError",
     "evalue": "division by zero",
     "output_type": "error",
     "traceback": [
      "\u001b[1;31m---------------------------------------------------------------------------\u001b[0m",
      "\u001b[1;31mZeroDivisionError\u001b[0m                         Traceback (most recent call last)",
      "\u001b[1;32m<ipython-input-22-79488484405d>\u001b[0m in \u001b[0;36m<module>\u001b[1;34m\u001b[0m\n\u001b[0;32m      1\u001b[0m \u001b[0mnumbers\u001b[0m \u001b[1;33m=\u001b[0m \u001b[0mlist\u001b[0m\u001b[1;33m(\u001b[0m\u001b[0mmap\u001b[0m\u001b[1;33m(\u001b[0m\u001b[0mint\u001b[0m\u001b[1;33m,\u001b[0m\u001b[0minput\u001b[0m\u001b[1;33m(\u001b[0m\u001b[1;33m)\u001b[0m\u001b[1;33m.\u001b[0m\u001b[0msplit\u001b[0m\u001b[1;33m(\u001b[0m\u001b[1;33m)\u001b[0m\u001b[1;33m)\u001b[0m\u001b[1;33m)\u001b[0m\u001b[1;33m\u001b[0m\u001b[1;33m\u001b[0m\u001b[0m\n\u001b[0;32m      2\u001b[0m \u001b[0ma\u001b[0m\u001b[1;33m,\u001b[0m \u001b[0mb\u001b[0m \u001b[1;33m=\u001b[0m \u001b[0mnumbers\u001b[0m\u001b[1;33m\u001b[0m\u001b[1;33m\u001b[0m\u001b[0m\n\u001b[1;32m----> 3\u001b[1;33m \u001b[0mc\u001b[0m \u001b[1;33m=\u001b[0m \u001b[0ma\u001b[0m\u001b[1;33m/\u001b[0m\u001b[0mb\u001b[0m\u001b[1;33m\u001b[0m\u001b[1;33m\u001b[0m\u001b[0m\n\u001b[0m\u001b[0;32m      4\u001b[0m \u001b[1;33m\u001b[0m\u001b[0m\n\u001b[0;32m      5\u001b[0m \u001b[0mprint\u001b[0m\u001b[1;33m(\u001b[0m\u001b[0mc\u001b[0m\u001b[1;33m)\u001b[0m\u001b[1;33m\u001b[0m\u001b[1;33m\u001b[0m\u001b[0m\n",
      "\u001b[1;31mZeroDivisionError\u001b[0m: division by zero"
     ]
    }
   ],
   "source": [
    "numbers = list(map(int,input().split()))\n",
    "a, b = numbers\n",
    "c = a/b\n",
    "\n",
    "print(c)"
   ]
  },
  {
   "cell_type": "markdown",
   "metadata": {},
   "source": [
    "Se uno dei due numeri è uno zero si scatenerà un'eccezione di tipo *ZeroDivisionError*."
   ]
  },
  {
   "cell_type": "markdown",
   "metadata": {},
   "source": [
    "## Try e Except\n",
    "Possiamo intercettare un'eccezione utilizzando i blocchi try ed except.\n",
    "* All'interno del blocco try inseriamo il codice da eseguire, dove sospettiamo si possa verificare un'eccezione.\n",
    "* Il blocco except verrà eseguito se e solo se un'eccezione si verificherà. Utilizziamo dei blocchi try/except per evitare la divisione per 0, in tal caso assegnamo un valore di -1 come risultato."
   ]
  },
  {
   "cell_type": "code",
   "execution_count": 23,
   "metadata": {},
   "outputs": [
    {
     "name": "stdout",
     "output_type": "stream",
     "text": [
      "2 0\n",
      "-1\n"
     ]
    }
   ],
   "source": [
    "try:\n",
    "    a, b = map(int,input().split()) \n",
    "    c = a/b\n",
    "except:\n",
    "    c = -1\n",
    "    \n",
    "print(c)"
   ]
  },
  {
   "cell_type": "markdown",
   "metadata": {},
   "source": [
    "La divisione per 0 non è l'unico problema di questo codice, infatti potremmo inserire dell'input non valido, in questo caso si genererà un'eccezione di tipo ValueError. Possiamo specificare più blocchi except per più eccezioni, inserendo il tipo dell'eccezione dopo lo statement except."
   ]
  },
  {
   "cell_type": "code",
   "execution_count": 24,
   "metadata": {},
   "outputs": [
    {
     "name": "stdout",
     "output_type": "stream",
     "text": [
      "2 x\n",
      "invalid literal for int() with base 10: 'x'\n",
      "0\n"
     ]
    }
   ],
   "source": [
    "try:\n",
    "    a, b = map(int,input().split()) \n",
    "    c = a/b\n",
    "except ZeroDivisionError as e:\n",
    "    print(e)\n",
    "    c = 0\n",
    "except ValueError as e:\n",
    "    print(e)\n",
    "    c=0\n",
    "    \n",
    "print(c)"
   ]
  },
  {
   "cell_type": "markdown",
   "metadata": {},
   "source": [
    "## Finally"
   ]
  },
  {
   "cell_type": "code",
   "execution_count": 10,
   "metadata": {},
   "outputs": [
    {
     "name": "stdout",
     "output_type": "stream",
     "text": [
      "4 2\n",
      "2.0\n"
     ]
    }
   ],
   "source": [
    "try:\n",
    "    a, b = map(int,input().split()) \n",
    "    c = a/b\n",
    "except ZeroDivisionError as e:\n",
    "    print(e)\n",
    "    c = 0\n",
    "except ValueError as e:\n",
    "    print(e)\n",
    "    c=0\n",
    "finally:\n",
    "    del a\n",
    "    del b\n",
    "    \n",
    "print(c)"
   ]
  },
  {
   "cell_type": "markdown",
   "metadata": {},
   "source": [
    "## Raise - Generare un'eccezione"
   ]
  },
  {
   "cell_type": "code",
   "execution_count": 15,
   "metadata": {},
   "outputs": [
    {
     "name": "stdout",
     "output_type": "stream",
     "text": [
      "2 5\n",
      "0.4\n"
     ]
    }
   ],
   "source": [
    "try:\n",
    "    a, b = map(int,input().split()) \n",
    "    c = a/b\n",
    "\n",
    "    if(a>10 or b>10):\n",
    "        raise ValueError\n",
    "\n",
    "except ZeroDivisionError as e:\n",
    "    print(e)\n",
    "    c = 0\n",
    "except ValueError as e:\n",
    "    print(e)\n",
    "    c=0\n",
    "finally:\n",
    "    del a\n",
    "    del b\n",
    "    \n",
    "print(c)"
   ]
  },
  {
   "cell_type": "code",
   "execution_count": 18,
   "metadata": {},
   "outputs": [
    {
     "name": "stdout",
     "output_type": "stream",
     "text": [
      "22 2\n"
     ]
    },
    {
     "ename": "AssertionError",
     "evalue": "boh",
     "output_type": "error",
     "traceback": [
      "\u001b[1;31m---------------------------------------------------------------------------\u001b[0m",
      "\u001b[1;31mAssertionError\u001b[0m                            Traceback (most recent call last)",
      "\u001b[1;32m<ipython-input-18-31746ea1d6c1>\u001b[0m in \u001b[0;36m<module>\u001b[1;34m\u001b[0m\n\u001b[0;32m      3\u001b[0m     \u001b[0mc\u001b[0m \u001b[1;33m=\u001b[0m \u001b[0ma\u001b[0m\u001b[1;33m/\u001b[0m\u001b[0mb\u001b[0m\u001b[1;33m\u001b[0m\u001b[1;33m\u001b[0m\u001b[0m\n\u001b[0;32m      4\u001b[0m \u001b[1;33m\u001b[0m\u001b[0m\n\u001b[1;32m----> 5\u001b[1;33m     \u001b[1;32massert\u001b[0m\u001b[1;33m(\u001b[0m\u001b[0ma\u001b[0m\u001b[1;33m<\u001b[0m\u001b[1;36m10\u001b[0m\u001b[1;33m)\u001b[0m\u001b[1;33m,\u001b[0m \u001b[1;34m\"boh\"\u001b[0m\u001b[1;33m\u001b[0m\u001b[1;33m\u001b[0m\u001b[0m\n\u001b[0m\u001b[0;32m      6\u001b[0m \u001b[1;33m\u001b[0m\u001b[0m\n\u001b[0;32m      7\u001b[0m \u001b[1;32mexcept\u001b[0m \u001b[0mZeroDivisionError\u001b[0m \u001b[1;32mas\u001b[0m \u001b[0me\u001b[0m\u001b[1;33m:\u001b[0m\u001b[1;33m\u001b[0m\u001b[1;33m\u001b[0m\u001b[0m\n",
      "\u001b[1;31mAssertionError\u001b[0m: boh"
     ]
    }
   ],
   "source": [
    "try:\n",
    "    a, b = map(int,input().split()) \n",
    "    c = a/b\n",
    "\n",
    "    assert(a<10), \"boh\"\n",
    "    \n",
    "except ZeroDivisionError as e:\n",
    "    print(e)\n",
    "    c = 0\n",
    "except ValueError as e:\n",
    "    print(e)\n",
    "    c=0\n",
    "finally:\n",
    "    del a\n",
    "    del b\n",
    "    \n",
    "print(c)"
   ]
  }
 ],
 "metadata": {
  "kernelspec": {
   "display_name": "Python 3",
   "language": "python",
   "name": "python3"
  }
 },
 "nbformat": 4,
 "nbformat_minor": 2
}
