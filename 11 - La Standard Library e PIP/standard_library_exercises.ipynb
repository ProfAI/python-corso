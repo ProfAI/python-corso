{
  "nbformat": 4,
  "nbformat_minor": 0,
  "metadata": {
    "kernelspec": {
      "display_name": "base",
      "language": "python",
      "name": "base"
    },
    "language_info": {
      "codemirror_mode": {
        "name": "ipython",
        "version": 3
      },
      "file_extension": ".py",
      "mimetype": "text/x-python",
      "name": "python",
      "nbconvert_exporter": "python",
      "pygments_lexer": "ipython3",
      "version": "3.7.3"
    },
    "colab": {
      "name": "standard_library_exercises.ipynb",
      "provenance": []
    }
  },
  "cells": [
    {
      "cell_type": "markdown",
      "metadata": {
        "id": "TsMZ3TW1yalh"
      },
      "source": [
        "# Esercizi con i moduli della Standard Library"
      ]
    },
    {
      "cell_type": "markdown",
      "metadata": {
        "id": "pkY_POXyyali"
      },
      "source": [
        "## 1. Poesie su un file\n",
        "Leggi tutte le poesie dalla directory *poesie* e savale all'interno di un unico file chiamato *raccolta_poesie.txt che si dovrà trovare all'interno di una nuova directory chiamata *raccolta*. Prima di una poesia inserisci un contatore (es. POESIA 1). Guarda il file raccolta_poesie_esempio.txt per avere un'idea dell'output che devi ottenere.\n"
      ]
    },
    {
      "cell_type": "code",
      "metadata": {
        "id": "oz0xxPsTyalj",
        "outputId": "0f7af202-405e-474c-ad59-f8d710a41456"
      },
      "source": [
        "from os import listdir, mkdir\n",
        "\n",
        "PATH = \"poesie/\"\n",
        "NEW_PATH = PATH+\"raccolta/\"\n",
        "NEW_FILE = NEW_PATH+\"raccolta_poesie.txt\"\n",
        "\n",
        "mkdir(NEW_PATH)\n",
        "new_file = open(NEW_FILE, \"a\")\n",
        "\n",
        "i = 1\n",
        "\n",
        "for txt in listdir(PATH):\n",
        "    \n",
        "    if(not \".txt\" in txt):\n",
        "        continue\n",
        "    print(txt)\n",
        "    with open(PATH+txt) as file:\n",
        "        new_file.write(\"POESIA %d\\n\" % i)\n",
        "        new_file.write(file.read()+\"\\n\\n\")\n",
        "        i+=1\n",
        "    \n",
        "new_file.close()"
      ],
      "execution_count": null,
      "outputs": [
        {
          "output_type": "stream",
          "text": [
            "bacio.txt\n",
            "felicità.txt\n",
            "il_più_bello_dei_mari.txt\n",
            "sei_la_mia_schiavitu_sei_la_mia_liberta.txt\n",
            "se_durassimo_in_eterno.txt\n"
          ],
          "name": "stdout"
        }
      ]
    },
    {
      "cell_type": "markdown",
      "metadata": {
        "id": "pGPEkwkayall"
      },
      "source": [
        "## 2. Quanto manca al tuo compleanno ?\n",
        "Inserisci in input la data del tuo compleanno in formato giorno/mese (es 11/06 per l'11 di Giugno). Scrivi un programma in grado di calcolare i giorni mancanti al tuo compleanno e stampa il risultato in output.\n",
        "##### SUGGERIMENTI\n",
        "* Puoi utilizzare gli operatori di confronto per confrontare due date"
      ]
    },
    {
      "cell_type": "code",
      "metadata": {
        "id": "1-7M5q1s7GNg",
        "colab": {
          "base_uri": "https://localhost:8080/",
          "height": 53
        },
        "outputId": "e17ff9d1-bfc3-4e37-fd33-37e5e44d59b4"
      },
      "source": [
        "from datetime import datetime\n",
        "\n",
        "now = datetime.now()\n",
        "\n",
        "date_str = \"12/08\"\n",
        "date = datetime.strptime(date_str, \"%d/%m\")\n",
        "date = date.replace(year=now.year)\n",
        "\n",
        "print(\"Data di oggi: \"+datetime.strftime(now,\"%d/%m\"))\n",
        "\n",
        "if(date<now):\n",
        "    print(\"Il %s è già passato\" % date_str)\n",
        "else:\n",
        "    print(\"Il %s deve ancora venire\" % date_str)"
      ],
      "execution_count": null,
      "outputs": [
        {
          "output_type": "stream",
          "text": [
            "Data di oggi: 06/11\n",
            "Il 12/08 è già passato\n"
          ],
          "name": "stdout"
        }
      ]
    },
    {
      "cell_type": "markdown",
      "metadata": {
        "id": "c7dCafCo7HVd"
      },
      "source": [
        "###### SOLUZIONE"
      ]
    },
    {
      "cell_type": "code",
      "metadata": {
        "id": "ECXeqAtPyall",
        "colab": {
          "base_uri": "https://localhost:8080/",
          "height": 71
        },
        "outputId": "205971d4-dfcf-4687-a1dc-2af7a3f71367"
      },
      "source": [
        "from datetime import datetime\n",
        "\n",
        "today = datetime.now()\n",
        "\n",
        "bday = input(\"Quando fai il compleanno ? [giorno/mese]: \")\n",
        "\n",
        "bday_date = datetime.strptime(bday, \"%d/%m)\n",
        "bday_date = bday_date.replace(year=today.year)\n",
        "\n",
        "if(bday_date < today):\n",
        "  bday_date = bday_date.replace(year=today.year+1)\n",
        "\n",
        "print(bday_date)\n",
        "print(today)\n",
        "\n",
        "to_bday = bday_date-today\n",
        "print(\"Mancano ancora %d giorni al tuo compleanno\" % to_bday.days)"
      ],
      "execution_count": null,
      "outputs": [
        {
          "output_type": "stream",
          "text": [
            "2019-12-12 00:00:00\n",
            "2019-11-06 13:26:07.975951\n",
            "Mancano ancora 35 giorni al tuo compleanno\n"
          ],
          "name": "stdout"
        }
      ]
    },
    {
      "cell_type": "markdown",
      "metadata": {
        "id": "FgluqP41yalp"
      },
      "source": [
        "## 3. Equazioni per il Machine Learning\n",
        "Le funzioni di attivazione sono una parte fondamentale delle reti neurali artificiali, implementiamo le seguenti funzioni di attivazione usando ovunque è possibile il modulo math di Python.\n",
        "##### Sigmoide\n",
        "$ \\sigma(z) = \\frac{1}{1+e^{-z}} $\n",
        "##### Rectified Linear Unit (ReLU)\n",
        "$ g(z) = \\begin{Bmatrix}\n",
        "0 \\ \\ \\ se \\ \\ z < 0\n",
        "\\\\\n",
        "z \\ \\ \\ se \\ \\ z \\geq 0\n",
        "\\end{Bmatrix}\n",
        "$\n",
        "##### Tangente iperbolica\n",
        "$ \\tanh(z) = \\frac{1-e^{-2z}}{1+e^{-2z}} $\n",
        "<br><br>\n",
        "Per valutare la qualità di un qualsiasi modello di machine learning è necessario usare una funzione di costo, implementiamo la log loss utilizzando dove è possibile il modulo math di Python\n",
        "##### Log Loss\n",
        "$ \\text{J}(y, \\hat{y}) ) = -\\frac{1}{N}\\sum_{i=1}^N(y_i\\cdot log(a_i) + (1-y_i)\\cdot log(1-a_i) $\n"
      ]
    },
    {
      "cell_type": "code",
      "metadata": {
        "id": "ptNJbYqCyalq",
        "outputId": "08531eff-8dcf-4812-d668-3dd7d8120351"
      },
      "source": [
        "import math\n",
        "\n",
        "def sigmoid(z):\n",
        "    #return 1/(1+math.pow(math.e, -z))\n",
        "    return 1/(1+math.exp(-z))\n",
        "\n",
        "def relu(z):\n",
        "    return max(0, z)\n",
        "\n",
        "def tanh(z):\n",
        "    return (1-math.exp(-2*z))/(1+math.exp(-2*z))\n",
        "\n",
        "def log_loss(y,a):\n",
        "    \n",
        "    loss = 0\n",
        "    \n",
        "    for y_i, a_i in zip(y, a):\n",
        "        loss += y_i*math.log(a_i)+(1-y_i)*math.log(1-a_i)\n",
        "    \n",
        "    return -loss/len(y)\n",
        "    \n",
        "    \n",
        "print(sigmoid(1))\n",
        "print(relu(1))\n",
        "print(tanh(1))\n",
        "print(log_loss([1,0,1,1,0], [0.75, 0.4, 0.6, 0.8, 0.1]))"
      ],
      "execution_count": null,
      "outputs": [
        {
          "output_type": "stream",
          "text": [
            "0.7310585786300049\n",
            "1\n",
            "0.7615941559557649\n",
            "0.32756747739115966\n"
          ],
          "name": "stdout"
        }
      ]
    }
  ]
}