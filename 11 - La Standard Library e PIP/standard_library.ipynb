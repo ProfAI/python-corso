{
  "nbformat": 4,
  "nbformat_minor": 0,
  "metadata": {
    "kernelspec": {
      "display_name": "Python 3",
      "language": "python",
      "name": "python3"
    },
    "language_info": {
      "codemirror_mode": {
        "name": "ipython",
        "version": 3
      },
      "file_extension": ".py",
      "mimetype": "text/x-python",
      "name": "python",
      "nbconvert_exporter": "python",
      "pygments_lexer": "ipython3",
      "version": "3.7.4"
    },
    "colab": {
      "name": "standard_library.ipynb",
      "provenance": []
    }
  },
  "cells": [
    {
      "cell_type": "markdown",
      "metadata": {
        "id": "Buhnng-4VPQz"
      },
      "source": [
        "# La Standard Library\n",
        "\n",
        "La [Standard Library](https://docs.python.org/3/library/) di Python mette a disposizione tutta una serie di moduli già realizzati per molti utilizzi differenti.\n",
        "<br>\n",
        "Vediamo i più importanti e quelli che ci serve conoscere per lavorare in ambito Machine Learning e Artificial Intelligence"
      ]
    },
    {
      "cell_type": "markdown",
      "metadata": {
        "id": "bGs23jvlXT1B"
      },
      "source": [
        "##Il Modulo sys"
      ]
    },
    {
      "cell_type": "code",
      "metadata": {
        "id": "gmnVtiExXYsa"
      },
      "source": [
        "import sys"
      ],
      "execution_count": null,
      "outputs": []
    },
    {
      "cell_type": "code",
      "metadata": {
        "id": "7Me7FJC1YAnf",
        "colab": {
          "base_uri": "https://localhost:8080/"
        },
        "outputId": "018aa22d-3b8e-4358-ee59-050e915a4be6"
      },
      "source": [
        "print(sys.version)\n",
        "print(sys.version_info)"
      ],
      "execution_count": null,
      "outputs": [
        {
          "output_type": "stream",
          "name": "stdout",
          "text": [
            "3.7.12 (default, Sep 10 2021, 00:21:48) \n",
            "[GCC 7.5.0]\n",
            "sys.version_info(major=3, minor=7, micro=12, releaselevel='final', serial=0)\n"
          ]
        }
      ]
    },
    {
      "cell_type": "code",
      "metadata": {
        "id": "6ltfKL_RYrs3",
        "colab": {
          "base_uri": "https://localhost:8080/"
        },
        "outputId": "2ecd57cf-96e2-4a32-877f-89dd0e83f987"
      },
      "source": [
        "print(sys.platform)\n",
        "print(sys.executable)\n",
        "print(sys.path)"
      ],
      "execution_count": null,
      "outputs": [
        {
          "output_type": "stream",
          "name": "stdout",
          "text": [
            "linux\n",
            "/usr/bin/python3\n",
            "['', '/content', '/env/python', '/usr/lib/python37.zip', '/usr/lib/python3.7', '/usr/lib/python3.7/lib-dynload', '/usr/local/lib/python3.7/dist-packages', '/usr/lib/python3/dist-packages', '/usr/local/lib/python3.7/dist-packages/IPython/extensions', '/root/.ipython']\n"
          ]
        }
      ]
    },
    {
      "cell_type": "code",
      "metadata": {
        "id": "wx5ZqCc-YxIn",
        "colab": {
          "base_uri": "https://localhost:8080/"
        },
        "outputId": "fe310136-add3-414b-e472-084f21395263"
      },
      "source": [
        "sys.modules[\"numpy\"]"
      ],
      "execution_count": null,
      "outputs": [
        {
          "output_type": "stream",
          "name": "stdout",
          "text": [
            "<module 'numpy' from '/usr/local/lib/python3.7/dist-packages/numpy/__init__.py'>\n"
          ]
        }
      ]
    },
    {
      "cell_type": "code",
      "metadata": {
        "id": "A2eFwFFfZkpy",
        "colab": {
          "base_uri": "https://localhost:8080/"
        },
        "outputId": "47e06503-575a-43ae-cbd8-cab259829936"
      },
      "source": [
        "import sys\n",
        "\n",
        "print(f\"Nome dello script: {sys.argv[0]}\")\n",
        "\n",
        "argc = len(sys.argv)-1\n",
        "print(f\"Numero di parametri: {argc}\")\n",
        "\n",
        "for i in range(argc):\n",
        "  print(f\" - {sys.argv[i+1]}\")\n"
      ],
      "execution_count": null,
      "outputs": [
        {
          "output_type": "stream",
          "name": "stdout",
          "text": [
            "Nome dello script: /usr/local/lib/python3.7/dist-packages/ipykernel_launcher.py\n",
            "Numero di parametri: 2\n",
            " - -f\n",
            " - /root/.local/share/jupyter/runtime/kernel-1c9914cf-f5d6-4f04-88b9-90388d1937b4.json\n"
          ]
        }
      ]
    },
    {
      "cell_type": "markdown",
      "metadata": {
        "id": "UybHGiKFd9KT"
      },
      "source": [
        "###Il Modulo argparse"
      ]
    },
    {
      "cell_type": "code",
      "metadata": {
        "id": "pP3jVYvFezti"
      },
      "source": [
        "import argparse\n",
        "\n",
        "\n",
        "parser = argparse.ArgumentParser()\n",
        "parser.add_argument('u', type=str, help=\"Inserisci il tuo nome\")\n",
        "\n",
        "args = parser.parse_args()\n",
        "\n",
        "if args.u is not None:\n",
        "\tprint(\"Ciao\", args.u)\n",
        "else:\n",
        "\tprint(\"Non ti conosco\")"
      ],
      "execution_count": null,
      "outputs": []
    },
    {
      "cell_type": "code",
      "metadata": {
        "id": "pgu_x-Jecv2A"
      },
      "source": [
        "import argparse\n",
        "\n",
        "\n",
        "parser = argparse.ArgumentParser()\n",
        "parser.add_argument('-user', '--u', dest=\"user\", type=str, help=\"Inserisci il tuo nome\")\n",
        "\n",
        "args = parser.parse_args()\n",
        "\n",
        "if args.user is not None:\n",
        "\tprint(\"Ciao\", args.user)\n",
        "else:\n",
        "\tprint(\"Non ti conosco\")"
      ],
      "execution_count": null,
      "outputs": []
    },
    {
      "cell_type": "code",
      "metadata": {
        "id": "jdwd9OTjgXE9"
      },
      "source": [
        "import argparse\n",
        "\n",
        "\n",
        "parser = argparse.ArgumentParser()\n",
        "parser.add_argument('-user', '--u', type=str, help=\"Inserisci il tuo nome\", required=True)\n",
        "\n",
        "args = parser.parse_args()\n",
        "print(\"Ciao\", args.u)"
      ],
      "execution_count": null,
      "outputs": []
    },
    {
      "cell_type": "code",
      "metadata": {
        "id": "rcS-LUIfcOMt",
        "colab": {
          "base_uri": "https://localhost:8080/",
          "height": 184
        },
        "outputId": "75721583-baf6-4207-dbba-f7dc111207d9"
      },
      "source": [
        "import argparse\n",
        "\n",
        "\n",
        "def multiply(a, b, verbose=False):\n",
        "\n",
        "\tif verbose:\n",
        "\t\tprint(f\"{a}*{b}={a*b}\") \n",
        "\telse:\n",
        "\t\tprint(a*b)\n",
        "\n",
        "\n",
        "def square(a, verbose=False):\n",
        "\n",
        "\tif verbose:\n",
        "\t\tprint(f\"{a}^2={a**2}\") \n",
        "\telse:\n",
        "\t\tprint(a**2)\n",
        "\n",
        "\n",
        "parser = argparse.ArgumentParser()\n",
        "parser.add_argument('-value_a', '--a', type=int, help=\"Primo numero\", required=True)\n",
        "parser.add_argument('-value_b', '--b', type=int, help=\"Secondo numero\", required=False)\n",
        "parser.add_argument('-verbose', dest='verbose', help=\"attiva modalità verbose\", required=False, action='store_true')\n",
        "parser.add_argument('-no-verbose', dest='verbose', help=\"disattiva modalità verbose\", required=False, action='store_false')\n",
        "parser.set_defaults(verbose=False)\n",
        "\n",
        "args = parser.parse_args()\n",
        "\n",
        "if args.b is None:\n",
        "\tsquare(args.a, verbose=args.verbose) \n",
        "else:\n",
        "\tmultiply(args.a, args.b, verbose=args.verbose)\n"
      ],
      "execution_count": null,
      "outputs": [
        {
          "output_type": "stream",
          "name": "stderr",
          "text": [
            "usage: ipykernel_launcher.py [-h] --a A [--b B]\n",
            "ipykernel_launcher.py: error: the following arguments are required: --a\n"
          ]
        },
        {
          "output_type": "error",
          "ename": "SystemExit",
          "evalue": "ignored",
          "traceback": [
            "An exception has occurred, use %tb to see the full traceback.\n",
            "\u001b[0;31mSystemExit\u001b[0m\u001b[0;31m:\u001b[0m 2\n"
          ]
        },
        {
          "output_type": "stream",
          "name": "stderr",
          "text": [
            "/usr/local/lib/python3.7/dist-packages/IPython/core/interactiveshell.py:2890: UserWarning: To exit: use 'exit', 'quit', or Ctrl-D.\n",
            "  warn(\"To exit: use 'exit', 'quit', or Ctrl-D.\", stacklevel=1)\n"
          ]
        }
      ]
    },
    {
      "cell_type": "code",
      "metadata": {
        "id": "mSeLOc9ik2jE"
      },
      "source": [
        "import argparse\n",
        "\n",
        "parser = argparse.ArgumentParser(description='Esegui delle operazioni su dei numeri.')\n",
        "\n",
        "parser.add_argument('integers', metavar='N', type=int, nargs='+',\n",
        "                    help='una sequenza di numeri')\n",
        "\n",
        "group = parser.add_mutually_exclusive_group()\n",
        "\n",
        "group.add_argument('--sum', dest='op', action='store_const',\n",
        "                    const=sum, help='somma i valori')\n",
        "\n",
        "group.add_argument('--max', dest='op', action='store_const',\n",
        "                    const=max, help='trova il valore massimo')\n",
        "\n",
        "group.add_argument('--min', dest='op', action='store_const',\n",
        "                    const=min, help='trova il valore minimo')\n",
        "\n",
        "\n",
        "args = parser.parse_args()\n",
        "print(args.op(args.integers))\n"
      ],
      "execution_count": null,
      "outputs": []
    },
    {
      "cell_type": "markdown",
      "metadata": {
        "id": "4augkiYsVPQ1"
      },
      "source": [
        "## Il Modulo os\n",
        "Il [modulo os](https://docs.python.org/3/library/os.html) ci permette di utilizzare molte funzioni del nostro sistema operativo."
      ]
    },
    {
      "cell_type": "code",
      "metadata": {
        "id": "HA0dfm3LVPQ1"
      },
      "source": [
        "import os"
      ],
      "execution_count": null,
      "outputs": []
    },
    {
      "cell_type": "markdown",
      "metadata": {
        "id": "xf6QNrCdVPQ2"
      },
      "source": [
        "Possiamo utilizzare questo modulo per ottenere alcune informazioni utili, come nome utente e sistema operativo."
      ]
    },
    {
      "cell_type": "code",
      "metadata": {
        "id": "nmDTHXCwVPQ2",
        "outputId": "123111b0-e501-4ed2-a1a3-a9a3b88e9509"
      },
      "source": [
        "print(os.name) # Stampiamo l'ID dell'OS\n",
        "print(os.getlogin()) # stampiamo il nome utente"
      ],
      "execution_count": null,
      "outputs": [
        {
          "name": "stdout",
          "output_type": "stream",
          "text": [
            "nt\n",
            "gfgul\n"
          ]
        }
      ]
    },
    {
      "cell_type": "markdown",
      "metadata": {
        "id": "ttj-S-BPVPQ2"
      },
      "source": [
        "Con la funzione *getcwd()* possiamo ottenere il percorso corrente."
      ]
    },
    {
      "cell_type": "code",
      "metadata": {
        "id": "0VpAagIPVPQ3",
        "outputId": "89a72903-cfed-4d19-a7a5-105692efe914"
      },
      "source": [
        "# otteniamo il path alla directory corrente\n",
        "cwd = os.getcwd()\n",
        "print(cwd)"
      ],
      "execution_count": null,
      "outputs": [
        {
          "name": "stdout",
          "output_type": "stream",
          "text": [
            "C:\\Users\\gfgul\\OneDrive\\Desktop\\professionai\\py4ai\\10 - La Standard Library e PIP\n"
          ]
        }
      ]
    },
    {
      "cell_type": "markdown",
      "metadata": {
        "id": "UbhkY1IrVPQ3"
      },
      "source": [
        "Una funzione utile di questo modulo è *listdir*, che ci permette di elencare il contenuto di una directory."
      ]
    },
    {
      "cell_type": "code",
      "metadata": {
        "id": "XVuemOQjVPQ3",
        "outputId": "4dff1aac-d457-47de-999b-ee733907b967"
      },
      "source": [
        "os.listdir(\"poesie\")"
      ],
      "execution_count": null,
      "outputs": [
        {
          "data": {
            "text/plain": [
              "['.ipynb_checkpoints',\n",
              " 'bacio.txt',\n",
              " 'felicità.txt',\n",
              " 'il_più_bello_dei_mari.txt',\n",
              " 'sei_la_mia_schiavitu_sei_la_mia_liberta.txt',\n",
              " 'se_durassimo_in_eterno']"
            ]
          },
          "execution_count": 4,
          "metadata": {},
          "output_type": "execute_result"
        }
      ]
    },
    {
      "cell_type": "markdown",
      "metadata": {
        "id": "jALjRqW6VPQ3"
      },
      "source": [
        "Con la funzione *mkdir* possiamo invece creare una nuova directory"
      ]
    },
    {
      "cell_type": "code",
      "metadata": {
        "id": "ftpEO4pkVPQ4",
        "outputId": "709fcd89-4480-4719-9859-4ee10e36b181"
      },
      "source": [
        "os.mkdir(\"tmp\") # creiamo una nuova directory chiamata 'tmp'\n",
        "os.listdir(os.getcwd()) # stampiamo il contenuto della directory corrente"
      ],
      "execution_count": null,
      "outputs": [
        {
          "data": {
            "text/plain": [
              "['.ipynb_checkpoints', 'poesie', 'standard_library.ipynb', 'tmp']"
            ]
          },
          "execution_count": 11,
          "metadata": {},
          "output_type": "execute_result"
        }
      ]
    },
    {
      "cell_type": "markdown",
      "metadata": {
        "id": "xfL00RgxVPQ4"
      },
      "source": [
        "Possiamo rinominare un file o una directory con la funzione *rename*."
      ]
    },
    {
      "cell_type": "code",
      "metadata": {
        "id": "FVPs8rEqVPQ4",
        "outputId": "5ba02cbb-8c13-4947-c467-1875184ce761"
      },
      "source": [
        "os.rename(\"tmp\",\"temp\") # rinominiuamo la directory da 'tmp' a 'temp'\n",
        "os.listdir(os.getcwd()) # stampiamo il contenuto della directory corrente"
      ],
      "execution_count": null,
      "outputs": [
        {
          "data": {
            "text/plain": [
              "['.ipynb_checkpoints', 'poesie', 'standard_library.ipynb', 'temp']"
            ]
          },
          "execution_count": 16,
          "metadata": {},
          "output_type": "execute_result"
        }
      ]
    },
    {
      "cell_type": "markdown",
      "metadata": {
        "id": "nSuq2fVXVPQ4"
      },
      "source": [
        "infine possiamo rimuovere un file o una directory rispettivamente con le funzioni *remove(file_path)* e *rmdir(path)*."
      ]
    },
    {
      "cell_type": "code",
      "metadata": {
        "id": "1Giq9ZUjVPQ4",
        "outputId": "ba02a7f3-f828-4a38-f9ec-6344f79169a4"
      },
      "source": [
        "#os.remove('tmp.txt') # così avremmo potuto rimuovere un file\n",
        "os.rmdir('temp') # rimuoviamo la directory 'temp'\n",
        "os.listdir(os.getcwd()) # stampiamo il contenuto della directory corrente"
      ],
      "execution_count": null,
      "outputs": [
        {
          "data": {
            "text/plain": [
              "['.ipynb_checkpoints', 'poesie', 'standard_library.ipynb']"
            ]
          },
          "execution_count": 17,
          "metadata": {},
          "output_type": "execute_result"
        }
      ]
    },
    {
      "cell_type": "markdown",
      "metadata": {
        "id": "-erWqe0UVPQ4"
      },
      "source": [
        "## Il Modulo time\n",
        "Il [modulo time](https://docs.python.org/3/library/time.html), ci fornisce tutta una serie di funzioni legate al tempo. L'utilizzo principale che ci capiterà di farne è quello di cronometrare l'esecuzione del codice utilizzando la sua funzione time(). Ad esempio calcoliamo per 1000 volte la 100esima potenza di 2 e cronometriamo quanto tempo impiega."
      ]
    },
    {
      "cell_type": "code",
      "metadata": {
        "id": "ktIuBr5uVPQ5",
        "outputId": "a9954acc-a857-40d1-d2b7-aa8ea758c576"
      },
      "source": [
        "from time import time\n",
        "n = 2\n",
        "pow = 100\n",
        "\n",
        "n_pow = n\n",
        "tick = time()\n",
        "\n",
        "for i in range(1000):\n",
        "    n_pow = n\n",
        "    for _ in range(pow):\n",
        "      n_pow*=n\n",
        "\n",
        "duration = time()-tick\n",
        "  \n",
        "print(\"La %d° potenza di %d è %d\" % (pow, n, n_pow))\n",
        "print(\"Tempo di esecuzione: %.10f secondi\" % duration)"
      ],
      "execution_count": null,
      "outputs": [
        {
          "name": "stdout",
          "output_type": "stream",
          "text": [
            "La 100° potenza di 2 è 2535301200456458802993406410752\n",
            "Tempo di esecuzione: 0.0139627457 secondi\n"
          ]
        }
      ]
    },
    {
      "cell_type": "markdown",
      "metadata": {
        "id": "6hddNicgVPQ5"
      },
      "source": [
        "## Il Modulo datetime\n",
        "Se il modulo time ci permette di operare con il tempo, il [modulo datetime](https://docs.python.org/3/library/datetime.html) ci permette di operare con le date. Possiamo utilizzare il suo metodo .now() per ottenere la data l'ora attuale."
      ]
    },
    {
      "cell_type": "code",
      "metadata": {
        "id": "g8XjrtwIVPQ5",
        "outputId": "e70cf603-bf92-40e0-b583-3c0082745d1a"
      },
      "source": [
        "import datetime\n",
        "\n",
        "#il metodo now ci permette di ottenere data e ora correnti\n",
        "now = datetime.datetime.now()\n",
        "print(now, type(now))"
      ],
      "execution_count": null,
      "outputs": [
        {
          "name": "stdout",
          "output_type": "stream",
          "text": [
            "2019-09-26 11:28:12.762219 <class 'datetime.datetime'>\n"
          ]
        }
      ]
    },
    {
      "cell_type": "markdown",
      "metadata": {
        "id": "9URjodFbVPQ5"
      },
      "source": [
        "Possiamo stampare anche le singole componenti della dat"
      ]
    },
    {
      "cell_type": "code",
      "metadata": {
        "id": "dpzs60HsVPQ5",
        "outputId": "113856b4-4203-479a-eac9-20207e3c9f45"
      },
      "source": [
        "print(now.year)\n",
        "print(now.month)\n",
        "print(now.day)\n",
        "print(now.hour)\n",
        "print(now.minute)\n",
        "print(now.second)"
      ],
      "execution_count": null,
      "outputs": [
        {
          "name": "stdout",
          "output_type": "stream",
          "text": [
            "2019\n",
            "9\n",
            "26\n",
            "11\n",
            "28\n",
            "12\n"
          ]
        }
      ]
    },
    {
      "cell_type": "markdown",
      "metadata": {
        "id": "8pF9PUybVPQ6"
      },
      "source": [
        "Se vogliamo sostituire una parte della data possiamo usare il metodo replace."
      ]
    },
    {
      "cell_type": "code",
      "metadata": {
        "id": "yNmrI7_AVPQ6",
        "outputId": "9a162eee-3a54-49d9-ec31-578d329b5e18"
      },
      "source": [
        "past = now.replace(year=2000, month=6, day=11) # modifichiamo la data al 11 Giugno 2000 ma teniamo lo stesso orario\n",
        "print(past)"
      ],
      "execution_count": null,
      "outputs": [
        {
          "name": "stdout",
          "output_type": "stream",
          "text": [
            "2000-06-11 11:28:12.762219\n"
          ]
        }
      ]
    },
    {
      "cell_type": "markdown",
      "metadata": {
        "id": "B8bYoQZgVPQ6"
      },
      "source": [
        "Possiamo eseguire operazioni sulle date, come aggiungere giorni o ore, utilizzando la classe *timedelta*."
      ]
    },
    {
      "cell_type": "code",
      "metadata": {
        "id": "adgxagLZVPQ6",
        "outputId": "d1694008-63ec-4313-de41-e320c5da9efd"
      },
      "source": [
        "tomorrow = now + datetime.timedelta(days=1)\n",
        "print(tomorrow)"
      ],
      "execution_count": null,
      "outputs": [
        {
          "name": "stdout",
          "output_type": "stream",
          "text": [
            "2019-09-27 11:28:12.762219\n"
          ]
        }
      ]
    },
    {
      "cell_type": "markdown",
      "metadata": {
        "id": "Sq7mP42tVPQ6"
      },
      "source": [
        "All stesso modo possiamo eseguire delle operazioni aritmetiche tra due date, il risultato sarà un'oggetto timedelta."
      ]
    },
    {
      "cell_type": "code",
      "metadata": {
        "id": "Ar6BYyCqVPQ7",
        "outputId": "0af9aab1-0cb2-44bf-909a-356d0a4a5252"
      },
      "source": [
        "tomorrow-now"
      ],
      "execution_count": null,
      "outputs": [
        {
          "data": {
            "text/plain": [
              "datetime.timedelta(days=1)"
            ]
          },
          "execution_count": 44,
          "metadata": {},
          "output_type": "execute_result"
        }
      ]
    },
    {
      "cell_type": "markdown",
      "metadata": {
        "id": "xTp1nDr5VPQ7"
      },
      "source": [
        "Spesso può essere necessario dover convertire una stringa in una data utilizzando un pattern specifico, possiamo farlo utilizzando la funzione *strptime*, passando come prima parametro la stringa con la data e come secondo parametro il pattern da utilizzare per eseguire il parsing."
      ]
    },
    {
      "cell_type": "code",
      "metadata": {
        "scrolled": true,
        "id": "ZWHQE6BAVPQ7",
        "outputId": "f4e99859-6b84-49bf-a77d-0115565c754a"
      },
      "source": [
        "date_str = \"11/06/91 12:30:00\"\n",
        "\n",
        "date_date = datetime.datetime.strptime(date_str, \"%m/%d/%y %H:%M:%S\")\n",
        "print(date_date)"
      ],
      "execution_count": null,
      "outputs": [
        {
          "name": "stdout",
          "output_type": "stream",
          "text": [
            "1991-11-06 12:30:00\n"
          ]
        }
      ]
    },
    {
      "cell_type": "markdown",
      "metadata": {
        "id": "7ovGikDxVPQ7"
      },
      "source": [
        "Possiamo anche eseguire il proceso inverso, cioè convertire una data in una stringa con un formato definito da noi."
      ]
    },
    {
      "cell_type": "code",
      "metadata": {
        "id": "-K24Nz9ZVPQ7",
        "outputId": "5786de28-202d-4549-f83c-ba000e8a3a5c"
      },
      "source": [
        "date_str = datetime.datetime.strftime(date_date, \"%m-%d-%Y %H.%M.%S\")\n",
        "print(date_str)"
      ],
      "execution_count": null,
      "outputs": [
        {
          "name": "stdout",
          "output_type": "stream",
          "text": [
            "11-06-1991 12.30.00\n"
          ]
        }
      ]
    },
    {
      "cell_type": "markdown",
      "metadata": {
        "id": "B5g-51c-VPQ7"
      },
      "source": [
        "## Il Modulo Math\n",
        "Python è un linguaggio fantstico per il calcolo scinetifico e il [modulo math](https://docs.python.org/3/library/math.html) ci mette a disposizione un'enorme numero di funzioni matematiche."
      ]
    },
    {
      "cell_type": "code",
      "metadata": {
        "id": "RPxZXSQoVPQ7"
      },
      "source": [
        "import math"
      ],
      "execution_count": null,
      "outputs": []
    },
    {
      "cell_type": "code",
      "metadata": {
        "id": "QqgnwmWhVPQ7",
        "outputId": "b5cef5d5-3207-4650-df4a-2b57986c36d9"
      },
      "source": [
        "print(math.pow(10, 3)) # calcola 10 elevato 3\n",
        "print(math.exp(10)) # calcola 10 elevate e"
      ],
      "execution_count": null,
      "outputs": [
        {
          "name": "stdout",
          "output_type": "stream",
          "text": [
            "1000.0\n",
            "22026.465794806718\n"
          ]
        }
      ]
    },
    {
      "cell_type": "code",
      "metadata": {
        "id": "cr3xrzzgVPQ8",
        "outputId": "7d150631-19f9-4f7d-f72e-de886d302ca2"
      },
      "source": [
        "print(math.sqrt(25)) # calcola la radice quadrata di 25"
      ],
      "execution_count": null,
      "outputs": [
        {
          "name": "stdout",
          "output_type": "stream",
          "text": [
            "5.0\n"
          ]
        }
      ]
    },
    {
      "cell_type": "code",
      "metadata": {
        "id": "h2d9PtrqVPQ8",
        "outputId": "73a3d0a7-9608-49eb-9762-217b84ea63ba"
      },
      "source": [
        "print(math.log(10)) # calcola il logaritmo in base e\n",
        "print(math.log(100, 10)) # calcola il logaritmo in base 10"
      ],
      "execution_count": null,
      "outputs": [
        {
          "name": "stdout",
          "output_type": "stream",
          "text": [
            "2.302585092994046\n",
            "2.0\n"
          ]
        }
      ]
    },
    {
      "cell_type": "code",
      "metadata": {
        "id": "O6uTs6XzVPQ8",
        "outputId": "f18996c1-2b52-4da6-e602-6cb7755d954c"
      },
      "source": [
        "print(math.factorial(5)) # calcola il fattoriale"
      ],
      "execution_count": null,
      "outputs": [
        {
          "name": "stdout",
          "output_type": "stream",
          "text": [
            "120\n"
          ]
        }
      ]
    },
    {
      "cell_type": "code",
      "metadata": {
        "id": "pCV--7WcVPQ8",
        "outputId": "be5b9659-497f-4aa7-e910-5fd3c9a25479"
      },
      "source": [
        "print(math.fabs(-1)) # valore assoluto"
      ],
      "execution_count": null,
      "outputs": [
        {
          "name": "stdout",
          "output_type": "stream",
          "text": [
            "1.0\n"
          ]
        }
      ]
    },
    {
      "cell_type": "code",
      "metadata": {
        "id": "tq6_8CWAVPQ9",
        "outputId": "5ae7377d-dbcf-4da6-d1f8-e22f261d59ef"
      },
      "source": [
        "print(math.ceil(5.2)) # arrotonda per eccesso\n",
        "print(math.floor(5.2)) # arrotonda per difetto"
      ],
      "execution_count": null,
      "outputs": [
        {
          "name": "stdout",
          "output_type": "stream",
          "text": [
            "6\n",
            "5\n"
          ]
        }
      ]
    },
    {
      "cell_type": "markdown",
      "metadata": {
        "id": "mErLOn2GVPQ9"
      },
      "source": [
        "Il modulo math ci fornisce anche il valore di molte costanti matematiche fondamentali"
      ]
    },
    {
      "cell_type": "code",
      "metadata": {
        "id": "nYCLKTiDVPQ9",
        "outputId": "7bdac720-dc60-4dd9-effc-927af3f7a36d"
      },
      "source": [
        "print(math.pi) # pi greco\n",
        "print(math.e) # numero di eulero\n",
        "print(math.tau) # rapporto tra circonferenza e raggio\n",
        "print(math.inf) # infinito\n",
        "print(math.nan) # not a number"
      ],
      "execution_count": null,
      "outputs": [
        {
          "name": "stdout",
          "output_type": "stream",
          "text": [
            "3.141592653589793\n",
            "2.718281828459045\n",
            "6.283185307179586\n",
            "inf\n",
            "nan\n"
          ]
        }
      ]
    }
  ]
}