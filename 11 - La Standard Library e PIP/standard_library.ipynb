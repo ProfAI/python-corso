{
  "nbformat": 4,
  "nbformat_minor": 0,
  "metadata": {
    "kernelspec": {
      "display_name": "Python 3",
      "language": "python",
      "name": "python3"
    },
    "language_info": {
      "codemirror_mode": {
        "name": "ipython",
        "version": 3
      },
      "file_extension": ".py",
      "mimetype": "text/x-python",
      "name": "python",
      "nbconvert_exporter": "python",
      "pygments_lexer": "ipython3",
      "version": "3.7.4"
    },
    "colab": {
      "name": "standard_library.ipynb",
      "provenance": []
    }
  },
  "cells": [
    {
      "cell_type": "markdown",
      "metadata": {
        "id": "eLoK5gFmX_oc"
      },
      "source": [
        "# La Standard Library\n",
        "\n",
        "La [Standard Library](https://docs.python.org/3/library/) di Python mette a disposizione tutta una serie di moduli già realizzati per molti utilizzi differenti.\n",
        "<br>\n",
        "Vediamo i più importanti e quelli che ci serve conoscere per lavorare in ambito Machine Learning e Artificial Intelligence"
      ]
    },
    {
      "cell_type": "markdown",
      "metadata": {
        "id": "vrp-ecOvX_oi"
      },
      "source": [
        "## Il Modulo os\n",
        "Il [modulo os](https://docs.python.org/3/library/os.html) ci permette di utilizzare molte funzioni del nostro sistema operativo."
      ]
    },
    {
      "cell_type": "code",
      "metadata": {
        "id": "ieuSpgyyX_oj"
      },
      "source": [
        "import os"
      ],
      "execution_count": null,
      "outputs": []
    },
    {
      "cell_type": "markdown",
      "metadata": {
        "id": "lr7tJzPRX_ol"
      },
      "source": [
        "Possiamo utilizzare questo modulo per ottenere alcune informazioni utili, come nome utente e sistema operativo."
      ]
    },
    {
      "cell_type": "code",
      "metadata": {
        "id": "fEZDbLK9X_om",
        "outputId": "c5ffe6c9-19c7-4ceb-dcbb-b6470c703c48"
      },
      "source": [
        "print(os.name) # Stampiamo l'ID dell'OS\n",
        "print(os.getlogin()) # stampiamo il nome utente"
      ],
      "execution_count": null,
      "outputs": [
        {
          "name": "stdout",
          "output_type": "stream",
          "text": [
            "nt\n",
            "gfgul\n"
          ]
        }
      ]
    },
    {
      "cell_type": "markdown",
      "metadata": {
        "id": "sQaX4T3hX_on"
      },
      "source": [
        "Con la funzione *getcwd()* possiamo ottenere il percorso corrente."
      ]
    },
    {
      "cell_type": "code",
      "metadata": {
        "id": "4UkygS8HX_oo",
        "outputId": "90255814-b98f-4bff-b87e-7e0cb15eee3f"
      },
      "source": [
        "# otteniamo il path alla directory corrente\n",
        "cwd = os.getcwd()\n",
        "print(cwd)"
      ],
      "execution_count": null,
      "outputs": [
        {
          "name": "stdout",
          "output_type": "stream",
          "text": [
            "C:\\Users\\gfgul\\OneDrive\\Desktop\\professionai\\py4ai\\10 - La Standard Library e PIP\n"
          ]
        }
      ]
    },
    {
      "cell_type": "markdown",
      "metadata": {
        "id": "wSvVVMwxX_oq"
      },
      "source": [
        "Una funzione utile di questo modulo è *listdir*, che ci permette di elencare il contenuto di una directory."
      ]
    },
    {
      "cell_type": "code",
      "metadata": {
        "id": "3PVpX_HmX_or",
        "outputId": "9c2f938e-4676-4b5d-a9c3-c752c8639a83"
      },
      "source": [
        "os.listdir(\"poesie\")"
      ],
      "execution_count": null,
      "outputs": [
        {
          "data": {
            "text/plain": [
              "['.ipynb_checkpoints',\n",
              " 'bacio.txt',\n",
              " 'felicità.txt',\n",
              " 'il_più_bello_dei_mari.txt',\n",
              " 'sei_la_mia_schiavitu_sei_la_mia_liberta.txt',\n",
              " 'se_durassimo_in_eterno']"
            ]
          },
          "execution_count": 4,
          "metadata": {},
          "output_type": "execute_result"
        }
      ]
    },
    {
      "cell_type": "markdown",
      "metadata": {
        "id": "fCJD_FJ9X_os"
      },
      "source": [
        "Con la funzione *mkdir* possiamo invece creare una nuova directory"
      ]
    },
    {
      "cell_type": "code",
      "metadata": {
        "id": "PlZSRpJwX_ot",
        "outputId": "3651ad69-fa61-462e-a145-437370bca1db"
      },
      "source": [
        "os.mkdir(\"tmp\") # creiamo una nuova directory chiamata 'tmp'\n",
        "os.listdir(os.getcwd()) # stampiamo il contenuto della directory corrente"
      ],
      "execution_count": null,
      "outputs": [
        {
          "data": {
            "text/plain": [
              "['.ipynb_checkpoints', 'poesie', 'standard_library.ipynb', 'tmp']"
            ]
          },
          "execution_count": 11,
          "metadata": {},
          "output_type": "execute_result"
        }
      ]
    },
    {
      "cell_type": "markdown",
      "metadata": {
        "id": "NYW5pYO8X_ot"
      },
      "source": [
        "Possiamo rinominare un file o una directory con la funzione *rename*."
      ]
    },
    {
      "cell_type": "code",
      "metadata": {
        "id": "_hqLrfAIX_ou",
        "outputId": "53ee83cc-60b3-4546-943c-b07e03c74d8c"
      },
      "source": [
        "os.rename(\"tmp\",\"temp\") # rinominiuamo la directory da 'tmp' a 'temp'\n",
        "os.listdir(os.getcwd()) # stampiamo il contenuto della directory corrente"
      ],
      "execution_count": null,
      "outputs": [
        {
          "data": {
            "text/plain": [
              "['.ipynb_checkpoints', 'poesie', 'standard_library.ipynb', 'temp']"
            ]
          },
          "execution_count": 16,
          "metadata": {},
          "output_type": "execute_result"
        }
      ]
    },
    {
      "cell_type": "markdown",
      "metadata": {
        "id": "zT70lEtTX_ou"
      },
      "source": [
        "infine possiamo rimuovere un file o una directory rispettivamente con le funzioni *remove(file_path)* e *rmdir(path)*."
      ]
    },
    {
      "cell_type": "code",
      "metadata": {
        "id": "0FVw0bZkX_ov",
        "outputId": "d22a1670-b3a6-4b54-caae-f05e49c76368"
      },
      "source": [
        "#os.remove('tmp.txt') # così avremmo potuto rimuovere un file\n",
        "os.rmdir('temp') # rimuoviamo la directory 'temp'\n",
        "os.listdir(os.getcwd()) # stampiamo il contenuto della directory corrente"
      ],
      "execution_count": null,
      "outputs": [
        {
          "data": {
            "text/plain": [
              "['.ipynb_checkpoints', 'poesie', 'standard_library.ipynb']"
            ]
          },
          "execution_count": 17,
          "metadata": {},
          "output_type": "execute_result"
        }
      ]
    },
    {
      "cell_type": "markdown",
      "metadata": {
        "id": "1A1G2MljX_ov"
      },
      "source": [
        "## Il Modulo time\n",
        "Il [modulo time](https://docs.python.org/3/library/time.html), ci fornisce tutta una serie di funzioni legate al tempo. L'utilizzo principale che ci capiterà di farne è quello di cronometrare l'esecuzione del codice utilizzando la sua funzione time(). Ad esempio calcoliamo per 1000 volte la 100esima potenza di 2 e cronometriamo quanto tempo impiega."
      ]
    },
    {
      "cell_type": "code",
      "metadata": {
        "id": "lplyCym1X_ow",
        "outputId": "773b140c-383f-4849-fa49-dbef7dcf8317"
      },
      "source": [
        "from time import time\n",
        "n = 2\n",
        "pow = 100\n",
        "\n",
        "n_pow = n\n",
        "tick = time()\n",
        "\n",
        "for i in range(1000):\n",
        "    n_pow = n\n",
        "    for _ in range(pow):\n",
        "      n_pow*=n\n",
        "\n",
        "duration = time()-tick\n",
        "  \n",
        "print(\"La %d° potenza di %d è %d\" % (pow, n, n_pow))\n",
        "print(\"Tempo di esecuzione: %.10f secondi\" % duration)"
      ],
      "execution_count": null,
      "outputs": [
        {
          "name": "stdout",
          "output_type": "stream",
          "text": [
            "La 100° potenza di 2 è 2535301200456458802993406410752\n",
            "Tempo di esecuzione: 0.0139627457 secondi\n"
          ]
        }
      ]
    },
    {
      "cell_type": "markdown",
      "metadata": {
        "id": "ojDVM1cVX_ow"
      },
      "source": [
        "## Il Modulo datetime\n",
        "Se il modulo time ci permette di operare con il tempo, il [modulo datetime](https://docs.python.org/3/library/datetime.html) ci permette di operare con le date. Possiamo utilizzare il suo metodo .now() per ottenere la data l'ora attuale."
      ]
    },
    {
      "cell_type": "code",
      "metadata": {
        "id": "O4cNyT8IX_ow",
        "outputId": "ac2fe1f5-4d3d-449f-c366-f64f979b18ae"
      },
      "source": [
        "import datetime\n",
        "\n",
        "#il metodo now ci permette di ottenere data e ora correnti\n",
        "now = datetime.datetime.now()\n",
        "print(now, type(now))"
      ],
      "execution_count": null,
      "outputs": [
        {
          "name": "stdout",
          "output_type": "stream",
          "text": [
            "2019-09-26 11:28:12.762219 <class 'datetime.datetime'>\n"
          ]
        }
      ]
    },
    {
      "cell_type": "markdown",
      "metadata": {
        "id": "CrDUINnZX_ox"
      },
      "source": [
        "Possiamo stampare anche le singole componenti della dat"
      ]
    },
    {
      "cell_type": "code",
      "metadata": {
        "id": "9cRB7BdMX_oy",
        "outputId": "6e6c994e-0a3c-4d55-d548-1156626c1857"
      },
      "source": [
        "print(now.year)\n",
        "print(now.month)\n",
        "print(now.day)\n",
        "print(now.hour)\n",
        "print(now.minute)\n",
        "print(now.second)"
      ],
      "execution_count": null,
      "outputs": [
        {
          "name": "stdout",
          "output_type": "stream",
          "text": [
            "2019\n",
            "9\n",
            "26\n",
            "11\n",
            "28\n",
            "12\n"
          ]
        }
      ]
    },
    {
      "cell_type": "markdown",
      "metadata": {
        "id": "JWJVjXFIX_oy"
      },
      "source": [
        "Se vogliamo sostituire una parte della data possiamo usare il metodo replace."
      ]
    },
    {
      "cell_type": "code",
      "metadata": {
        "id": "PIv3A2TvX_oy",
        "outputId": "4fbd4a94-d240-4dcb-c2e1-b0696c4ec1e7"
      },
      "source": [
        "past = now.replace(year=2000, month=6, day=11) # modifichiamo la data al 11 Giugno 2000 ma teniamo lo stesso orario\n",
        "print(past)"
      ],
      "execution_count": null,
      "outputs": [
        {
          "name": "stdout",
          "output_type": "stream",
          "text": [
            "2000-06-11 11:28:12.762219\n"
          ]
        }
      ]
    },
    {
      "cell_type": "markdown",
      "metadata": {
        "id": "6Y1ZTm95X_oz"
      },
      "source": [
        "Possiamo eseguire operazioni sulle date, come aggiungere giorni o ore, utilizzando la classe *timedelta*."
      ]
    },
    {
      "cell_type": "code",
      "metadata": {
        "id": "efs_-KG5X_oz",
        "outputId": "5b7deba3-d9f6-4909-9a91-3c18c38c8966"
      },
      "source": [
        "tomorrow = now + datetime.timedelta(days=1)\n",
        "print(tomorrow)"
      ],
      "execution_count": null,
      "outputs": [
        {
          "name": "stdout",
          "output_type": "stream",
          "text": [
            "2019-09-27 11:28:12.762219\n"
          ]
        }
      ]
    },
    {
      "cell_type": "markdown",
      "metadata": {
        "id": "n2MgXpS2X_oz"
      },
      "source": [
        "All stesso modo possiamo eseguire delle operazioni aritmetiche tra due date, il risultato sarà un'oggetto timedelta."
      ]
    },
    {
      "cell_type": "code",
      "metadata": {
        "id": "Ab6SbQluX_o0",
        "outputId": "acdd424d-55f8-4212-bb49-914540d613e3"
      },
      "source": [
        "tomorrow-now"
      ],
      "execution_count": null,
      "outputs": [
        {
          "data": {
            "text/plain": [
              "datetime.timedelta(days=1)"
            ]
          },
          "execution_count": 44,
          "metadata": {},
          "output_type": "execute_result"
        }
      ]
    },
    {
      "cell_type": "markdown",
      "metadata": {
        "id": "Krk6FVkLX_o0"
      },
      "source": [
        "Spesso può essere necessario dover convertire una stringa in una data utilizzando un pattern specifico, possiamo farlo utilizzando la funzione *strptime*, passando come prima parametro la stringa con la data e come secondo parametro il pattern da utilizzare per eseguire il parsing."
      ]
    },
    {
      "cell_type": "code",
      "metadata": {
        "scrolled": true,
        "id": "NbZraXe8X_o1",
        "outputId": "e95acfbc-3a2a-48cd-877e-736573d6def8"
      },
      "source": [
        "date_str = \"11/06/91 12:30:00\"\n",
        "\n",
        "date_date = datetime.datetime.strptime(date_str, \"%m/%d/%y %H:%M:%S\")\n",
        "print(date_date)"
      ],
      "execution_count": null,
      "outputs": [
        {
          "name": "stdout",
          "output_type": "stream",
          "text": [
            "1991-11-06 12:30:00\n"
          ]
        }
      ]
    },
    {
      "cell_type": "markdown",
      "metadata": {
        "id": "WQo41KYoX_o1"
      },
      "source": [
        "Possiamo anche eseguire il proceso inverso, cioè convertire una data in una stringa con un formato definito da noi."
      ]
    },
    {
      "cell_type": "code",
      "metadata": {
        "id": "UIjeLsYFX_o1",
        "outputId": "463342c7-a24b-48b4-cb49-defa6126538c"
      },
      "source": [
        "date_str = datetime.datetime.strftime(date_date, \"%m-%d-%Y %H.%M.%S\")\n",
        "print(date_str)"
      ],
      "execution_count": null,
      "outputs": [
        {
          "name": "stdout",
          "output_type": "stream",
          "text": [
            "11-06-1991 12.30.00\n"
          ]
        }
      ]
    },
    {
      "cell_type": "markdown",
      "metadata": {
        "id": "yWRWezKdX_o1"
      },
      "source": [
        "## Il Modulo Math\n",
        "Python è un linguaggio fantstico per il calcolo scinetifico e il [modulo math](https://docs.python.org/3/library/math.html) ci mette a disposizione un'enorme numero di funzioni matematiche."
      ]
    },
    {
      "cell_type": "code",
      "metadata": {
        "id": "x5ddTa86X_o1"
      },
      "source": [
        "import math"
      ],
      "execution_count": null,
      "outputs": []
    },
    {
      "cell_type": "code",
      "metadata": {
        "id": "f6h5PDpwX_o2",
        "outputId": "aa0e50aa-c5b7-432a-9171-afaebff8f270"
      },
      "source": [
        "print(math.pow(10, 3)) # calcola 10 elevato 3\n",
        "print(math.exp(10)) # calcola 10 elevate e"
      ],
      "execution_count": null,
      "outputs": [
        {
          "name": "stdout",
          "output_type": "stream",
          "text": [
            "1000.0\n",
            "22026.465794806718\n"
          ]
        }
      ]
    },
    {
      "cell_type": "code",
      "metadata": {
        "id": "zfzjjXvXX_o2",
        "outputId": "aa7cffbd-6ffa-461c-8f6b-0d0b9dd74a09"
      },
      "source": [
        "print(math.sqrt(25)) # calcola la radice quadrata di 25"
      ],
      "execution_count": null,
      "outputs": [
        {
          "name": "stdout",
          "output_type": "stream",
          "text": [
            "5.0\n"
          ]
        }
      ]
    },
    {
      "cell_type": "code",
      "metadata": {
        "id": "CsT5jTUUX_o2",
        "outputId": "013a0021-31b3-454a-e1fd-4767b72aa2cb"
      },
      "source": [
        "print(math.log(10)) # calcola il logaritmo in base e\n",
        "print(math.log(100, 10)) # calcola il logaritmo in base 10"
      ],
      "execution_count": null,
      "outputs": [
        {
          "name": "stdout",
          "output_type": "stream",
          "text": [
            "2.302585092994046\n",
            "2.0\n"
          ]
        }
      ]
    },
    {
      "cell_type": "code",
      "metadata": {
        "id": "lVrDAnQjX_o2",
        "outputId": "9dc34ae0-684c-4677-a6b1-33b861639ac7"
      },
      "source": [
        "print(math.factorial(5)) # calcola il fattoriale"
      ],
      "execution_count": null,
      "outputs": [
        {
          "name": "stdout",
          "output_type": "stream",
          "text": [
            "120\n"
          ]
        }
      ]
    },
    {
      "cell_type": "code",
      "metadata": {
        "id": "wSlEpjOsX_o3",
        "outputId": "d93a78df-fe24-4633-d318-a81baef3edda"
      },
      "source": [
        "print(math.fabs(-1)) # valore assoluto"
      ],
      "execution_count": null,
      "outputs": [
        {
          "name": "stdout",
          "output_type": "stream",
          "text": [
            "1.0\n"
          ]
        }
      ]
    },
    {
      "cell_type": "code",
      "metadata": {
        "id": "8yDHpkJ5X_o3",
        "outputId": "ec8ed4a3-544b-470c-95cd-e397e88094b9"
      },
      "source": [
        "print(math.ceil(5.2)) # arrotonda per eccesso\n",
        "print(math.floor(5.2)) # arrotonda per difetto"
      ],
      "execution_count": null,
      "outputs": [
        {
          "name": "stdout",
          "output_type": "stream",
          "text": [
            "6\n",
            "5\n"
          ]
        }
      ]
    },
    {
      "cell_type": "markdown",
      "metadata": {
        "id": "S6-xOJZTX_o3"
      },
      "source": [
        "Il modulo math ci fornisce anche il valore di molte costanti matematiche fondamentali"
      ]
    },
    {
      "cell_type": "code",
      "metadata": {
        "id": "vrU96OadX_o3",
        "outputId": "0f75cff6-a183-49a4-e193-c8da15148e11"
      },
      "source": [
        "print(math.pi) # pi greco\n",
        "print(math.e) # numero di eulero\n",
        "print(math.tau) # rapporto tra circonferenza e raggio\n",
        "print(math.inf) # infinito\n",
        "print(math.nan) # not a number"
      ],
      "execution_count": null,
      "outputs": [
        {
          "name": "stdout",
          "output_type": "stream",
          "text": [
            "3.141592653589793\n",
            "2.718281828459045\n",
            "6.283185307179586\n",
            "inf\n",
            "nan\n"
          ]
        }
      ]
    }
  ]
}