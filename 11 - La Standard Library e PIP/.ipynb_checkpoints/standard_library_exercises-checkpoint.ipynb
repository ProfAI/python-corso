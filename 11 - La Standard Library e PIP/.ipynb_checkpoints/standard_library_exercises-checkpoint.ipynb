{
 "cells": [
  {
   "cell_type": "markdown",
   "metadata": {},
   "source": [
    "# Esercizi con i moduli della Standard Library"
   ]
  },
  {
   "cell_type": "markdown",
   "metadata": {},
   "source": [
    "## 1. Poesie su un file\n",
    "Leggi tutte le poesie dalla directory *poesie* e savale all'interno di un unico file chiamato *raccolta_poesie.txt che si dovrà trovare all'interno di una nuova directory chiamata *raccolta*. Prima di una poesia inserisci un contatore (es. POESIA 1). Guarda il file raccolta_poesie_esempio.txt per avere un'idea dell'output che devi ottenere.\n"
   ]
  },
  {
   "cell_type": "code",
   "execution_count": 13,
   "metadata": {},
   "outputs": [
    {
     "name": "stdout",
     "output_type": "stream",
     "text": [
      "bacio.txt\n",
      "felicità.txt\n",
      "il_più_bello_dei_mari.txt\n",
      "sei_la_mia_schiavitu_sei_la_mia_liberta.txt\n",
      "se_durassimo_in_eterno.txt\n"
     ]
    }
   ],
   "source": [
    "from os import listdir, mkdir\n",
    "\n",
    "PATH = \"poesie/\"\n",
    "NEW_PATH = PATH+\"raccolta/\"\n",
    "NEW_FILE = NEW_PATH+\"raccolta_poesie.txt\"\n",
    "\n",
    "mkdir(NEW_PATH)\n",
    "new_file = open(NEW_FILE, \"a\")\n",
    "\n",
    "i = 1\n",
    "\n",
    "for txt in listdir(PATH):\n",
    "    \n",
    "    if(not \".txt\" in txt):\n",
    "        continue\n",
    "    print(txt)\n",
    "    with open(PATH+txt) as file:\n",
    "        new_file.write(\"POESIA %d\\n\" % i)\n",
    "        new_file.write(file.read()+\"\\n\\n\")\n",
    "        i+=1\n",
    "    \n",
    "new_file.close()"
   ]
  },
  {
   "cell_type": "markdown",
   "metadata": {},
   "source": [
    "## 2. Quanto manca al tuo compleanno ?\n",
    "Inserisci in input la data del tuo compleanno in formato giorno/mese (es 11/06 per l'11 di Giugno). Scrivi un programma in grado di calcolare i giorni mancanti al tuo compleanno e stampa il risultato in output."
   ]
  },
  {
   "cell_type": "code",
   "execution_count": 34,
   "metadata": {},
   "outputs": [
    {
     "name": "stdout",
     "output_type": "stream",
     "text": [
      "Quando fai il compleanno ? [giorno/mese]: 11/06\n",
      "Mancano ancora 258 giorni al tuo compleanno\n"
     ]
    }
   ],
   "source": [
    "from datetime import datetime\n",
    "\n",
    "today = datetime.now()\n",
    "\n",
    "bday = input(\"Quando fai il compleanno ? [giorno/mese]: \")\n",
    "bday_date = datetime.strptime(bday, \"%d/%m\")\n",
    "\n",
    "bday_date = bday_date.replace(year=today.year+1)\n",
    "\n",
    "today = datetime.now()\n",
    "\n",
    "to_bday = bday_date-today\n",
    "print(\"Mancano ancora %d giorni al tuo compleanno\" % to_bday.days)"
   ]
  },
  {
   "cell_type": "markdown",
   "metadata": {},
   "source": [
    "## 3. Analisi di magazzino\n",
    "Apri il file shirts.csv e calcola le seguenti statistiche su di esso:\n",
    "1. Numero totale di prodotti presenti.\n",
    "2. Valore totale del magazzino (la somma del prezzo di tutti i prodotti.\n",
    "3. Prezzo medio dei prodotti\n",
    "4. Numero di prodotti per ogni colore\n",
    "5. Numero di prodotti per ogni taglia\n",
    "\n",
    "Salva le statistiche all'interno di un dizionario e stampalo su schermo.\n",
    "<br><br>\n",
    "**Esempio di output**<br>\n",
    "{'prodotti': 100, 'valore_totale': 1247.5, 'taglie': {'S': 24, 'M': 24, 'XL': 23, 'L': 25}, 'colori': {'bianco': 46, 'verde': 32, 'rosso': 19}, 'costo_medio': 12.47}"
   ]
  },
  {
   "cell_type": "code",
   "execution_count": 47,
   "metadata": {},
   "outputs": [
    {
     "name": "stdout",
     "output_type": "stream",
     "text": [
      "{'prodotti': 100, 'valore_totale': 1247.5, 'taglie': {'S': 24, 'M': 24, 'XL': 23, 'L': 25}, 'colori': {'bianco': 46, 'verde': 32, 'rosso': 19}, 'costo_medio': 12.47}\n"
     ]
    }
   ],
   "source": [
    "import csv\n",
    "\n",
    "stats = {\"prodotti\":0,\"valore_totale\":0, \"taglie\":{},\"colori\":{}}\n",
    "\n",
    "with open('shirts.csv') as csv_file:\n",
    "    \n",
    "    csv_reader = csv.DictReader(csv_file)\n",
    "    \n",
    "    for row in csv_reader:\n",
    "        \n",
    "        stats[\"prodotti\"]+=1\n",
    "        stats[\"valore_totale\"]+=float(row[\"prezzo\"])\n",
    "        \n",
    "        if(row[\"taglia\"] in stats[\"taglie\"]):\n",
    "            stats[\"taglie\"][row[\"taglia\"]]+=1\n",
    "        else:\n",
    "            stats[\"taglie\"][row[\"taglia\"]]=0\n",
    "            \n",
    "        if(row[\"colore\"] in stats[\"colori\"]):\n",
    "            stats[\"colori\"][row[\"colore\"]]+=1\n",
    "        else:\n",
    "            stats[\"colori\"][row[\"colore\"]]=0\n",
    "\n",
    "stats[\"valore_totale\"]=round(stats[\"valore_totale\"], 2)\n",
    "stats[\"costo_medio\"]=round(stats[\"valore_totale\"]/stats[\"prodotti\"], 2)\n",
    "print(stats)"
   ]
  },
  {
   "cell_type": "markdown",
   "metadata": {},
   "source": [
    "## 4. Equazioni per il Machine Learning\n",
    "Le funzioni di attivazione sono una parte fondamentale delle reti neurali artificiali, implementiamo le seguenti funzioni di attivazione usando ovunque è possibile il modulo math di Python.\n",
    "##### Sigmoide\n",
    "$ \\sigma(z) = \\frac{1}{1+e^{-z}} $\n",
    "##### Rectified Linear Unit (ReLU)\n",
    "$ g(z) = \\begin{Bmatrix}\n",
    "0 \\ \\ \\ se \\ \\ z < 0\n",
    "\\\\\n",
    "z \\ \\ \\ se \\ \\ z \\geq 0\n",
    "\\end{Bmatrix}\n",
    "$\n",
    "##### Tangente iperbolica\n",
    "$ \\tanh(z) = \\frac{1-e^{-2z}}{1+e^{-2z}} $\n",
    "<br><br>\n",
    "Per valutare la qualità di un qualsiasi modello di machine learning è necessario usare una funzione di costo, implementiamo la log loss utilizzando dove è possibile il modulo math di Python\n",
    "##### Log Loss\n",
    "$ \\text{J}(y, \\hat{y}) ) = -\\frac{1}{N}\\sum_{i=1}^N(y_i\\cdot log(a_i) + (1-y_i)\\cdot log(1-a_i) $\n"
   ]
  },
  {
   "cell_type": "code",
   "execution_count": 8,
   "metadata": {},
   "outputs": [
    {
     "name": "stdout",
     "output_type": "stream",
     "text": [
      "0.7310585786300049\n",
      "1\n",
      "0.7615941559557649\n",
      "0.32756747739115966\n"
     ]
    }
   ],
   "source": [
    "import math\n",
    "\n",
    "def sigmoid(z):\n",
    "    #return 1/(1+math.pow(math.e, -z))\n",
    "    return 1/(1+math.exp(-z))\n",
    "\n",
    "def relu(z):\n",
    "    return max(0, z)\n",
    "\n",
    "def tanh(z):\n",
    "    return (1-math.exp(-2*z))/(1+math.exp(-2*z))\n",
    "\n",
    "def log_loss(y,a):\n",
    "    \n",
    "    loss = 0\n",
    "    \n",
    "    for y_i, a_i in zip(y, a):\n",
    "        loss += y_i*math.log(a_i)+(1-y_i)*math.log(1-a_i)\n",
    "    \n",
    "    return -loss/len(y)\n",
    "    \n",
    "    \n",
    "print(sigmoid(1))\n",
    "print(relu(1))\n",
    "print(tanh(1))\n",
    "print(log_loss([1,0,1,1,0], [0.75, 0.4, 0.6, 0.8, 0.1]))"
   ]
  }
 ],
 "metadata": {
  "kernelspec": {
   "display_name": "base",
   "language": "python",
   "name": "base"
  },
  "language_info": {
   "codemirror_mode": {
    "name": "ipython",
    "version": 3
   },
   "file_extension": ".py",
   "mimetype": "text/x-python",
   "name": "python",
   "nbconvert_exporter": "python",
   "pygments_lexer": "ipython3",
   "version": "3.7.3"
  }
 },
 "nbformat": 4,
 "nbformat_minor": 2
}
