{
 "cells": [
  {
   "cell_type": "markdown",
   "metadata": {},
   "source": [
    "# La Standard Library\n",
    "\n",
    "La [Standard Library](https://docs.python.org/3/library/) di Python mette a disposizione tutta una serie di moduli già realizzati per molti utilizzi differenti.\n",
    "<br>\n",
    "Vediamo i più importanti e quelli che ci serve conoscere per lavorare in ambito Machine Learning e Artificial Intelligence"
   ]
  },
  {
   "cell_type": "markdown",
   "metadata": {},
   "source": [
    "## Il Modulo os\n",
    "Il [modulo os](https://docs.python.org/3/library/os.html) ci permette di utilizzare molte funzioni del nostro sistema operativo."
   ]
  },
  {
   "cell_type": "code",
   "execution_count": 1,
   "metadata": {},
   "outputs": [],
   "source": [
    "import os"
   ]
  },
  {
   "cell_type": "markdown",
   "metadata": {},
   "source": [
    "Possiamo utilizzare questo modulo per ottenere alcune informazioni utili, come nome utente e sistema operativo."
   ]
  },
  {
   "cell_type": "code",
   "execution_count": 14,
   "metadata": {},
   "outputs": [
    {
     "name": "stdout",
     "output_type": "stream",
     "text": [
      "nt\n",
      "gfgul\n"
     ]
    }
   ],
   "source": [
    "print(os.name) # Stampiamo l'ID dell'OS\n",
    "print(os.getlogin()) # stampiamo il nome utente"
   ]
  },
  {
   "cell_type": "markdown",
   "metadata": {},
   "source": [
    "Con la funzione *getcwd()* possiamo ottenere il percorso corrente."
   ]
  },
  {
   "cell_type": "code",
   "execution_count": 2,
   "metadata": {},
   "outputs": [
    {
     "name": "stdout",
     "output_type": "stream",
     "text": [
      "C:\\Users\\gfgul\\OneDrive\\Desktop\\professionai\\py4ai\\10 - La Standard Library e PIP\n"
     ]
    }
   ],
   "source": [
    "# otteniamo il path alla directory corrente\n",
    "cwd = os.getcwd()\n",
    "print(cwd)"
   ]
  },
  {
   "cell_type": "markdown",
   "metadata": {},
   "source": [
    "Una funzione utile di questo modulo è *listdir*, che ci permette di elencare il contenuto di una directory."
   ]
  },
  {
   "cell_type": "code",
   "execution_count": 4,
   "metadata": {},
   "outputs": [
    {
     "data": {
      "text/plain": [
       "['.ipynb_checkpoints',\n",
       " 'bacio.txt',\n",
       " 'felicità.txt',\n",
       " 'il_più_bello_dei_mari.txt',\n",
       " 'sei_la_mia_schiavitu_sei_la_mia_liberta.txt',\n",
       " 'se_durassimo_in_eterno']"
      ]
     },
     "execution_count": 4,
     "metadata": {},
     "output_type": "execute_result"
    }
   ],
   "source": [
    "os.listdir(\"poesie\")"
   ]
  },
  {
   "cell_type": "markdown",
   "metadata": {},
   "source": [
    "Con la funzione *mkdir* possiamo invece creare una nuova directory"
   ]
  },
  {
   "cell_type": "code",
   "execution_count": 11,
   "metadata": {},
   "outputs": [
    {
     "data": {
      "text/plain": [
       "['.ipynb_checkpoints', 'poesie', 'standard_library.ipynb', 'tmp']"
      ]
     },
     "execution_count": 11,
     "metadata": {},
     "output_type": "execute_result"
    }
   ],
   "source": [
    "os.mkdir(\"tmp\") # creiamo una nuova directory chiamata 'tmp'\n",
    "os.listdir(os.getcwd()) # stampiamo il contenuto della directory corrente"
   ]
  },
  {
   "cell_type": "markdown",
   "metadata": {},
   "source": [
    "Possiamo rinominare un file o una directory con la funzione *rename*."
   ]
  },
  {
   "cell_type": "code",
   "execution_count": 16,
   "metadata": {},
   "outputs": [
    {
     "data": {
      "text/plain": [
       "['.ipynb_checkpoints', 'poesie', 'standard_library.ipynb', 'temp']"
      ]
     },
     "execution_count": 16,
     "metadata": {},
     "output_type": "execute_result"
    }
   ],
   "source": [
    "os.rename(\"tmp\",\"temp\") # rinominiuamo la directory da 'tmp' a 'temp'\n",
    "os.listdir(os.getcwd()) # stampiamo il contenuto della directory corrente"
   ]
  },
  {
   "cell_type": "markdown",
   "metadata": {},
   "source": [
    "infine possiamo rimuovere un file o una directory rispettivamente con le funzioni *remove(file_path)* e *rmdir(path)*."
   ]
  },
  {
   "cell_type": "code",
   "execution_count": 17,
   "metadata": {},
   "outputs": [
    {
     "data": {
      "text/plain": [
       "['.ipynb_checkpoints', 'poesie', 'standard_library.ipynb']"
      ]
     },
     "execution_count": 17,
     "metadata": {},
     "output_type": "execute_result"
    }
   ],
   "source": [
    "#os.remove('tmp.txt') # così avremmo potuto rimuovere un file\n",
    "os.rmdir('temp') # rimuoviamo la directory 'temp'\n",
    "os.listdir(os.getcwd()) # stampiamo il contenuto della directory corrente"
   ]
  },
  {
   "cell_type": "markdown",
   "metadata": {},
   "source": [
    "## Il Modulo time\n",
    "Il [modulo time](https://docs.python.org/3/library/time.html), ci fornisce tutta una serie di funzioni legate al tempo. L'utilizzo principale che ci capiterà di farne è quello di cronometrare l'esecuzione del codice utilizzando la sua funzione time(). Ad esempio calcoliamo per 1000 volte la 100esima potenza di 2 e cronometriamo quanto tempo impiega."
   ]
  },
  {
   "cell_type": "code",
   "execution_count": 33,
   "metadata": {},
   "outputs": [
    {
     "name": "stdout",
     "output_type": "stream",
     "text": [
      "La 100° potenza di 2 è 2535301200456458802993406410752\n",
      "Tempo di esecuzione: 0.0139627457 secondi\n"
     ]
    }
   ],
   "source": [
    "from time import time\n",
    "n = 2\n",
    "pow = 100\n",
    "\n",
    "n_pow = n\n",
    "tick = time()\n",
    "\n",
    "for i in range(1000):\n",
    "    n_pow = n\n",
    "    for _ in range(pow):\n",
    "      n_pow*=n\n",
    "\n",
    "duration = time()-tick\n",
    "  \n",
    "print(\"La %d° potenza di %d è %d\" % (pow, n, n_pow))\n",
    "print(\"Tempo di esecuzione: %.10f secondi\" % duration)"
   ]
  },
  {
   "cell_type": "markdown",
   "metadata": {},
   "source": [
    "## Il Modulo datetime\n",
    "Se il modulo time ci permette di operare con il tempo, il [modulo datetime](https://docs.python.org/3/library/datetime.html) ci permette di operare con le date. Possiamo utilizzare il suo metodo .now() per ottenere la data l'ora attuale."
   ]
  },
  {
   "cell_type": "code",
   "execution_count": 35,
   "metadata": {},
   "outputs": [
    {
     "name": "stdout",
     "output_type": "stream",
     "text": [
      "2019-09-26 11:28:12.762219 <class 'datetime.datetime'>\n"
     ]
    }
   ],
   "source": [
    "import datetime\n",
    "\n",
    "#il metodo now ci permette di ottenere data e ora correnti\n",
    "now = datetime.datetime.now()\n",
    "print(now, type(now))"
   ]
  },
  {
   "cell_type": "markdown",
   "metadata": {},
   "source": [
    "Possiamo stampare anche le singole componenti della dat"
   ]
  },
  {
   "cell_type": "code",
   "execution_count": 97,
   "metadata": {},
   "outputs": [
    {
     "name": "stdout",
     "output_type": "stream",
     "text": [
      "2019\n",
      "9\n",
      "26\n",
      "11\n",
      "28\n",
      "12\n"
     ]
    }
   ],
   "source": [
    "print(now.year)\n",
    "print(now.month)\n",
    "print(now.day)\n",
    "print(now.hour)\n",
    "print(now.minute)\n",
    "print(now.second)"
   ]
  },
  {
   "cell_type": "markdown",
   "metadata": {},
   "source": [
    "Se vogliamo sostituire una parte della data possiamo usare il metodo replace."
   ]
  },
  {
   "cell_type": "code",
   "execution_count": 102,
   "metadata": {},
   "outputs": [
    {
     "name": "stdout",
     "output_type": "stream",
     "text": [
      "2000-06-11 11:28:12.762219\n"
     ]
    }
   ],
   "source": [
    "past = now.replace(year=2000, month=6, day=11) # modifichiamo la data al 11 Giugno 2000 ma teniamo lo stesso orario\n",
    "print(past)"
   ]
  },
  {
   "cell_type": "markdown",
   "metadata": {},
   "source": [
    "Possiamo eseguire operazioni sulle date, come aggiungere giorni o ore, utilizzando la classe *timedelta*."
   ]
  },
  {
   "cell_type": "code",
   "execution_count": 40,
   "metadata": {},
   "outputs": [
    {
     "name": "stdout",
     "output_type": "stream",
     "text": [
      "2019-09-27 11:28:12.762219\n"
     ]
    }
   ],
   "source": [
    "tomorrow = now + datetime.timedelta(days=1)\n",
    "print(tomorrow)"
   ]
  },
  {
   "cell_type": "markdown",
   "metadata": {},
   "source": [
    "All stesso modo possiamo eseguire delle operazioni aritmetiche tra due date, il risultato sarà un'oggetto timedelta."
   ]
  },
  {
   "cell_type": "code",
   "execution_count": 44,
   "metadata": {},
   "outputs": [
    {
     "data": {
      "text/plain": [
       "datetime.timedelta(days=1)"
      ]
     },
     "execution_count": 44,
     "metadata": {},
     "output_type": "execute_result"
    }
   ],
   "source": [
    "tomorrow-now"
   ]
  },
  {
   "cell_type": "markdown",
   "metadata": {},
   "source": [
    "Spesso può essere necessario dover convertire una stringa in una data utilizzando un pattern specifico, possiamo farlo utilizzando la funzione *strptime*, passando come prima parametro la stringa con la data e come secondo parametro il pattern da utilizzare per eseguire il parsing."
   ]
  },
  {
   "cell_type": "code",
   "execution_count": 56,
   "metadata": {
    "scrolled": true
   },
   "outputs": [
    {
     "name": "stdout",
     "output_type": "stream",
     "text": [
      "1991-11-06 12:30:00\n"
     ]
    }
   ],
   "source": [
    "date_str = \"11/06/91 12:30:00\"\n",
    "\n",
    "date_date = datetime.datetime.strptime(date_str, \"%m/%d/%y %H:%M:%S\")\n",
    "print(date_date)"
   ]
  },
  {
   "cell_type": "markdown",
   "metadata": {},
   "source": [
    "Possiamo anche eseguire il proceso inverso, cioè convertire una data in una stringa con un formato definito da noi."
   ]
  },
  {
   "cell_type": "code",
   "execution_count": 55,
   "metadata": {},
   "outputs": [
    {
     "name": "stdout",
     "output_type": "stream",
     "text": [
      "11-06-1991 12.30.00\n"
     ]
    }
   ],
   "source": [
    "date_str = datetime.datetime.strftime(date_date, \"%m-%d-%Y %H.%M.%S\")\n",
    "print(date_str)"
   ]
  },
  {
   "cell_type": "markdown",
   "metadata": {},
   "source": [
    "## Il Modulo Math\n",
    "Python è un linguaggio fantstico per il calcolo scinetifico e il [modulo math](https://docs.python.org/3/library/math.html) ci mette a disposizione un'enorme numero di funzioni matematiche."
   ]
  },
  {
   "cell_type": "code",
   "execution_count": 74,
   "metadata": {},
   "outputs": [],
   "source": [
    "import math"
   ]
  },
  {
   "cell_type": "code",
   "execution_count": 76,
   "metadata": {},
   "outputs": [
    {
     "name": "stdout",
     "output_type": "stream",
     "text": [
      "1000.0\n",
      "22026.465794806718\n"
     ]
    }
   ],
   "source": [
    "print(math.pow(10, 3)) # calcola 10 elevato 3\n",
    "print(math.exp(10)) # calcola 10 elevate e"
   ]
  },
  {
   "cell_type": "code",
   "execution_count": 77,
   "metadata": {},
   "outputs": [
    {
     "name": "stdout",
     "output_type": "stream",
     "text": [
      "5.0\n"
     ]
    }
   ],
   "source": [
    "print(math.sqrt(25)) # calcola la radice quadrata di 25"
   ]
  },
  {
   "cell_type": "code",
   "execution_count": 70,
   "metadata": {},
   "outputs": [
    {
     "name": "stdout",
     "output_type": "stream",
     "text": [
      "2.302585092994046\n",
      "2.0\n"
     ]
    }
   ],
   "source": [
    "print(math.log(10)) # calcola il logaritmo in base e\n",
    "print(math.log(100, 10)) # calcola il logaritmo in base 10"
   ]
  },
  {
   "cell_type": "code",
   "execution_count": 71,
   "metadata": {},
   "outputs": [
    {
     "name": "stdout",
     "output_type": "stream",
     "text": [
      "120\n"
     ]
    }
   ],
   "source": [
    "print(math.factorial(5)) # calcola il fattoriale"
   ]
  },
  {
   "cell_type": "code",
   "execution_count": 72,
   "metadata": {},
   "outputs": [
    {
     "name": "stdout",
     "output_type": "stream",
     "text": [
      "1.0\n"
     ]
    }
   ],
   "source": [
    "print(math.fabs(-1)) # valore assoluto"
   ]
  },
  {
   "cell_type": "code",
   "execution_count": 73,
   "metadata": {},
   "outputs": [
    {
     "name": "stdout",
     "output_type": "stream",
     "text": [
      "6\n",
      "5\n"
     ]
    }
   ],
   "source": [
    "print(math.ceil(5.2)) # arrotonda per eccesso\n",
    "print(math.floor(5.2)) # arrotonda per difetto"
   ]
  },
  {
   "cell_type": "markdown",
   "metadata": {},
   "source": [
    "Il modulo math ci fornisce anche il valore di molte costanti matematiche fondamentali"
   ]
  },
  {
   "cell_type": "code",
   "execution_count": 78,
   "metadata": {},
   "outputs": [
    {
     "name": "stdout",
     "output_type": "stream",
     "text": [
      "3.141592653589793\n",
      "2.718281828459045\n",
      "6.283185307179586\n",
      "inf\n",
      "nan\n"
     ]
    }
   ],
   "source": [
    "print(math.pi) # pi greco\n",
    "print(math.e) # numero di eulero\n",
    "print(math.tau) # rapporto tra circonferenza e raggio\n",
    "print(math.inf) # infinito\n",
    "print(math.nan) # not a number"
   ]
  },
  {
   "cell_type": "markdown",
   "metadata": {},
   "source": [
    "## Il Modulo CSV\n",
    "Il [modulo CSV](https://docs.python.org/3/library/csv.html) permette di operare su file csv in Python. Possiamo aprire un file csv passando il file alla classe DictReader."
   ]
  },
  {
   "cell_type": "code",
   "execution_count": 94,
   "metadata": {},
   "outputs": [
    {
     "name": "stdout",
     "output_type": "stream",
     "text": [
      "['', 'taglia', 'colore', 'prezzo']\n"
     ]
    }
   ],
   "source": [
    "import csv\n",
    "\n",
    "with open('shirts.csv') as csv_file:\n",
    "    csv_reader = csv.DictReader(csv_file)\n",
    "    print(csv_reader.fieldnames) # stampiamo i nomi delle colonne"
   ]
  },
  {
   "cell_type": "markdown",
   "metadata": {},
   "source": [
    "Possiamo iterare sulle varie colonne del file, ogni colonna sarà un dizionario."
   ]
  },
  {
   "cell_type": "code",
   "execution_count": 95,
   "metadata": {},
   "outputs": [
    {
     "name": "stdout",
     "output_type": "stream",
     "text": [
      "taglia\tcolore\tprezzo\t\n",
      "S\tbianco\t4.99\t\n",
      "M\tbianco\t19.99\t\n",
      "XL\tbianco\t12.49\t\n",
      "XL\tbianco\t14.99\t\n",
      "S\tbianco\t14.99\t\n",
      "S\tverde\t7.99\t\n",
      "M\tverde\t4.99\t\n",
      "L\tverde\t12.49\t\n",
      "XL\tbianco\t12.49\t\n",
      "M\tverde\t19.99\t\n",
      "L\tbianco\t14.99\t\n",
      "XL\tbianco\t19.99\t\n",
      "M\tbianco\t4.99\t\n",
      "L\tbianco\t7.99\t\n",
      "M\tbianco\t14.99\t\n",
      "XL\trosso\t9.99\t\n",
      "S\trosso\t12.49\t\n",
      "L\tbianco\t7.99\t\n",
      "XL\tbianco\t4.99\t\n",
      "M\tverde\t14.99\t\n",
      "S\tverde\t14.99\t\n",
      "XL\tbianco\t7.99\t\n",
      "S\tverde\t9.99\t\n",
      "XL\tbianco\t14.99\t\n",
      "S\trosso\t14.99\t\n",
      "XL\tbianco\t9.99\t\n",
      "M\tverde\t7.99\t\n",
      "XL\tbianco\t4.99\t\n",
      "S\tverde\t14.99\t\n",
      "L\tbianco\t12.49\t\n",
      "M\trosso\t9.99\t\n",
      "L\tverde\t9.99\t\n",
      "XL\trosso\t7.99\t\n",
      "M\tbianco\t19.99\t\n",
      "L\tverde\t12.49\t\n",
      "L\tbianco\t12.49\t\n",
      "L\tbianco\t9.99\t\n",
      "XL\tbianco\t14.99\t\n",
      "L\tverde\t14.99\t\n",
      "XL\tverde\t9.99\t\n",
      "M\tbianco\t14.99\t\n",
      "L\tverde\t19.99\t\n",
      "XL\tverde\t7.99\t\n",
      "M\tverde\t19.99\t\n",
      "L\trosso\t19.99\t\n",
      "XL\tbianco\t9.99\t\n",
      "M\trosso\t12.49\t\n",
      "S\tbianco\t7.99\t\n",
      "S\trosso\t14.99\t\n",
      "S\tverde\t12.49\t\n",
      "XL\tbianco\t19.99\t\n",
      "S\tverde\t14.99\t\n",
      "S\tbianco\t19.99\t\n",
      "M\tverde\t9.99\t\n",
      "L\tverde\t4.99\t\n",
      "M\tverde\t12.49\t\n",
      "L\tbianco\t12.49\t\n",
      "S\tverde\t7.99\t\n",
      "S\tverde\t19.99\t\n",
      "L\tbianco\t9.99\t\n",
      "XL\trosso\t14.99\t\n",
      "M\tbianco\t12.49\t\n",
      "XL\tbianco\t14.99\t\n",
      "L\tbianco\t9.99\t\n",
      "XL\tverde\t14.99\t\n",
      "L\tbianco\t12.49\t\n",
      "XL\tbianco\t4.99\t\n",
      "L\tbianco\t14.99\t\n",
      "L\tverde\t9.99\t\n",
      "S\trosso\t14.99\t\n",
      "S\trosso\t19.99\t\n",
      "XL\trosso\t14.99\t\n",
      "S\tbianco\t9.99\t\n",
      "S\trosso\t14.99\t\n",
      "L\tbianco\t9.99\t\n",
      "XL\tbianco\t9.99\t\n",
      "L\tverde\t19.99\t\n",
      "XL\tbianco\t19.99\t\n",
      "M\tbianco\t4.99\t\n",
      "M\tbianco\t9.99\t\n",
      "S\tbianco\t14.99\t\n",
      "L\tbianco\t19.99\t\n",
      "S\tverde\t7.99\t\n",
      "XL\tverde\t9.99\t\n",
      "M\tbianco\t12.49\t\n",
      "L\tverde\t4.99\t\n",
      "M\tbianco\t7.99\t\n",
      "M\trosso\t14.99\t\n",
      "S\trosso\t9.99\t\n",
      "M\tverde\t4.99\t\n",
      "M\tbianco\t12.49\t\n",
      "M\trosso\t14.99\t\n",
      "L\tverde\t19.99\t\n",
      "M\trosso\t7.99\t\n",
      "S\tverde\t4.99\t\n",
      "L\tbianco\t9.99\t\n",
      "M\tverde\t14.99\t\n",
      "S\trosso\t12.49\t\n",
      "L\trosso\t12.49\t\n",
      "S\trosso\t19.99\t\n"
     ]
    }
   ],
   "source": [
    "import csv\n",
    "\n",
    "with open('shirts.csv') as csv_file:\n",
    "    csv_reader = csv.DictReader(csv_file)\n",
    "    print(\"%s\\t%s\\t%s\\t\" % tuple(csv_reader.fieldnames[1:]))\n",
    "    for row in csv_reader:\n",
    "        print(\"%s\\t%s\\t%s\\t\" % (row['taglia'], row[\"colore\"], row[\"prezzo\"]))"
   ]
  }
 ],
 "metadata": {
  "kernelspec": {
   "display_name": "Python 3",
   "language": "python",
   "name": "python3"
  },
  "language_info": {
   "codemirror_mode": {
    "name": "ipython",
    "version": 3
   },
   "file_extension": ".py",
   "mimetype": "text/x-python",
   "name": "python",
   "nbconvert_exporter": "python",
   "pygments_lexer": "ipython3",
   "version": "3.7.4"
  }
 },
 "nbformat": 4,
 "nbformat_minor": 2
}
