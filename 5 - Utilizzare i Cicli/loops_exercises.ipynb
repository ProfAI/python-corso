{
 "cells": [
  {
   "cell_type": "markdown",
   "metadata": {
    "colab_type": "text",
    "id": "view-in-github"
   },
   "source": [
    "<a href=\"https://colab.research.google.com/github/ProfAI/py4ai/blob/master/4%20-%20Utilizzare%20i%20Cicli/loops_exercises.ipynb\" target=\"_parent\"><img src=\"https://colab.research.google.com/assets/colab-badge.svg\" alt=\"Open In Colab\"/></a>"
   ]
  },
  {
   "cell_type": "markdown",
   "metadata": {
    "colab_type": "text",
    "id": "87UN_ZnodhwZ"
   },
   "source": [
    "# Esercizi con i Cicli"
   ]
  },
  {
   "cell_type": "markdown",
   "metadata": {
    "colab_type": "text",
    "id": "jnX-HZnzdlaQ"
   },
   "source": [
    "## 1. Potenze [[Esercizio su HackerRank](https://www.hackerrank.com/challenges/python-loops/problem)]\n",
    "\n",
    "Leggi un intero *N* compreso tra 1 e 20 in input. Per tutti gli interi non negativi *i* < N stampa $i^2$."
   ]
  },
  {
   "cell_type": "code",
   "execution_count": 1,
   "metadata": {
    "colab": {
     "base_uri": "https://localhost:8080/",
     "height": 125
    },
    "colab_type": "code",
    "id": "fLDEVZVqdg1F",
    "outputId": "0ff92e7d-3450-4c1b-bf7f-647128a2f107"
   },
   "outputs": [
    {
     "name": "stdout",
     "output_type": "stream",
     "text": [
      "5\n",
      "0\n",
      "1\n",
      "4\n",
      "9\n",
      "16\n"
     ]
    }
   ],
   "source": [
    "n = int(input())\n",
    "\n",
    "for i in range(n):\n",
    "    print(i**2)"
   ]
  },
  {
   "cell_type": "markdown",
   "metadata": {
    "colab_type": "text",
    "id": "hYdC3tICopao"
   },
   "source": [
    "## 2. Secondo Arrivato [[Esercizio su HackerRank](https://www.hackerrank.com/challenges/find-second-maximum-number-in-a-list/problem)]\n",
    "Ricevi in input una lista con i punteggi dei partecipanti alla Giornata dello Sport Universitaria, trova il punteggio del secondo classificato."
   ]
  },
  {
   "cell_type": "code",
   "execution_count": 24,
   "metadata": {
    "colab": {
     "base_uri": "https://localhost:8080/",
     "height": 53
    },
    "colab_type": "code",
    "id": "zejk__gDo9Hh",
    "outputId": "1c941291-30b8-45aa-a81c-4d6c5eeab9e4"
   },
   "outputs": [
    {
     "name": "stdout",
     "output_type": "stream",
     "text": [
      "2 3 6 6 5\n",
      "5\n"
     ]
    }
   ],
   "source": [
    "arr = map(int, input().split())\n",
    "scores = set(arr)\n",
    "\n",
    "for i in scores:\n",
    "  larger = 0\n",
    "  for j in scores:\n",
    "    if(i<j):\n",
    "      larger+=1\n",
    "  if(larger==1):\n",
    "    break\n",
    "    \n",
    "print(i)"
   ]
  },
  {
   "cell_type": "markdown",
   "metadata": {
    "colab_type": "text",
    "id": "Ux9hbKPKiDq0"
   },
   "source": [
    "## 3. Registro [[Esercizio su HackerRank](https://www.hackerrank.com/challenges/finding-the-percentage/problem)]\n",
    "Hai a disposizione un record di *N* studenti. Ogni record contiene il nome dello studente e il suo voto in Matematica, Fisica e Chimica. I voti possono essere numeri con la virgola. Un utente inserisci un intero *N* seguito da il nome e i voti di N studenti. Il programma deve salvare i record in un dizionario. Allla fine l'utente inserirà il nome di uno studente, il programma dovrà dare il output la media dei voti di tale studiente arrotandata a due cifre dopo la virgola.\n",
    "<br><br>\n",
    "**ESEMPIO DI INPUT**\n",
    "<br>\n",
    "3<br>\n",
    "Krishna 67 68 69<br>\n",
    "Arjun 70 98 63<br>\n",
    "Malika 52 56 60<br>\n",
    "Malika<br>\n",
    "<br>\n",
    "**ESEMPIO DI OUTPUT**\n",
    "<br>\n",
    "56.00\n",
    "<br><br>\n",
    "**SUGGERIMENTO**\n",
    "Possiamo applicare una trasformazione a tutti gli elementi di una collezione utilizzando la funzione *map*, questa funzione ritorna un generatore, di cui parleremo più avanti, che possiamo riconvertire in una collezione."
   ]
  },
  {
   "cell_type": "code",
   "execution_count": 2,
   "metadata": {},
   "outputs": [
    {
     "name": "stdout",
     "output_type": "stream",
     "text": [
      "[1, 2, 3]\n"
     ]
    }
   ],
   "source": [
    "l = [1.5, 2.7 ,3.1]\n",
    "l = list(map(int, l))\n",
    "print(l)"
   ]
  },
  {
   "cell_type": "code",
   "execution_count": 20,
   "metadata": {
    "colab": {
     "base_uri": "https://localhost:8080/",
     "height": 89
    },
    "colab_type": "code",
    "id": "woOSWzz-jpGF",
    "outputId": "4d81fd12-f5d2-48f4-a10f-8b75b316bdc1"
   },
   "outputs": [
    {
     "name": "stdout",
     "output_type": "stream",
     "text": [
      "1\n",
      "Malika 52 56 60\n",
      "Malika\n",
      "56.00\n"
     ]
    }
   ],
   "source": [
    "n = int(input())\n",
    "student_marks = {}\n",
    "\n",
    "for _ in range(n):\n",
    "  record = input()\n",
    "  record = record.split()\n",
    "  name = record[0]\n",
    "  marks = list(map(float, record[1:]))\n",
    "  student_marks[name] = marks\n",
    "\n",
    "query_name = input()\n",
    "avg_mark = sum(student_marks[query_name])/len(student_marks[query_name])\n",
    "print(\"%.2f\" % avg_mark)"
   ]
  },
  {
   "cell_type": "markdown",
   "metadata": {
    "colab_type": "text",
    "id": "tfMPjZUMer-G"
   },
   "source": [
    "## 4. Palindromi\n",
    "Leggi una stringa in input all'interno di un loop. Se la stringa è uguale a \"stop\" interrompi il programma, altrimenti verifica se la stringa è un palindromo, in caso positivo stampa \"PAROLA è un palidromo\" inserendo la parola inserita in input al posto di PAROLA, altrimenti stampa \" PAROLA non è un palindromo\".\n",
    "<br><br>\n",
    "**SUGGERIMENTO**<br>\n",
    "Un palindromo è una parola che può essere letta allo stesso modo in entrambi i sensi (es. radar, osso, aerea)."
   ]
  },
  {
   "cell_type": "code",
   "execution_count": 9,
   "metadata": {
    "colab": {
     "base_uri": "https://localhost:8080/",
     "height": 179
    },
    "colab_type": "code",
    "id": "RuMD1oGIeYDA",
    "outputId": "e6342d82-95ae-4515-e58a-4c48919e6c95"
   },
   "outputs": [
    {
     "name": "stdout",
     "output_type": "stream",
     "text": [
      "ciao\n",
      "ciao non è un palindromo\n",
      "acca\n",
      "acca è un palindromo\n",
      "asta\n",
      "asta non è un palindromo\n",
      "sos\n",
      "sos è un palindromo\n",
      "stop\n"
     ]
    }
   ],
   "source": [
    "word = None\n",
    "\n",
    "while(True):\n",
    "\n",
    "  word = input()\n",
    "\n",
    "  if(word==\"stop\"):\n",
    "    break\n",
    "\n",
    "  word_len = len(word)\n",
    "  is_palindrome = True\n",
    "\n",
    "  for i in range(word_len):\n",
    "    j = word_len-i-1\n",
    "    if(word[i]!=word[j]):\n",
    "      is_palindrome = False\n",
    "      break\n",
    "\n",
    "  if(is_palindrome):\n",
    "    print(\"%s è un palindromo\" % word)\n",
    "  else:\n",
    "    print(\"%s non è un palindromo\" % word)  "
   ]
  }
 ],
 "metadata": {
  "colab": {
   "include_colab_link": true,
   "name": "loops_exercises.ipynb",
   "provenance": []
  },
  "kernelspec": {
   "display_name": "Python 3",
   "language": "python",
   "name": "python3"
  },
  "language_info": {
   "codemirror_mode": {
    "name": "ipython",
    "version": 3
   },
   "file_extension": ".py",
   "mimetype": "text/x-python",
   "name": "python",
   "nbconvert_exporter": "python",
   "pygments_lexer": "ipython3",
   "version": "3.7.4"
  }
 },
 "nbformat": 4,
 "nbformat_minor": 1
}
