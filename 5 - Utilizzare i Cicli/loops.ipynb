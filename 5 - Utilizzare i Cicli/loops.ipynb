{
  "nbformat": 4,
  "nbformat_minor": 0,
  "metadata": {
    "colab": {
      "name": "loops.ipynb",
      "provenance": [],
      "include_colab_link": true
    },
    "kernelspec": {
      "display_name": "Python 3",
      "language": "python",
      "name": "python3"
    },
    "language_info": {
      "codemirror_mode": {
        "name": "ipython",
        "version": 3
      },
      "file_extension": ".py",
      "mimetype": "text/x-python",
      "name": "python",
      "nbconvert_exporter": "python",
      "pygments_lexer": "ipython3",
      "version": "3.7.4"
    }
  },
  "cells": [
    {
      "cell_type": "markdown",
      "metadata": {
        "id": "view-in-github",
        "colab_type": "text"
      },
      "source": [
        "<a href=\"https://colab.research.google.com/github/ProfAI/py4ai/blob/master/5%20-%20Utilizzare%20i%20Cicli/loops.ipynb\" target=\"_parent\"><img src=\"https://colab.research.google.com/assets/colab-badge.svg\" alt=\"Open In Colab\"/></a>"
      ]
    },
    {
      "cell_type": "markdown",
      "metadata": {
        "colab_type": "text",
        "id": "KqY9nwbFFEV6"
      },
      "source": [
        "# I Cicli\n",
        "I cicli ci permettono di eseguire delle istruzioni in maniera ciclica. Python mette a disposizione due tipi di cicli: while e for."
      ]
    },
    {
      "cell_type": "markdown",
      "metadata": {
        "colab_type": "text",
        "id": "5mHug8-uH3uV"
      },
      "source": [
        "## il Ciclo WHILE\n",
        "Il ciclo while esegue un blocco di codice in maniera ciclica fin quando la condizione espressa al suo interno non è verificata."
      ]
    },
    {
      "cell_type": "code",
      "metadata": {
        "colab_type": "code",
        "id": "qH3Qs7RYIGV7",
        "outputId": "a3d55d1d-fc86-48f0-d2d4-184d324303a1",
        "colab": {
          "base_uri": "https://localhost:8080/",
          "height": 69
        }
      },
      "source": [
        "msg = \"\"\n",
        "\n",
        "# acquisiamo del testo\n",
        "# fino a quando non inseriamo 'esci'\n",
        "\n",
        "while(msg != \"esci\"):\n",
        "  msg = input(\"Giuseppe: \")"
      ],
      "execution_count": 0,
      "outputs": [
        {
          "output_type": "stream",
          "text": [
            "Giuseppe: ciao\n",
            "Giuseppe: come stai ?\n",
            "Giuseppe: esci\n"
          ],
          "name": "stdout"
        }
      ]
    },
    {
      "cell_type": "markdown",
      "metadata": {
        "id": "qSdd7fKqku30",
        "colab_type": "text"
      },
      "source": [
        "I cicli vengono spesso combinati con una variabile indice, che tiene traccia del numero di ciclo corrente."
      ]
    },
    {
      "cell_type": "code",
      "metadata": {
        "colab_type": "code",
        "id": "YK8oZJu2IuCh",
        "outputId": "f6d17788-4b0e-4858-a605-a132f70ffd6d",
        "colab": {
          "base_uri": "https://localhost:8080/",
          "height": 225
        }
      },
      "source": [
        "n = int(input(\"Fino a che numero vuoi stampare ? \"))\n",
        "i = 0 # il nostro contatore\n",
        "\n",
        "while i<=n:\n",
        "  print(i)\n",
        "  i+=1 # incrementiamo il contatore, equivale a i=i+1"
      ],
      "execution_count": 0,
      "outputs": [
        {
          "output_type": "stream",
          "text": [
            "Fino a che numero vuoi stampare ? 10\n",
            "0\n",
            "1\n",
            "2\n",
            "3\n",
            "4\n",
            "5\n",
            "6\n",
            "7\n",
            "8\n",
            "9\n",
            "10\n"
          ],
          "name": "stdout"
        }
      ]
    },
    {
      "cell_type": "markdown",
      "metadata": {
        "id": "N_cRD2zTku32",
        "colab_type": "text"
      },
      "source": [
        "Possiamo combinare un ciclo con delle istruzioni condizionali utilizzando lo statement if."
      ]
    },
    {
      "cell_type": "code",
      "metadata": {
        "colab_type": "code",
        "id": "EBtxMThvJCjZ",
        "outputId": "1112501b-9c32-4b6a-959f-e8bc89c8d61f",
        "colab": {
          "base_uri": "https://localhost:8080/",
          "height": 225
        }
      },
      "source": [
        "n = int(input(\"Fino a che numero vuoi stampare ? \"))\n",
        "i = 0\n",
        "\n",
        "while i<=n:\n",
        "  if(i%2):\n",
        "    print(\"%d è dispari\" % i)\n",
        "  else:\n",
        "    print(\"%d è pari\" % i)\n",
        "  i+=1"
      ],
      "execution_count": 0,
      "outputs": [
        {
          "output_type": "stream",
          "text": [
            "Fino a che numero vuoi stampare ? 10\n",
            "0 è pari\n",
            "1 è dispari\n",
            "2 è pari\n",
            "3 è dispari\n",
            "4 è pari\n",
            "5 è dispari\n",
            "6 è pari\n",
            "7 è dispari\n",
            "8 è pari\n",
            "9 è dispari\n",
            "10 è pari\n"
          ],
          "name": "stdout"
        }
      ]
    },
    {
      "cell_type": "markdown",
      "metadata": {
        "id": "oig9ksfcku35",
        "colab_type": "text"
      },
      "source": [
        "o l'espressione if."
      ]
    },
    {
      "cell_type": "code",
      "metadata": {
        "colab_type": "code",
        "id": "1jsfJSPHJg5J",
        "outputId": "10408972-564e-45b2-95ba-57a1d4e7f171",
        "colab": {
          "base_uri": "https://localhost:8080/",
          "height": 225
        }
      },
      "source": [
        "n = int(input(\"Fino a che numero vuoi stampare ? \"))\n",
        "i = 0\n",
        "\n",
        "while i<=n:\n",
        "  print(\"%d è %s\" % (i, \"dispari\" if i%2 else \"pari\"))  \n",
        "  i+=1"
      ],
      "execution_count": 0,
      "outputs": [
        {
          "output_type": "stream",
          "text": [
            "Fino a che numero vuoi stampare ? 10\n",
            "0 è pari\n",
            "1 è dispari\n",
            "2 è pari\n",
            "3 è dispari\n",
            "4 è pari\n",
            "5 è dispari\n",
            "6 è pari\n",
            "7 è dispari\n",
            "8 è pari\n",
            "9 è dispari\n",
            "10 è pari\n"
          ],
          "name": "stdout"
        }
      ]
    },
    {
      "cell_type": "markdown",
      "metadata": {
        "id": "o7FTlCcBku37",
        "colab_type": "text"
      },
      "source": [
        "L'utilizzo più popolare della variabile indice è quello di permetterci di accedere agli elementi di una collezione."
      ]
    },
    {
      "cell_type": "code",
      "metadata": {
        "id": "wN1zhH1nku38",
        "colab_type": "code",
        "colab": {},
        "outputId": "f3656cef-708a-434a-bc69-0f1dbfc9a280"
      },
      "source": [
        "shopping_list = [\"tofu\", \"latte di soia\", \"riso basmati\",\"yogurt greco\"]\n",
        "i = 0\n",
        "print(\"La mia lista della spesa:\")\n",
        "\n",
        "while i < (len(shopping_list)):\n",
        "    print(\"%d) %s\" % (i+1,shopping_list[i]))\n",
        "    i+=1"
      ],
      "execution_count": 0,
      "outputs": [
        {
          "output_type": "stream",
          "text": [
            "La mia lista della spesa:\n",
            "1) tofu\n",
            "2) latte di soia\n",
            "3) riso basmati\n",
            "4) yogurt greco\n"
          ],
          "name": "stdout"
        }
      ]
    },
    {
      "cell_type": "markdown",
      "metadata": {
        "colab_type": "text",
        "id": "0RacQlOiFG3r"
      },
      "source": [
        "## il Ciclo FOR\n",
        "Il ciclo fpr si differenzia dal ciclo while per il fatto che la variabile indice è gestita automaticamente."
      ]
    },
    {
      "cell_type": "code",
      "metadata": {
        "colab_type": "code",
        "id": "KEhvVZk6E3zv",
        "outputId": "1ce7d05e-a4c8-4b3e-d119-e959c6a9ba74",
        "colab": {
          "base_uri": "https://localhost:8080/",
          "height": 208
        }
      },
      "source": [
        "n = int(input(\"Fino a che numero vuoi stampare ? \"))\n",
        "i = 0\n",
        "\n",
        "for i in range(0, n):\n",
        "  print(\"%d è %s\" % (i, \"dispari\" if i%2 else \"pari\"))  "
      ],
      "execution_count": 0,
      "outputs": [
        {
          "output_type": "stream",
          "text": [
            "Fino a che numero vuoi stampare ? 10\n",
            "0 è pari\n",
            "1 è dispari\n",
            "2 è pari\n",
            "3 è dispari\n",
            "4 è pari\n",
            "5 è dispari\n",
            "6 è pari\n",
            "7 è dispari\n",
            "8 è pari\n",
            "9 è dispari\n"
          ],
          "name": "stdout"
        }
      ]
    },
    {
      "cell_type": "markdown",
      "metadata": {
        "id": "lrWMnWm6ku4A",
        "colab_type": "text"
      },
      "source": [
        "Anche in questo caso possiamo utilizzare l'indice per accedere agli elementi di una collezione."
      ]
    },
    {
      "cell_type": "code",
      "metadata": {
        "colab_type": "code",
        "id": "rh3HI5_mHr-y",
        "outputId": "fe690864-041c-45e4-d751-fec407ac704a",
        "colab": {
          "base_uri": "https://localhost:8080/",
          "height": 104
        }
      },
      "source": [
        "shopping_list = [\"tofu\", \"latte di soia\", \"riso basmati\",\"yogurt greco\"]\n",
        "\n",
        "print(\"La mia lista della spesa:\")\n",
        "\n",
        "for i in range(len(shopping_list)):\n",
        "    print(\"%d) %s\" % (i+1,shopping_list[i]))"
      ],
      "execution_count": 0,
      "outputs": [
        {
          "output_type": "stream",
          "text": [
            "La mia lista della spesa:\n",
            "1) tofu\n",
            "2) latte di soia\n",
            "3) riso basmati\n",
            "4) yogurt greco\n"
          ],
          "name": "stdout"
        }
      ]
    },
    {
      "cell_type": "markdown",
      "metadata": {
        "id": "d73D2cAbku4C",
        "colab_type": "text"
      },
      "source": [
        "A differenza di molti altri linguaggi di programmazione, Python ci permette di iterare sugli elementi di una collezione direttamente."
      ]
    },
    {
      "cell_type": "code",
      "metadata": {
        "colab_type": "code",
        "id": "Gos4tiDJK4pr",
        "outputId": "5c086e62-4724-4f05-e860-9774e07287f4",
        "colab": {
          "base_uri": "https://localhost:8080/",
          "height": 104
        }
      },
      "source": [
        "shopping_list = [\"tofu\", \"latte di soia\", \"riso basmati\",\"yogurt greco\"]\n",
        "\n",
        "print(\"La mia lista della spesa:\")\n",
        "\n",
        "for entry in shopping_list:\n",
        "    print(\"-\"+entry)"
      ],
      "execution_count": 0,
      "outputs": [
        {
          "output_type": "stream",
          "text": [
            "La mia lista della spesa:\n",
            "-tofu\n",
            "-latte di soia\n",
            "-riso basmati\n",
            "-yogurt greco\n"
          ],
          "name": "stdout"
        }
      ]
    },
    {
      "cell_type": "markdown",
      "metadata": {
        "id": "QZI_XOpzku4E",
        "colab_type": "text"
      },
      "source": [
        "Spesso ci può capitare di avere bisogno sia dell'elemento che dell'indice, in questo caso possiamo utilizzare la funzione *enumerate*."
      ]
    },
    {
      "cell_type": "code",
      "metadata": {
        "colab_type": "code",
        "id": "c8c1vzk3K8LS",
        "outputId": "ee01cd4f-300a-47b3-df70-f00af409038b",
        "colab": {
          "base_uri": "https://localhost:8080/",
          "height": 104
        }
      },
      "source": [
        "shopping_list = [\"tofu\", \"latte di soia\", \"riso basmati\",\"yogurt greco\"]\n",
        "\n",
        "print(\"La mia lista della spesa:\")\n",
        "\n",
        "for i,entry in enumerate(shopping_list):\n",
        "    print(\"%d) %s\" % (i+1, entry))"
      ],
      "execution_count": 0,
      "outputs": [
        {
          "output_type": "stream",
          "text": [
            "La mia lista della spesa:\n",
            "1) tofu\n",
            "2) latte di soia\n",
            "3) riso basmati\n",
            "4) yogurt greco\n"
          ],
          "name": "stdout"
        }
      ]
    },
    {
      "cell_type": "markdown",
      "metadata": {
        "id": "o53fYAJjkxTL",
        "colab_type": "text"
      },
      "source": [
        "## BREAK e CONTINUE\n",
        "Utilizzando lo statement **break** possiamo interrompere l'esecuzione di un ciclo"
      ]
    },
    {
      "cell_type": "code",
      "metadata": {
        "id": "Jz_SQUmUlRz6",
        "colab_type": "code",
        "colab": {}
      },
      "source": [
        "shopping_list = [\"tofu\", \"riso basmati\", \"gelato di soia\", \"cereali integrali\", \"muesli al cioccolato\", \"yogurt greco\", \"latte di soia\",]"
      ],
      "execution_count": 0,
      "outputs": []
    },
    {
      "cell_type": "code",
      "metadata": {
        "id": "DCK96RSzk4Ta",
        "colab_type": "code",
        "colab": {
          "base_uri": "https://localhost:8080/",
          "height": 71
        },
        "outputId": "ca31eaf9-de35-4d49-d41c-8d418e2cb78f"
      },
      "source": [
        "print(\"La mia lista della spesa:\")\n",
        "\n",
        "for i,entry in enumerate(shopping_list):\n",
        "    if(\"soia\" in entry):\n",
        "      break\n",
        "\n",
        "    print(\"%d) %s\" % (i+1, entry))"
      ],
      "execution_count": 10,
      "outputs": [
        {
          "output_type": "stream",
          "text": [
            "La mia lista della spesa:\n",
            "1) tofu\n",
            "2) riso basmati\n"
          ],
          "name": "stdout"
        }
      ]
    },
    {
      "cell_type": "markdown",
      "metadata": {
        "id": "DzoyXPdTllPl",
        "colab_type": "text"
      },
      "source": [
        "Utilizzando lo statement **continue** verrà soltanto interrotta l'esecuzione corrente e il codice passerà alla successiva."
      ]
    },
    {
      "cell_type": "code",
      "metadata": {
        "id": "EEvKOgPblIPF",
        "colab_type": "code",
        "colab": {
          "base_uri": "https://localhost:8080/",
          "height": 126
        },
        "outputId": "6800b2b4-a24a-4115-bc50-e4657179506b"
      },
      "source": [
        "print(\"La mia lista della spesa:\")\n",
        "\n",
        "for i,entry in enumerate(shopping_list):\n",
        "    if(\"soia\" in entry):\n",
        "      continue\n",
        "\n",
        "    print(\"%d) %s\" % (i+1, entry))"
      ],
      "execution_count": 11,
      "outputs": [
        {
          "output_type": "stream",
          "text": [
            "La mia lista della spesa:\n",
            "1) tofu\n",
            "2) riso basmati\n",
            "4) cereali integrali\n",
            "5) muesli al cioccolato\n",
            "6) yogurt greco\n"
          ],
          "name": "stdout"
        }
      ]
    }
  ]
}