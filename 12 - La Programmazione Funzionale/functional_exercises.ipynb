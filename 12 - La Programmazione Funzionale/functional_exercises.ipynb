{
  "nbformat": 4,
  "nbformat_minor": 0,
  "metadata": {
    "colab": {
      "name": "functional_exercises",
      "provenance": [],
      "collapsed_sections": [],
      "authorship_tag": "ABX9TyOZq4MMkZDQGD+gqo1Rslfg",
      "include_colab_link": true
    },
    "kernelspec": {
      "name": "python3",
      "display_name": "Python 3"
    },
    "language_info": {
      "name": "python"
    }
  },
  "cells": [
    {
      "cell_type": "markdown",
      "metadata": {
        "id": "view-in-github",
        "colab_type": "text"
      },
      "source": [
        "<a href=\"https://colab.research.google.com/github/ProfAI/python-corso/blob/main/12%20-%20La%20Programmazione%20Funzionale/functional_exercises.ipynb\" target=\"_parent\"><img src=\"https://colab.research.google.com/assets/colab-badge.svg\" alt=\"Open In Colab\"/></a>"
      ]
    },
    {
      "cell_type": "markdown",
      "metadata": {
        "id": "ngtk-0fCbnSf"
      },
      "source": [
        "# Esercizi sulla Programmazione Funzionale\n",
        "\n",
        "## Fibonacci al cubo\n",
        "Per questo esercizio devi elevare al cubo le prime *n* cifre della sequenza di fibonacci, dove *n* è un valore inserito dall'utente, dopodiché devi filtrare solo i valori dispari.\n",
        "\n",
        "Prendi in input un numero *n*, poi utilizza la funzione *map* per elevare al cubo le *n* cifre della sequenza di fibonacci ritornate dalla tua funzione infine utilizza *filter* per filtrare solo i valori dispari.\n",
        "\n",
        "\n",
        "<br/>\n",
        "\n",
        "**ESEMPIO DI INPUT**<br/>\n",
        " 5<br/>\n",
        "**ESEMPIO DI OUTPUT**<br/>\n",
        " [0, 1, 1, 8, 27]<br/>\n",
        "<br/><br/>\n",
        "**SUGGERIMENTO**<br/>\n",
        "Per la funzione di fibonacci non ti conviene usare la ricorsione, piuttosto realizza una funzione che ritorna un generatore."
      ]
    },
    {
      "cell_type": "code",
      "metadata": {
        "id": "5Y0IMU5utsPB"
      },
      "source": [
        "def fibonacci(n):\n",
        "  # completa la funzione...\n",
        "\n",
        "n = int(input(\"Inserisci un numero: \"))\n",
        "fib_cube = # completa l'istruzione...\n",
        "fib_cube_odd = # completa l'istruzione..."
      ],
      "execution_count": null,
      "outputs": []
    },
    {
      "cell_type": "code",
      "metadata": {
        "colab": {
          "base_uri": "https://localhost:8080/"
        },
        "id": "_ulz5FXubgRB",
        "outputId": "101a1f72-58f8-4f09-fd8c-d29326bb58bc"
      },
      "source": [
        "def fibonacci(n):\n",
        "    a,b = 0,1\n",
        "    for _ in range(n):\n",
        "        yield a\n",
        "        a,b = b,a+b\n",
        "\n",
        "\n",
        "n = int(input(\"Inserisci un numero: \"))\n",
        "fib_cube = list(map(lambda x: x**3, list(fibonacci(n))))\n",
        "fib_cube_odd = list(filter(lambda x: x%2==1, fib_cube))\n",
        "print(fib_cube_odd)"
      ],
      "execution_count": 7,
      "outputs": [
        {
          "output_type": "stream",
          "name": "stdout",
          "text": [
            "Inserisci un numero: 5\n",
            "[1, 1, 27]\n"
          ]
        }
      ]
    }
  ]
}