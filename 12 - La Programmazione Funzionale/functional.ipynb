{
  "nbformat": 4,
  "nbformat_minor": 0,
  "metadata": {
    "colab": {
      "name": "functional.ipynb",
      "provenance": [],
      "collapsed_sections": [],
      "authorship_tag": "ABX9TyPz9k/US8mm8W16tjr0J4/L",
      "include_colab_link": true
    },
    "kernelspec": {
      "name": "python3",
      "display_name": "Python 3"
    },
    "language_info": {
      "name": "python"
    }
  },
  "cells": [
    {
      "cell_type": "markdown",
      "metadata": {
        "id": "view-in-github",
        "colab_type": "text"
      },
      "source": [
        "<a href=\"https://colab.research.google.com/github/ProfAI/python-corso/blob/main/12%20-%20La%20Programmazione%20Funzionale/functional.ipynb\" target=\"_parent\"><img src=\"https://colab.research.google.com/assets/colab-badge.svg\" alt=\"Open In Colab\"/></a>"
      ]
    },
    {
      "cell_type": "markdown",
      "metadata": {
        "id": "aCkqSZ2NGgvs"
      },
      "source": [
        "# La programmazione funzionale"
      ]
    },
    {
      "cell_type": "markdown",
      "metadata": {
        "id": "Hd9Yyav9Gl3Z"
      },
      "source": [
        "## La Ricorsione"
      ]
    },
    {
      "cell_type": "markdown",
      "metadata": {
        "id": "zmAuVP9fSdzy"
      },
      "source": [
        "### Countdown"
      ]
    },
    {
      "cell_type": "code",
      "metadata": {
        "colab": {
          "base_uri": "https://localhost:8080/"
        },
        "id": "knshS2xRSf-W",
        "outputId": "659301a9-e415-4000-a396-39874ef5d321"
      },
      "source": [
        "def countdown(n):\n",
        "  \n",
        "  if n<0:\n",
        "    return\n",
        "\n",
        "  print(n)\n",
        "  countdown(n-1)\n",
        "\n",
        "\n",
        "countdown(10)"
      ],
      "execution_count": 50,
      "outputs": [
        {
          "output_type": "stream",
          "name": "stdout",
          "text": [
            "10\n",
            "9\n",
            "8\n",
            "7\n",
            "6\n",
            "5\n",
            "4\n",
            "3\n",
            "2\n",
            "1\n",
            "0\n"
          ]
        }
      ]
    },
    {
      "cell_type": "markdown",
      "metadata": {
        "id": "kf83j4y4SbBk"
      },
      "source": [
        "### Sequenza di Fibonacci"
      ]
    },
    {
      "cell_type": "code",
      "metadata": {
        "colab": {
          "base_uri": "https://localhost:8080/"
        },
        "id": "wv8vUbpDMpWG",
        "outputId": "6a4f7cca-5b61-428f-c2fb-43f5f1d8e181"
      },
      "source": [
        "def fibonacci(n):\n",
        "  if n in [0,1]:\n",
        "    return 1\n",
        "  return fibonacci(n-1)+fibonacci(n-2)\n",
        "\n",
        "for i in range(10):\n",
        "  print(fibonacci(i))"
      ],
      "execution_count": 27,
      "outputs": [
        {
          "output_type": "stream",
          "name": "stdout",
          "text": [
            "1\n",
            "1\n",
            "2\n",
            "3\n",
            "5\n",
            "8\n",
            "13\n",
            "21\n",
            "34\n",
            "55\n"
          ]
        }
      ]
    },
    {
      "cell_type": "markdown",
      "metadata": {
        "id": "UVPyPiQpTl5-"
      },
      "source": [
        "## Iteratori e Generatori"
      ]
    },
    {
      "cell_type": "code",
      "metadata": {
        "colab": {
          "base_uri": "https://localhost:8080/"
        },
        "id": "gw8QI5sjGWRh",
        "outputId": "865e66e6-fd9b-498f-d487-520accd5c147"
      },
      "source": [
        "shopping_list = [\"latte di soia\", \"cereali integrali\", \"tofu\", \"seitan\"]\n",
        "shopping_list_iter = iter(shopping_list)\n",
        "print(shopping_list_iter)"
      ],
      "execution_count": 51,
      "outputs": [
        {
          "output_type": "stream",
          "name": "stdout",
          "text": [
            "<list_iterator object at 0x7f6af6ea4e90>\n"
          ]
        }
      ]
    },
    {
      "cell_type": "code",
      "metadata": {
        "colab": {
          "base_uri": "https://localhost:8080/"
        },
        "id": "pxBMSyEFT8q7",
        "outputId": "45fe59bb-f905-4dd4-e04a-e2ec8cbf17b9"
      },
      "source": [
        "print(next(shopping_list_iter))\n",
        "print(next(shopping_list_iter))\n",
        "print(next(shopping_list_iter))\n",
        "print(next(shopping_list_iter))"
      ],
      "execution_count": 52,
      "outputs": [
        {
          "output_type": "stream",
          "name": "stdout",
          "text": [
            "latte di soia\n",
            "cereali integrali\n",
            "tofu\n",
            "seitan\n"
          ]
        }
      ]
    },
    {
      "cell_type": "code",
      "metadata": {
        "colab": {
          "base_uri": "https://localhost:8080/"
        },
        "id": "N-PM0cYYUBlN",
        "outputId": "c88754bc-282c-4fcb-d6a2-0d08b0151f27"
      },
      "source": [
        "shopping_list_iter = iter(shopping_list)\n",
        "\n",
        "for item in shopping_list_iter:\n",
        "  print(\" - \"+item)"
      ],
      "execution_count": 53,
      "outputs": [
        {
          "output_type": "stream",
          "name": "stdout",
          "text": [
            " - latte di soia\n",
            " - cereali integrali\n",
            " - tofu\n",
            " - seitan\n"
          ]
        }
      ]
    },
    {
      "cell_type": "code",
      "metadata": {
        "colab": {
          "base_uri": "https://localhost:8080/"
        },
        "id": "E8ZJYRKqUI1B",
        "outputId": "5cabec1f-5822-4a5c-edb7-2eb15b7d75be"
      },
      "source": [
        "for item in shopping_list:\n",
        "  print(\" - \"+item)"
      ],
      "execution_count": 54,
      "outputs": [
        {
          "output_type": "stream",
          "name": "stdout",
          "text": [
            " - latte di soia\n",
            " - cereali integrali\n",
            " - tofu\n",
            " - seitan\n"
          ]
        }
      ]
    },
    {
      "cell_type": "code",
      "metadata": {
        "colab": {
          "base_uri": "https://localhost:8080/",
          "height": 351
        },
        "id": "UBwuv8ULVqFX",
        "outputId": "0b8bdcb5-6b83-4b17-8e16-8b3ba6959839"
      },
      "source": [
        "def factorial(n):\n",
        "      \n",
        "    # Initialize first two Fibonacci Numbers \n",
        "    a = 1\n",
        "  \n",
        "    # One by one yield next Fibonacci Number\n",
        "    for i in range(1,n):\n",
        "        yield a\n",
        "        a *= i\n",
        "\n",
        "fact = factorial(10)\n",
        "\n",
        "for _ in range(10):\n",
        "  print(next(fact))"
      ],
      "execution_count": 72,
      "outputs": [
        {
          "output_type": "stream",
          "name": "stdout",
          "text": [
            "1\n",
            "1\n",
            "2\n",
            "6\n",
            "24\n",
            "120\n",
            "720\n",
            "5040\n",
            "40320\n"
          ]
        },
        {
          "output_type": "error",
          "ename": "StopIteration",
          "evalue": "ignored",
          "traceback": [
            "\u001b[0;31m---------------------------------------------------------------------------\u001b[0m",
            "\u001b[0;31mStopIteration\u001b[0m                             Traceback (most recent call last)",
            "\u001b[0;32m<ipython-input-72-b47a4147774e>\u001b[0m in \u001b[0;36m<module>\u001b[0;34m()\u001b[0m\n\u001b[1;32m     12\u001b[0m \u001b[0;34m\u001b[0m\u001b[0m\n\u001b[1;32m     13\u001b[0m \u001b[0;32mfor\u001b[0m \u001b[0m_\u001b[0m \u001b[0;32min\u001b[0m \u001b[0mrange\u001b[0m\u001b[0;34m(\u001b[0m\u001b[0;36m10\u001b[0m\u001b[0;34m)\u001b[0m\u001b[0;34m:\u001b[0m\u001b[0;34m\u001b[0m\u001b[0;34m\u001b[0m\u001b[0m\n\u001b[0;32m---> 14\u001b[0;31m   \u001b[0mprint\u001b[0m\u001b[0;34m(\u001b[0m\u001b[0mnext\u001b[0m\u001b[0;34m(\u001b[0m\u001b[0mfact\u001b[0m\u001b[0;34m)\u001b[0m\u001b[0;34m)\u001b[0m\u001b[0;34m\u001b[0m\u001b[0;34m\u001b[0m\u001b[0m\n\u001b[0m",
            "\u001b[0;31mStopIteration\u001b[0m: "
          ]
        }
      ]
    },
    {
      "cell_type": "code",
      "metadata": {
        "colab": {
          "base_uri": "https://localhost:8080/"
        },
        "id": "JezsNp0VUMLu",
        "outputId": "bcef7581-09f0-407b-a64f-9588ecfd6289"
      },
      "source": [
        "def fibonacci(n):\n",
        "      \n",
        "    a, b = 0, 1\n",
        "\n",
        "    for _ in range(n):\n",
        "        yield a\n",
        "        a, b = b, a + b\n",
        "\n",
        "fib = fibonacci(5)\n",
        "\n",
        "for _ in range(5):\n",
        "  print(next(fib))"
      ],
      "execution_count": 67,
      "outputs": [
        {
          "output_type": "stream",
          "name": "stdout",
          "text": [
            "0\n",
            "1\n",
            "1\n",
            "2\n",
            "3\n"
          ]
        }
      ]
    },
    {
      "cell_type": "markdown",
      "metadata": {
        "id": "Ud3fPcclX-Y0"
      },
      "source": [
        "### Lambda, Map e Filter"
      ]
    },
    {
      "cell_type": "code",
      "metadata": {
        "colab": {
          "base_uri": "https://localhost:8080/"
        },
        "id": "i8K0lCl7WhvO",
        "outputId": "c2c925fa-bd59-4d92-d695-6ef5744d048d"
      },
      "source": [
        "def pow(x):\n",
        "  return x**2\n",
        "\n",
        "l = [1, 2, 3, 4, 5]\n",
        "l = map(pow, l)\n",
        "l"
      ],
      "execution_count": 74,
      "outputs": [
        {
          "output_type": "execute_result",
          "data": {
            "text/plain": [
              "<map at 0x7f6af6ed6090>"
            ]
          },
          "metadata": {},
          "execution_count": 74
        }
      ]
    },
    {
      "cell_type": "code",
      "metadata": {
        "colab": {
          "base_uri": "https://localhost:8080/"
        },
        "id": "WArdF8RAYSIu",
        "outputId": "51f7879d-cb82-4bf0-8594-d3df99edcb81"
      },
      "source": [
        "l = list(l)\n",
        "l"
      ],
      "execution_count": 75,
      "outputs": [
        {
          "output_type": "execute_result",
          "data": {
            "text/plain": [
              "[1, 4, 9, 16, 25]"
            ]
          },
          "metadata": {},
          "execution_count": 75
        }
      ]
    },
    {
      "cell_type": "code",
      "metadata": {
        "colab": {
          "base_uri": "https://localhost:8080/"
        },
        "id": "T2InHnlvYXBq",
        "outputId": "fdea0c96-3db6-4bb8-ea06-689385e83c9a"
      },
      "source": [
        "def even(x):\n",
        "  return x%2==0\n",
        "\n",
        "l = [1, 2, 3, 4, 5]\n",
        "l = filter(even, l)\n",
        "l"
      ],
      "execution_count": 78,
      "outputs": [
        {
          "output_type": "execute_result",
          "data": {
            "text/plain": [
              "<filter at 0x7f6af6eaa790>"
            ]
          },
          "metadata": {},
          "execution_count": 78
        }
      ]
    },
    {
      "cell_type": "code",
      "metadata": {
        "colab": {
          "base_uri": "https://localhost:8080/"
        },
        "id": "emdAwcBnY8Zz",
        "outputId": "1fd3cd03-3479-45f8-ca6a-8fc5a98d8ba9"
      },
      "source": [
        "l = list(l)\n",
        "l"
      ],
      "execution_count": 79,
      "outputs": [
        {
          "output_type": "execute_result",
          "data": {
            "text/plain": [
              "[2, 4]"
            ]
          },
          "metadata": {},
          "execution_count": 79
        }
      ]
    },
    {
      "cell_type": "code",
      "metadata": {
        "colab": {
          "base_uri": "https://localhost:8080/"
        },
        "id": "4V9iBWHSY_h1",
        "outputId": "7c139473-85ee-4ae4-bfb0-e3404313dfa6"
      },
      "source": [
        "l = [1, 2, 3, 4, 5]\n",
        "l = map(lambda x: x**2, l)\n",
        "l = list(l)\n",
        "l"
      ],
      "execution_count": 82,
      "outputs": [
        {
          "output_type": "execute_result",
          "data": {
            "text/plain": [
              "[1, 4, 9, 16, 25]"
            ]
          },
          "metadata": {},
          "execution_count": 82
        }
      ]
    },
    {
      "cell_type": "code",
      "metadata": {
        "colab": {
          "base_uri": "https://localhost:8080/"
        },
        "id": "1WF-E05TZHhj",
        "outputId": "75525be5-e7ec-4461-f2cd-f53faefaf08b"
      },
      "source": [
        "l = [1, 2, 3, 4, 5]\n",
        "l = filter(lambda x: x%2==0, l)\n",
        "l = list(l)\n",
        "l"
      ],
      "execution_count": 83,
      "outputs": [
        {
          "output_type": "execute_result",
          "data": {
            "text/plain": [
              "[2, 4]"
            ]
          },
          "metadata": {},
          "execution_count": 83
        }
      ]
    }
  ]
}