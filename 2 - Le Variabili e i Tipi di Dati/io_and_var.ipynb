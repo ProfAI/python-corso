{
 "cells": [
  {
   "cell_type": "markdown",
   "metadata": {
    "colab_type": "text",
    "id": "view-in-github"
   },
   "source": [
    "<a href=\"https://colab.research.google.com/github/ProfAI/py4ai/blob/master/2%20-%20Le%20Variabili%20e%20i%20Tipi%20di%20Dati/io_and_var.ipynb\" target=\"_parent\"><img src=\"https://colab.research.google.com/assets/colab-badge.svg\" alt=\"Open In Colab\"/></a>"
   ]
  },
  {
   "cell_type": "markdown",
   "metadata": {},
   "source": [
    "# Variabili, tipi di dati e funzioni di base"
   ]
  },
  {
   "cell_type": "markdown",
   "metadata": {
    "colab_type": "text",
    "id": "zdb9N2CeOdBd"
   },
   "source": [
    "## Input e Output"
   ]
  },
  {
   "cell_type": "markdown",
   "metadata": {
    "colab_type": "text",
    "id": "3FuWDdrmO_iD"
   },
   "source": [
    "Iniziamo dalle basi delle basi, input e output. Con Python possiamo stampare del testo su schermo utilizzando la funzione **print**."
   ]
  },
  {
   "cell_type": "code",
   "execution_count": 1,
   "metadata": {
    "colab": {
     "base_uri": "https://localhost:8080/",
     "height": 69
    },
    "colab_type": "code",
    "id": "OkE3NxA8NvSY",
    "outputId": "ed2a1e13-e387-40d3-9b35-c7a06fced8f5"
   },
   "outputs": [
    {
     "name": "stdout",
     "output_type": "stream",
     "text": [
      "Ciao mondo\n",
      "5\n",
      "0.5\n"
     ]
    }
   ],
   "source": [
    "print(\"Ciao mondo\") # stampiamo del testo\n",
    "print(5) # stampiamo un numero interop\n",
    "print(0.5) # stampiamo un numero con la virgola"
   ]
  },
  {
   "cell_type": "markdown",
   "metadata": {
    "colab_type": "text",
    "id": "rjIEClpfO1q8"
   },
   "source": [
    "Possiamo eseguire le operazioni di base tra dei valori numerici"
   ]
  },
  {
   "cell_type": "code",
   "execution_count": 0,
   "metadata": {
    "colab": {},
    "colab_type": "code",
    "id": "geHa-R08Odhs"
   },
   "outputs": [],
   "source": [
    "# somma\n",
    "print(5+3)\n",
    "\n",
    "# sottrazione\n",
    "print(4-1)\n",
    "\n",
    "# prodotto\n",
    "print(3*2)\n",
    "\n",
    "# divisione\n",
    "print(4/2)\n",
    "\n",
    "# resto\n",
    "print(5%2)\n",
    "\n",
    "# unire due stringhe\n",
    "print(\"5\"+\"2\")"
   ]
  },
  {
   "cell_type": "markdown",
   "metadata": {
    "colab_type": "text",
    "id": "LAx3DkPyPCTY"
   },
   "source": [
    "Per qacquisire delle informazioni in input da tastiera possiamo utilizzare la funzione **input**."
   ]
  },
  {
   "cell_type": "code",
   "execution_count": 0,
   "metadata": {
    "colab": {},
    "colab_type": "code",
    "id": "bD72KtaaO7-7"
   },
   "outputs": [],
   "source": [
    "name = input(\"Come ti chiami ? \")\n",
    "print(\"Felice di conoscerti\",name)"
   ]
  },
  {
   "cell_type": "markdown",
   "metadata": {
    "colab_type": "text",
    "id": "ZXC1-xtmPFAa"
   },
   "source": [
    "L'informazione immessa è stata immagazzinata all'interno della variabile *name*."
   ]
  },
  {
   "cell_type": "markdown",
   "metadata": {},
   "source": [
    "## Le Variabili\n",
    "Possiamo considerare le variabili come dei contenitori in grado di contenere diversi tipi di informazioni, il contenuto può essere modificato o rimpiazzato in ogni momento."
   ]
  },
  {
   "cell_type": "code",
   "execution_count": 2,
   "metadata": {
    "colab": {
     "base_uri": "https://localhost:8080/",
     "height": 35
    },
    "colab_type": "code",
    "id": "8ga4yreoPFzu",
    "outputId": "008275e5-4fb2-424b-f1ee-b7fd7100a3fe"
   },
   "outputs": [
    {
     "name": "stdout",
     "output_type": "stream",
     "text": [
      "5\n"
     ]
    }
   ],
   "source": [
    "num = 5\n",
    "print(num)"
   ]
  },
  {
   "cell_type": "code",
   "execution_count": 3,
   "metadata": {
    "colab": {
     "base_uri": "https://localhost:8080/",
     "height": 35
    },
    "colab_type": "code",
    "id": "HZeOfay2PIS4",
    "outputId": "fdc59ec1-d1e3-419f-c7e1-72e20582b27a"
   },
   "outputs": [
    {
     "name": "stdout",
     "output_type": "stream",
     "text": [
      "ciao\n"
     ]
    }
   ],
   "source": [
    "word = \"ciao\"\n",
    "print(word)"
   ]
  },
  {
   "cell_type": "code",
   "execution_count": 4,
   "metadata": {
    "colab": {
     "base_uri": "https://localhost:8080/",
     "height": 52
    },
    "colab_type": "code",
    "id": "wXwOhHtfPMi_",
    "outputId": "99770e37-0341-41b5-c9d7-1bf20e98858a"
   },
   "outputs": [
    {
     "name": "stdout",
     "output_type": "stream",
     "text": [
      "Inserisci un nome per il tuo nuovo gatto: elon\n",
      "elon  è il tuo nuovo padrone\n"
     ]
    }
   ],
   "source": [
    "cat = input(\"Inserisci un nome per il tuo nuovo gatto: \")\n",
    "print(cat,\"è il tuo nuovo padrone\")"
   ]
  },
  {
   "cell_type": "markdown",
   "metadata": {
    "colab_type": "text",
    "id": "JSjT7ja8PXAO"
   },
   "source": [
    "## Tipi di Dati\n",
    "Python include moltissimi tipi di dati differenti, i principali sono:\n",
    " * **Interi**: numeri interi (es: 5, 10,  123)\n",
    " * **Float**: numeri in virgola mobile (es: 4.34, 5.31, 0.17)\n",
    " * **Stringhe**: del testo (es: \"ciao\", \"abc\", \"Yo, come butta fratello ?\")\n",
    " * **Booleani**: possono avere solo due valori vero/falso (True/False)"
   ]
  },
  {
   "cell_type": "code",
   "execution_count": 5,
   "metadata": {
    "colab": {
     "base_uri": "https://localhost:8080/",
     "height": 35
    },
    "colab_type": "code",
    "id": "QqdYtt7GPR4M",
    "outputId": "945ed75b-3908-4925-c0ca-c4b81e59280b"
   },
   "outputs": [
    {
     "data": {
      "text/plain": [
       "str"
      ]
     },
     "execution_count": 5,
     "metadata": {
      "tags": []
     },
     "output_type": "execute_result"
    }
   ],
   "source": [
    "var = \"ciao\"\n",
    "type(var)"
   ]
  },
  {
   "cell_type": "markdown",
   "metadata": {},
   "source": [
    "Python è un linguaggio **non tipizzato**, questo vuol dire che non serve definire a priori il tipo di dato che una variabile dovrà contenere, ma anzi è anche possibile riassegnare una stessa variabile ad un nuovo tipo di dato."
   ]
  },
  {
   "cell_type": "code",
   "execution_count": 7,
   "metadata": {
    "colab": {
     "base_uri": "https://localhost:8080/",
     "height": 35
    },
    "colab_type": "code",
    "id": "g5ytkE8uPcEt",
    "outputId": "93b3a712-ea44-4ae9-e522-148a0b1e96bb"
   },
   "outputs": [
    {
     "data": {
      "text/plain": [
       "bool"
      ]
     },
     "execution_count": 7,
     "metadata": {
      "tags": []
     },
     "output_type": "execute_result"
    }
   ],
   "source": [
    "var = 5 # Intero\n",
    "var = 4.15 # Float\n",
    "var = \"ciao ciao\" # Stringa\n",
    "var = True # Boolean\n",
    "\n",
    "type(var)"
   ]
  },
  {
   "cell_type": "markdown",
   "metadata": {},
   "source": [
    "## Casting\n",
    "Il casting è un'operazione che consiste nel convertire un tipo di dato in un'altro, in Python può essere eseguito con un'operazione del tipo *datatype(var)*."
   ]
  },
  {
   "cell_type": "markdown",
   "metadata": {},
   "source": [
    "#### ES. 1: Casting da intero a float"
   ]
  },
  {
   "cell_type": "code",
   "execution_count": 10,
   "metadata": {
    "colab": {
     "base_uri": "https://localhost:8080/",
     "height": 35
    },
    "colab_type": "code",
    "id": "s4NqmKXRPfYH",
    "outputId": "2ba26107-67ba-4d3a-dd9e-bfd99c388845"
   },
   "outputs": [
    {
     "name": "stdout",
     "output_type": "stream",
     "text": [
      "1.0 <class 'float'>\n"
     ]
    }
   ],
   "source": [
    "var = 1 # intero\n",
    "var = float(var) # da intero a float\n",
    "print(var, type(var))"
   ]
  },
  {
   "cell_type": "markdown",
   "metadata": {},
   "source": [
    "#### ES. 2: Casting da float a intero"
   ]
  },
  {
   "cell_type": "code",
   "execution_count": 12,
   "metadata": {
    "colab": {
     "base_uri": "https://localhost:8080/",
     "height": 35
    },
    "colab_type": "code",
    "id": "nU-DSTsHQiMZ",
    "outputId": "7aeece43-ba38-46e4-961a-b4f6974241d5"
   },
   "outputs": [
    {
     "name": "stdout",
     "output_type": "stream",
     "text": [
      "1 <class 'int'>\n"
     ]
    }
   ],
   "source": [
    "var = 1.5 # float\n",
    "var = int(var) # da float a intero\n",
    "print(var, type(var))"
   ]
  },
  {
   "cell_type": "markdown",
   "metadata": {},
   "source": [
    "#### ES. 3: Casting da intero a stringa"
   ]
  },
  {
   "cell_type": "code",
   "execution_count": 14,
   "metadata": {
    "colab": {
     "base_uri": "https://localhost:8080/",
     "height": 35
    },
    "colab_type": "code",
    "id": "KD5v_-8dPtgd",
    "outputId": "cb1e2c32-c88c-44cf-f248-4958fc8227f0"
   },
   "outputs": [
    {
     "name": "stdout",
     "output_type": "stream",
     "text": [
      "5 <class 'str'>\n"
     ]
    }
   ],
   "source": [
    "var = 5 # intero\n",
    "var = str(var) # da intero a stringa\n",
    "print(var, type(var))"
   ]
  },
  {
   "cell_type": "markdown",
   "metadata": {},
   "source": [
    "#### ES. 4: Casting da stringa a intero"
   ]
  },
  {
   "cell_type": "code",
   "execution_count": 15,
   "metadata": {
    "colab": {
     "base_uri": "https://localhost:8080/",
     "height": 35
    },
    "colab_type": "code",
    "id": "AVEw1OzJQLw2",
    "outputId": "682afb4d-f73a-45c8-a697-3280ca7d3df8"
   },
   "outputs": [
    {
     "name": "stdout",
     "output_type": "stream",
     "text": [
      "5 <class 'int'>\n"
     ]
    }
   ],
   "source": [
    "var = \"5\" # stringa\n",
    "var = int(var) # da stringa a intero\n",
    "print(var, type(var))"
   ]
  },
  {
   "cell_type": "markdown",
   "metadata": {},
   "source": [
    "#### ES. 5: Casting da stringa a intero fatto male\n",
    "\n",
    "Se proviamo a convertire una stringa, che non contiene un numero, in un numero, otterremo un'eccezione. Le eccezioni sono i segnali che Python ci manda per comunicarci che si è verificato un'errore. Parleremo delle eccezioni nel dettaglio più avanti."
   ]
  },
  {
   "cell_type": "code",
   "execution_count": 17,
   "metadata": {
    "colab": {
     "base_uri": "https://localhost:8080/",
     "height": 201
    },
    "colab_type": "code",
    "id": "ZQ19r_PNQ8OY",
    "outputId": "217222dc-48cc-456f-9e8f-682da2a79275"
   },
   "outputs": [
    {
     "ename": "ValueError",
     "evalue": "ignored",
     "output_type": "error",
     "traceback": [
      "\u001b[0;31m---------------------------------------------------------------------------\u001b[0m",
      "\u001b[0;31mValueError\u001b[0m                                Traceback (most recent call last)",
      "\u001b[0;32m<ipython-input-17-6b04af5af7aa>\u001b[0m in \u001b[0;36m<module>\u001b[0;34m()\u001b[0m\n\u001b[1;32m      1\u001b[0m \u001b[0mvar\u001b[0m \u001b[0;34m=\u001b[0m \u001b[0;34m\"boh\"\u001b[0m \u001b[0;31m# stringa che non contiene un numero\u001b[0m\u001b[0;34m\u001b[0m\u001b[0;34m\u001b[0m\u001b[0m\n\u001b[0;32m----> 2\u001b[0;31m \u001b[0mvar\u001b[0m \u001b[0;34m=\u001b[0m \u001b[0mint\u001b[0m\u001b[0;34m(\u001b[0m\u001b[0mvar\u001b[0m\u001b[0;34m)\u001b[0m \u001b[0;31m# da stringa a intero, qui si scatena un'eccezione\u001b[0m\u001b[0;34m\u001b[0m\u001b[0;34m\u001b[0m\u001b[0m\n\u001b[0m\u001b[1;32m      3\u001b[0m \u001b[0mprint\u001b[0m\u001b[0;34m(\u001b[0m\u001b[0mvar\u001b[0m\u001b[0;34m,\u001b[0m \u001b[0mtype\u001b[0m\u001b[0;34m(\u001b[0m\u001b[0mvar\u001b[0m\u001b[0;34m)\u001b[0m\u001b[0;34m)\u001b[0m\u001b[0;34m\u001b[0m\u001b[0;34m\u001b[0m\u001b[0m\n",
      "\u001b[0;31mValueError\u001b[0m: invalid literal for int() with base 10: 'boh'"
     ]
    }
   ],
   "source": [
    "var = \"boh\" # stringa che non contiene un numero\n",
    "var = int(var) # da stringa a intero, qui si scatena un'eccezione\n",
    "print(var, type(var))"
   ]
  },
  {
   "cell_type": "markdown",
   "metadata": {
    "colab_type": "text",
    "id": "Q-pl3kIVRr-i"
   },
   "source": [
    "## Formattazione\n",
    "La formattazione ci permette di inserire cifre e variabili all'interno di stringhe in un formato da noi desiderato. L'esempio più classico di formattazione è quello eseguito con l'operatore di formattazione %d."
   ]
  },
  {
   "cell_type": "code",
   "execution_count": 18,
   "metadata": {
    "colab": {
     "base_uri": "https://localhost:8080/",
     "height": 35
    },
    "colab_type": "code",
    "id": "1xRFxFksRNIH",
    "outputId": "a871bc0e-78d9-49d8-bb84-10e4d46b85f9"
   },
   "outputs": [
    {
     "name": "stdout",
     "output_type": "stream",
     "text": [
      "Hai 25 anni\n"
     ]
    }
   ],
   "source": [
    "age = 25\n",
    "print(\"Hai %d anni\" % age)"
   ]
  },
  {
   "cell_type": "markdown",
   "metadata": {
    "colab_type": "text",
    "id": "dh_2rOL-Ryqw"
   },
   "source": [
    "Il carattere dopo l'operatore di formattazione indica il tipo di variabile, i principali sono:\n",
    "\n",
    "* **%d**: numero intero\n",
    "* **%f**: numero in virgola mobile\n",
    "* **%s**: stringa\n",
    "\n",
    "[Qui](https://docs.python.org/3/library/stdtypes.html#old-string-formatting) puoi trovare la lista completa.\n",
    "\n",
    "Possiamo anche utilizzare più operatori di formattazione all'interno di una stringa.\n"
   ]
  },
  {
   "cell_type": "code",
   "execution_count": 0,
   "metadata": {
    "colab": {},
    "colab_type": "code",
    "id": "9kYa9xBrUtvU"
   },
   "outputs": [],
   "source": [
    "my_name = input(\"Come ti chiami ? \")\n",
    "my_age = input(\"Quanti anni hai ? \")\n",
    "my_age = int(my_age)\n",
    "my_born = 2019-my_age"
   ]
  },
  {
   "cell_type": "code",
   "execution_count": 19,
   "metadata": {
    "colab": {
     "base_uri": "https://localhost:8080/",
     "height": 69
    },
    "colab_type": "code",
    "id": "BPVoITKJR1Wb",
    "outputId": "f579f051-1145-44b1-ba21-d2dde5c9cc89"
   },
   "outputs": [
    {
     "name": "stdout",
     "output_type": "stream",
     "text": [
      "Come ti chiami ? Giuseppe\n",
      "Quanti anni hai ? 25\n",
      "Il tuo nome è Giuseppe hai 25 anni, quindi sei nato nel 1994\n"
     ]
    }
   ],
   "source": [
    "print(\"Il tuo nome è %s hai %d anni, quindi sei nato nel %d\" % (my_name, my_age, my_born))"
   ]
  },
  {
   "cell_type": "markdown",
   "metadata": {
    "colab_type": "text",
    "id": "Mbd1B_J6ShvZ"
   },
   "source": [
    "**NOTA BENE** la funzione input ritorna una stringa, quindi abbiamo dovuto usare il casting per convertirla in un'intero\n",
    "<br><br>\n",
    "Un'altra soluzione ancora, quella consigliata per Python 3, consiste nell'utilizzare il metodo lo *format*."
   ]
  },
  {
   "cell_type": "code",
   "execution_count": 24,
   "metadata": {
    "colab": {
     "base_uri": "https://localhost:8080/",
     "height": 69
    },
    "colab_type": "code",
    "id": "XeC5kNzjTwHA",
    "outputId": "b751bb88-7d3b-4174-87cd-dfd58ab3fb0a"
   },
   "outputs": [
    {
     "name": "stdout",
     "output_type": "stream",
     "text": [
      "Come ti chiami ? Giuseppe\n",
      "Quanti anni hai ? 25\n",
      "Il tuo nome è Giuseppe hai 25 anni, quindi sei nato nel 1994\n"
     ]
    }
   ],
   "source": [
    "print(\"Il tuo nome è {name} hai {age} anni, quindi sei nato nel {born}\".format(name=my_name, age=my_age, born=my_born))"
   ]
  },
  {
   "cell_type": "markdown",
   "metadata": {
    "colab_type": "text",
    "id": "39uiSiLaUkkG"
   },
   "source": [
    "Se usiamo una versione di Python superiore alla 3.6 abbiamo anche un'altro modo per formattare le stringhe, chiamato **f-strings**"
   ]
  },
  {
   "cell_type": "code",
   "execution_count": 26,
   "metadata": {
    "colab": {
     "base_uri": "https://localhost:8080/",
     "height": 35
    },
    "colab_type": "code",
    "id": "h1JOdItXUSlV",
    "outputId": "b81bfe0d-88ea-41e2-9e67-46dc6ba8029a"
   },
   "outputs": [
    {
     "name": "stdout",
     "output_type": "stream",
     "text": [
      "Il tuo nome è Giuseppe hai 25 anni, quindi sei nato nel 1994\n"
     ]
    }
   ],
   "source": [
    "print(f\"Il tuo nome è {my_name} hai {my_age} anni, quindi sei nato nel {my_born}\")"
   ]
  }
 ],
 "metadata": {
  "colab": {
   "include_colab_link": true,
   "name": "io_and_var.ipynb",
   "provenance": []
  },
  "kernelspec": {
   "display_name": "Python 3",
   "language": "python",
   "name": "python3"
  },
  "language_info": {
   "codemirror_mode": {
    "name": "ipython",
    "version": 3
   },
   "file_extension": ".py",
   "mimetype": "text/x-python",
   "name": "python",
   "nbconvert_exporter": "python",
   "pygments_lexer": "ipython3",
   "version": "3.7.4"
  }
 },
 "nbformat": 4,
 "nbformat_minor": 1
}
